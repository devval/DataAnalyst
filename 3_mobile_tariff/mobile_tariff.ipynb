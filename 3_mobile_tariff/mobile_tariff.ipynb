{
 "cells": [
  {
   "cell_type": "markdown",
   "metadata": {},
   "source": [
    "# Определение перспективного тарифа для телеком компании"
   ]
  },
  {
   "cell_type": "markdown",
   "metadata": {},
   "source": [
    "На основе данных клиентов оператора сотовой связи провести анализ двух тарифных планов: «Смарт» и «Ультра». Рассмотреть поведение клиентов и выбрать перспективный тарифный план."
   ]
  },
  {
   "cell_type": "markdown",
   "metadata": {},
   "source": [
    "Описание тарифов:\n",
    "\n",
    "\n",
    "Тариф «Смарт»\n",
    "Ежемесячная плата: 550 рублей\n",
    "Включено 500 минут разговора, 50 сообщений и 15 Гб интернет-трафика\n",
    "Стоимость услуг сверх тарифного пакета:\n",
    "минута разговора: 3 рубля\n",
    "сообщение: 3 рубля\n",
    "1 Гб интернет-трафика: 200 рублей"
   ]
  },
  {
   "cell_type": "markdown",
   "metadata": {},
   "source": [
    "Тариф «Ультра»\n",
    "Ежемесячная плата: 1950 рублей\n",
    "Включено 3000 минут разговора, 1000 сообщений и 30 Гб интернет-трафика\n",
    "Стоимость услуг сверх тарифного пакета:\n",
    "минута разговора: 1 рубль\n",
    "сообщение: 1 рубль\n",
    "1 Гб интернет-трафика: 150 рублей\n",
    "Обратите внимание: значения минут и мегабайтов округляется вверх . Если пользователь проговорил всего 1 секунду, в тарифе засчитывается целая минута."
   ]
  },
  {
   "cell_type": "markdown",
   "metadata": {},
   "source": [
    "# Шаг 1. Загрузка данных"
   ]
  },
  {
   "cell_type": "code",
   "execution_count": 1,
   "metadata": {},
   "outputs": [],
   "source": [
    "# импорт библиотек\n",
    "import pandas as pd\n",
    "import matplotlib.pyplot as plt \n",
    "from IPython.display import display\n",
    "import warnings\n",
    "warnings.simplefilter(\"ignore\")\n",
    "import numpy as np\n",
    "import matplotlib.pyplot as plt\n",
    "from scipy import stats as st"
   ]
  },
  {
   "cell_type": "code",
   "execution_count": 2,
   "metadata": {},
   "outputs": [
    {
     "data": {
      "text/html": [
       "<div>\n",
       "<style scoped>\n",
       "    .dataframe tbody tr th:only-of-type {\n",
       "        vertical-align: middle;\n",
       "    }\n",
       "\n",
       "    .dataframe tbody tr th {\n",
       "        vertical-align: top;\n",
       "    }\n",
       "\n",
       "    .dataframe thead th {\n",
       "        text-align: right;\n",
       "    }\n",
       "</style>\n",
       "<table border=\"1\" class=\"dataframe\">\n",
       "  <thead>\n",
       "    <tr style=\"text-align: right;\">\n",
       "      <th></th>\n",
       "      <th>id</th>\n",
       "      <th>call_date</th>\n",
       "      <th>duration</th>\n",
       "      <th>user_id</th>\n",
       "    </tr>\n",
       "  </thead>\n",
       "  <tbody>\n",
       "    <tr>\n",
       "      <th>161989</th>\n",
       "      <td>1396_690</td>\n",
       "      <td>2018-05-30</td>\n",
       "      <td>0.00</td>\n",
       "      <td>1396</td>\n",
       "    </tr>\n",
       "    <tr>\n",
       "      <th>130041</th>\n",
       "      <td>1332_352</td>\n",
       "      <td>2018-10-29</td>\n",
       "      <td>4.55</td>\n",
       "      <td>1332</td>\n",
       "    </tr>\n",
       "    <tr>\n",
       "      <th>172279</th>\n",
       "      <td>1425_891</td>\n",
       "      <td>2018-12-10</td>\n",
       "      <td>6.33</td>\n",
       "      <td>1425</td>\n",
       "    </tr>\n",
       "    <tr>\n",
       "      <th>119126</th>\n",
       "      <td>1307_600</td>\n",
       "      <td>2018-07-03</td>\n",
       "      <td>0.00</td>\n",
       "      <td>1307</td>\n",
       "    </tr>\n",
       "    <tr>\n",
       "      <th>197691</th>\n",
       "      <td>1483_640</td>\n",
       "      <td>2018-05-27</td>\n",
       "      <td>0.00</td>\n",
       "      <td>1483</td>\n",
       "    </tr>\n",
       "  </tbody>\n",
       "</table>\n",
       "</div>"
      ],
      "text/plain": [
       "              id   call_date  duration  user_id\n",
       "161989  1396_690  2018-05-30      0.00     1396\n",
       "130041  1332_352  2018-10-29      4.55     1332\n",
       "172279  1425_891  2018-12-10      6.33     1425\n",
       "119126  1307_600  2018-07-03      0.00     1307\n",
       "197691  1483_640  2018-05-27      0.00     1483"
      ]
     },
     "execution_count": 2,
     "metadata": {},
     "output_type": "execute_result"
    }
   ],
   "source": [
    "calls_data_real = pd.read_csv('calls.csv')\n",
    "calls_data = calls_data_real.copy() #копия датафрейма\n",
    "calls_data.sample(5)"
   ]
  },
  {
   "cell_type": "code",
   "execution_count": 3,
   "metadata": {},
   "outputs": [
    {
     "name": "stdout",
     "output_type": "stream",
     "text": [
      "<class 'pandas.core.frame.DataFrame'>\n",
      "RangeIndex: 202607 entries, 0 to 202606\n",
      "Data columns (total 4 columns):\n",
      " #   Column     Non-Null Count   Dtype  \n",
      "---  ------     --------------   -----  \n",
      " 0   id         202607 non-null  object \n",
      " 1   call_date  202607 non-null  object \n",
      " 2   duration   202607 non-null  float64\n",
      " 3   user_id    202607 non-null  int64  \n",
      "dtypes: float64(1), int64(1), object(2)\n",
      "memory usage: 6.2+ MB\n"
     ]
    }
   ],
   "source": [
    "calls_data.info()"
   ]
  },
  {
   "cell_type": "markdown",
   "metadata": {},
   "source": [
    "Таблица calls (информация о звонках):\n",
    "id — уникальный номер звонка;\n",
    "call_date — дата звонка;\n",
    "duration — длительность звонка в минутах;\n",
    "user_id — идентификатор пользователя, сделавшего звонок.\n",
    "Пропусков в таблице нет."
   ]
  },
  {
   "cell_type": "code",
   "execution_count": 4,
   "metadata": {},
   "outputs": [
    {
     "data": {
      "text/html": [
       "<div>\n",
       "<style scoped>\n",
       "    .dataframe tbody tr th:only-of-type {\n",
       "        vertical-align: middle;\n",
       "    }\n",
       "\n",
       "    .dataframe tbody tr th {\n",
       "        vertical-align: top;\n",
       "    }\n",
       "\n",
       "    .dataframe thead th {\n",
       "        text-align: right;\n",
       "    }\n",
       "</style>\n",
       "<table border=\"1\" class=\"dataframe\">\n",
       "  <thead>\n",
       "    <tr style=\"text-align: right;\">\n",
       "      <th></th>\n",
       "      <th>Unnamed: 0</th>\n",
       "      <th>id</th>\n",
       "      <th>mb_used</th>\n",
       "      <th>session_date</th>\n",
       "      <th>user_id</th>\n",
       "    </tr>\n",
       "  </thead>\n",
       "  <tbody>\n",
       "    <tr>\n",
       "      <th>0</th>\n",
       "      <td>0</td>\n",
       "      <td>1000_0</td>\n",
       "      <td>112.95</td>\n",
       "      <td>2018-11-25</td>\n",
       "      <td>1000</td>\n",
       "    </tr>\n",
       "    <tr>\n",
       "      <th>1</th>\n",
       "      <td>1</td>\n",
       "      <td>1000_1</td>\n",
       "      <td>1052.81</td>\n",
       "      <td>2018-09-07</td>\n",
       "      <td>1000</td>\n",
       "    </tr>\n",
       "    <tr>\n",
       "      <th>2</th>\n",
       "      <td>2</td>\n",
       "      <td>1000_2</td>\n",
       "      <td>1197.26</td>\n",
       "      <td>2018-06-25</td>\n",
       "      <td>1000</td>\n",
       "    </tr>\n",
       "    <tr>\n",
       "      <th>3</th>\n",
       "      <td>3</td>\n",
       "      <td>1000_3</td>\n",
       "      <td>550.27</td>\n",
       "      <td>2018-08-22</td>\n",
       "      <td>1000</td>\n",
       "    </tr>\n",
       "    <tr>\n",
       "      <th>4</th>\n",
       "      <td>4</td>\n",
       "      <td>1000_4</td>\n",
       "      <td>302.56</td>\n",
       "      <td>2018-09-24</td>\n",
       "      <td>1000</td>\n",
       "    </tr>\n",
       "  </tbody>\n",
       "</table>\n",
       "</div>"
      ],
      "text/plain": [
       "   Unnamed: 0      id  mb_used session_date  user_id\n",
       "0           0  1000_0   112.95   2018-11-25     1000\n",
       "1           1  1000_1  1052.81   2018-09-07     1000\n",
       "2           2  1000_2  1197.26   2018-06-25     1000\n",
       "3           3  1000_3   550.27   2018-08-22     1000\n",
       "4           4  1000_4   302.56   2018-09-24     1000"
      ]
     },
     "execution_count": 4,
     "metadata": {},
     "output_type": "execute_result"
    }
   ],
   "source": [
    "internet_data_real = pd.read_csv('internet.csv')\n",
    "internet_data = internet_data_real.copy() #копия датафрейма\n",
    "internet_data.head()"
   ]
  },
  {
   "cell_type": "code",
   "execution_count": 5,
   "metadata": {},
   "outputs": [
    {
     "name": "stdout",
     "output_type": "stream",
     "text": [
      "<class 'pandas.core.frame.DataFrame'>\n",
      "RangeIndex: 149396 entries, 0 to 149395\n",
      "Data columns (total 5 columns):\n",
      " #   Column        Non-Null Count   Dtype  \n",
      "---  ------        --------------   -----  \n",
      " 0   Unnamed: 0    149396 non-null  int64  \n",
      " 1   id            149396 non-null  object \n",
      " 2   mb_used       149396 non-null  float64\n",
      " 3   session_date  149396 non-null  object \n",
      " 4   user_id       149396 non-null  int64  \n",
      "dtypes: float64(1), int64(2), object(2)\n",
      "memory usage: 5.7+ MB\n"
     ]
    }
   ],
   "source": [
    "internet_data.info()"
   ]
  },
  {
   "cell_type": "markdown",
   "metadata": {},
   "source": [
    "Таблица internet (информация об интернет-сессиях):\n",
    "id — уникальный номер сессии\n",
    "mb_used — объём потраченного за сессию интернет-трафика (в мегабайтах)\n",
    "session_date — дата интернет-сессии\n",
    "user_id — идентификатор пользователя.\n",
    "Пропусков в таблице нет."
   ]
  },
  {
   "cell_type": "code",
   "execution_count": 6,
   "metadata": {},
   "outputs": [
    {
     "data": {
      "text/html": [
       "<div>\n",
       "<style scoped>\n",
       "    .dataframe tbody tr th:only-of-type {\n",
       "        vertical-align: middle;\n",
       "    }\n",
       "\n",
       "    .dataframe tbody tr th {\n",
       "        vertical-align: top;\n",
       "    }\n",
       "\n",
       "    .dataframe thead th {\n",
       "        text-align: right;\n",
       "    }\n",
       "</style>\n",
       "<table border=\"1\" class=\"dataframe\">\n",
       "  <thead>\n",
       "    <tr style=\"text-align: right;\">\n",
       "      <th></th>\n",
       "      <th>id</th>\n",
       "      <th>message_date</th>\n",
       "      <th>user_id</th>\n",
       "    </tr>\n",
       "  </thead>\n",
       "  <tbody>\n",
       "    <tr>\n",
       "      <th>0</th>\n",
       "      <td>1000_0</td>\n",
       "      <td>2018-06-27</td>\n",
       "      <td>1000</td>\n",
       "    </tr>\n",
       "    <tr>\n",
       "      <th>1</th>\n",
       "      <td>1000_1</td>\n",
       "      <td>2018-10-08</td>\n",
       "      <td>1000</td>\n",
       "    </tr>\n",
       "    <tr>\n",
       "      <th>2</th>\n",
       "      <td>1000_2</td>\n",
       "      <td>2018-08-04</td>\n",
       "      <td>1000</td>\n",
       "    </tr>\n",
       "    <tr>\n",
       "      <th>3</th>\n",
       "      <td>1000_3</td>\n",
       "      <td>2018-06-16</td>\n",
       "      <td>1000</td>\n",
       "    </tr>\n",
       "    <tr>\n",
       "      <th>4</th>\n",
       "      <td>1000_4</td>\n",
       "      <td>2018-12-05</td>\n",
       "      <td>1000</td>\n",
       "    </tr>\n",
       "  </tbody>\n",
       "</table>\n",
       "</div>"
      ],
      "text/plain": [
       "       id message_date  user_id\n",
       "0  1000_0   2018-06-27     1000\n",
       "1  1000_1   2018-10-08     1000\n",
       "2  1000_2   2018-08-04     1000\n",
       "3  1000_3   2018-06-16     1000\n",
       "4  1000_4   2018-12-05     1000"
      ]
     },
     "execution_count": 6,
     "metadata": {},
     "output_type": "execute_result"
    }
   ],
   "source": [
    "messages_data_real = pd.read_csv('messages.csv')\n",
    "messages_data = messages_data_real.copy() #копия датафрейма\n",
    "messages_data.head()"
   ]
  },
  {
   "cell_type": "code",
   "execution_count": 7,
   "metadata": {},
   "outputs": [
    {
     "name": "stdout",
     "output_type": "stream",
     "text": [
      "<class 'pandas.core.frame.DataFrame'>\n",
      "RangeIndex: 123036 entries, 0 to 123035\n",
      "Data columns (total 3 columns):\n",
      " #   Column        Non-Null Count   Dtype \n",
      "---  ------        --------------   ----- \n",
      " 0   id            123036 non-null  object\n",
      " 1   message_date  123036 non-null  object\n",
      " 2   user_id       123036 non-null  int64 \n",
      "dtypes: int64(1), object(2)\n",
      "memory usage: 2.8+ MB\n"
     ]
    }
   ],
   "source": [
    "messages_data.info()"
   ]
  },
  {
   "cell_type": "markdown",
   "metadata": {},
   "source": [
    "Таблица messages (информация о сообщениях):\n",
    "id — уникальный номер сообщения\n",
    "message_date — дата сообщения\n",
    "user_id — идентификатор пользователя, отправившего сообщение.\n",
    "Пропусков в таблице нет."
   ]
  },
  {
   "cell_type": "code",
   "execution_count": 8,
   "metadata": {},
   "outputs": [
    {
     "data": {
      "text/html": [
       "<div>\n",
       "<style scoped>\n",
       "    .dataframe tbody tr th:only-of-type {\n",
       "        vertical-align: middle;\n",
       "    }\n",
       "\n",
       "    .dataframe tbody tr th {\n",
       "        vertical-align: top;\n",
       "    }\n",
       "\n",
       "    .dataframe thead th {\n",
       "        text-align: right;\n",
       "    }\n",
       "</style>\n",
       "<table border=\"1\" class=\"dataframe\">\n",
       "  <thead>\n",
       "    <tr style=\"text-align: right;\">\n",
       "      <th></th>\n",
       "      <th>messages_included</th>\n",
       "      <th>mb_per_month_included</th>\n",
       "      <th>minutes_included</th>\n",
       "      <th>rub_monthly_fee</th>\n",
       "      <th>rub_per_gb</th>\n",
       "      <th>rub_per_message</th>\n",
       "      <th>rub_per_minute</th>\n",
       "      <th>tariff_name</th>\n",
       "    </tr>\n",
       "  </thead>\n",
       "  <tbody>\n",
       "    <tr>\n",
       "      <th>0</th>\n",
       "      <td>50</td>\n",
       "      <td>15360</td>\n",
       "      <td>500</td>\n",
       "      <td>550</td>\n",
       "      <td>200</td>\n",
       "      <td>3</td>\n",
       "      <td>3</td>\n",
       "      <td>smart</td>\n",
       "    </tr>\n",
       "    <tr>\n",
       "      <th>1</th>\n",
       "      <td>1000</td>\n",
       "      <td>30720</td>\n",
       "      <td>3000</td>\n",
       "      <td>1950</td>\n",
       "      <td>150</td>\n",
       "      <td>1</td>\n",
       "      <td>1</td>\n",
       "      <td>ultra</td>\n",
       "    </tr>\n",
       "  </tbody>\n",
       "</table>\n",
       "</div>"
      ],
      "text/plain": [
       "   messages_included  mb_per_month_included  minutes_included  \\\n",
       "0                 50                  15360               500   \n",
       "1               1000                  30720              3000   \n",
       "\n",
       "   rub_monthly_fee  rub_per_gb  rub_per_message  rub_per_minute tariff_name  \n",
       "0              550         200                3               3       smart  \n",
       "1             1950         150                1               1       ultra  "
      ]
     },
     "execution_count": 8,
     "metadata": {},
     "output_type": "execute_result"
    }
   ],
   "source": [
    "tariffs_data_real = pd.read_csv('tariffs.csv')\n",
    "tariffs_data = tariffs_data_real.copy() #копия датафрейма\n",
    "tariffs_data"
   ]
  },
  {
   "cell_type": "code",
   "execution_count": 9,
   "metadata": {},
   "outputs": [
    {
     "name": "stdout",
     "output_type": "stream",
     "text": [
      "<class 'pandas.core.frame.DataFrame'>\n",
      "RangeIndex: 2 entries, 0 to 1\n",
      "Data columns (total 8 columns):\n",
      " #   Column                 Non-Null Count  Dtype \n",
      "---  ------                 --------------  ----- \n",
      " 0   messages_included      2 non-null      int64 \n",
      " 1   mb_per_month_included  2 non-null      int64 \n",
      " 2   minutes_included       2 non-null      int64 \n",
      " 3   rub_monthly_fee        2 non-null      int64 \n",
      " 4   rub_per_gb             2 non-null      int64 \n",
      " 5   rub_per_message        2 non-null      int64 \n",
      " 6   rub_per_minute         2 non-null      int64 \n",
      " 7   tariff_name            2 non-null      object\n",
      "dtypes: int64(7), object(1)\n",
      "memory usage: 256.0+ bytes\n"
     ]
    }
   ],
   "source": [
    "tariffs_data.info()"
   ]
  },
  {
   "cell_type": "markdown",
   "metadata": {},
   "source": [
    "Таблица tariffs (информация о тарифах):\n",
    "tariff_name — название тарифа;\n",
    "rub_monthly_fee — ежемесячная абонентская плата в рублях;\n",
    "minutes_included — количество минут разговора в месяц, включённых в абонентскую плату;\n",
    "messages_included — количество сообщений в месяц, включённых в абонентскую плату;\n",
    "mb_per_month_included — объём интернет-трафика, включённого в абонентскую плату (в мегабайтах);\n",
    "rub_per_minute — стоимость минуты разговора сверх тарифного пакета (например, если в тарифе 100 минут разговора в месяц, то со 101 минуты будет взиматься плата);\n",
    "rub_per_message — стоимость отправки сообщения сверх тарифного пакета;\n",
    "rub_per_gb — стоимость дополнительного гигабайта интернет-трафика сверх тарифного пакета (1 гигабайт = 1024 мегабайта). Пропусков в таблице нет."
   ]
  },
  {
   "cell_type": "code",
   "execution_count": 10,
   "metadata": {},
   "outputs": [
    {
     "data": {
      "text/html": [
       "<div>\n",
       "<style scoped>\n",
       "    .dataframe tbody tr th:only-of-type {\n",
       "        vertical-align: middle;\n",
       "    }\n",
       "\n",
       "    .dataframe tbody tr th {\n",
       "        vertical-align: top;\n",
       "    }\n",
       "\n",
       "    .dataframe thead th {\n",
       "        text-align: right;\n",
       "    }\n",
       "</style>\n",
       "<table border=\"1\" class=\"dataframe\">\n",
       "  <thead>\n",
       "    <tr style=\"text-align: right;\">\n",
       "      <th></th>\n",
       "      <th>user_id</th>\n",
       "      <th>age</th>\n",
       "      <th>churn_date</th>\n",
       "      <th>city</th>\n",
       "      <th>first_name</th>\n",
       "      <th>last_name</th>\n",
       "      <th>reg_date</th>\n",
       "      <th>tariff</th>\n",
       "    </tr>\n",
       "  </thead>\n",
       "  <tbody>\n",
       "    <tr>\n",
       "      <th>495</th>\n",
       "      <td>1495</td>\n",
       "      <td>65</td>\n",
       "      <td>NaN</td>\n",
       "      <td>Иркутск</td>\n",
       "      <td>Авксентий</td>\n",
       "      <td>Фокин</td>\n",
       "      <td>2018-08-28</td>\n",
       "      <td>ultra</td>\n",
       "    </tr>\n",
       "    <tr>\n",
       "      <th>496</th>\n",
       "      <td>1496</td>\n",
       "      <td>36</td>\n",
       "      <td>NaN</td>\n",
       "      <td>Вологда</td>\n",
       "      <td>Трифон</td>\n",
       "      <td>Блохин</td>\n",
       "      <td>2018-01-27</td>\n",
       "      <td>smart</td>\n",
       "    </tr>\n",
       "    <tr>\n",
       "      <th>497</th>\n",
       "      <td>1497</td>\n",
       "      <td>32</td>\n",
       "      <td>NaN</td>\n",
       "      <td>Челябинск</td>\n",
       "      <td>Каролина</td>\n",
       "      <td>Агеева</td>\n",
       "      <td>2018-10-09</td>\n",
       "      <td>smart</td>\n",
       "    </tr>\n",
       "    <tr>\n",
       "      <th>498</th>\n",
       "      <td>1498</td>\n",
       "      <td>68</td>\n",
       "      <td>2018-10-25</td>\n",
       "      <td>Владикавказ</td>\n",
       "      <td>Всеволод</td>\n",
       "      <td>Акимчин</td>\n",
       "      <td>2018-07-19</td>\n",
       "      <td>smart</td>\n",
       "    </tr>\n",
       "    <tr>\n",
       "      <th>499</th>\n",
       "      <td>1499</td>\n",
       "      <td>35</td>\n",
       "      <td>NaN</td>\n",
       "      <td>Пермь</td>\n",
       "      <td>Гектор</td>\n",
       "      <td>Корнилов</td>\n",
       "      <td>2018-09-27</td>\n",
       "      <td>smart</td>\n",
       "    </tr>\n",
       "  </tbody>\n",
       "</table>\n",
       "</div>"
      ],
      "text/plain": [
       "     user_id  age  churn_date         city first_name last_name    reg_date  \\\n",
       "495     1495   65         NaN      Иркутск  Авксентий     Фокин  2018-08-28   \n",
       "496     1496   36         NaN      Вологда     Трифон    Блохин  2018-01-27   \n",
       "497     1497   32         NaN    Челябинск   Каролина    Агеева  2018-10-09   \n",
       "498     1498   68  2018-10-25  Владикавказ   Всеволод   Акимчин  2018-07-19   \n",
       "499     1499   35         NaN        Пермь     Гектор  Корнилов  2018-09-27   \n",
       "\n",
       "    tariff  \n",
       "495  ultra  \n",
       "496  smart  \n",
       "497  smart  \n",
       "498  smart  \n",
       "499  smart  "
      ]
     },
     "execution_count": 10,
     "metadata": {},
     "output_type": "execute_result"
    }
   ],
   "source": [
    "users_data_real = pd.read_csv('users.csv')\n",
    "users_data = users_data_real.copy() #копия датафрейма\n",
    "users_data.tail()"
   ]
  },
  {
   "cell_type": "code",
   "execution_count": 11,
   "metadata": {},
   "outputs": [
    {
     "name": "stdout",
     "output_type": "stream",
     "text": [
      "<class 'pandas.core.frame.DataFrame'>\n",
      "RangeIndex: 500 entries, 0 to 499\n",
      "Data columns (total 8 columns):\n",
      " #   Column      Non-Null Count  Dtype \n",
      "---  ------      --------------  ----- \n",
      " 0   user_id     500 non-null    int64 \n",
      " 1   age         500 non-null    int64 \n",
      " 2   churn_date  38 non-null     object\n",
      " 3   city        500 non-null    object\n",
      " 4   first_name  500 non-null    object\n",
      " 5   last_name   500 non-null    object\n",
      " 6   reg_date    500 non-null    object\n",
      " 7   tariff      500 non-null    object\n",
      "dtypes: int64(2), object(6)\n",
      "memory usage: 31.4+ KB\n"
     ]
    }
   ],
   "source": [
    "users_data.info()"
   ]
  },
  {
   "cell_type": "markdown",
   "metadata": {},
   "source": [
    "Таблица users (информация о пользователях):\n",
    "user_id — уникальный идентификатор пользователя;\n",
    "first_name — имя пользователя;\n",
    "last_name — фамилия пользователя;\n",
    "age — возраст пользователя (годы);\n",
    "reg_date — дата подключения тарифа (день, месяц, год);\n",
    "churn_date — дата прекращения пользования тарифом (если значение пропущено, то тариф ещё действовал на момент выгрузки данных);\n",
    "city — город проживания пользователя;\n",
    "tariff — название тарифного плана.\n",
    "\n",
    "Пропуски есть в churn_date, но они обоснованы (если значение пропущено, то тариф ещё действовал на момент выгрузки данных), поэтому заменять их не стоит. Практически все пользователи в данных имеют действующий тариф (462)."
   ]
  },
  {
   "cell_type": "markdown",
   "metadata": {},
   "source": [
    "Проверим данные на наличие пропусков вызовом набора методов для суммирования пропущенных значений."
   ]
  },
  {
   "cell_type": "code",
   "execution_count": 12,
   "metadata": {},
   "outputs": [
    {
     "name": "stdout",
     "output_type": "stream",
     "text": [
      "id           0\n",
      "call_date    0\n",
      "duration     0\n",
      "user_id      0\n",
      "dtype: int64\n",
      "Unnamed: 0      0\n",
      "id              0\n",
      "mb_used         0\n",
      "session_date    0\n",
      "user_id         0\n",
      "dtype: int64\n",
      "id              0\n",
      "message_date    0\n",
      "user_id         0\n",
      "dtype: int64\n",
      "messages_included        0\n",
      "mb_per_month_included    0\n",
      "minutes_included         0\n",
      "rub_monthly_fee          0\n",
      "rub_per_gb               0\n",
      "rub_per_message          0\n",
      "rub_per_minute           0\n",
      "tariff_name              0\n",
      "dtype: int64\n",
      "user_id         0\n",
      "age             0\n",
      "churn_date    462\n",
      "city            0\n",
      "first_name      0\n",
      "last_name       0\n",
      "reg_date        0\n",
      "tariff          0\n",
      "dtype: int64\n"
     ]
    }
   ],
   "source": [
    "print(calls_data.isnull().sum())\n",
    "print(internet_data.isnull().sum())\n",
    "print(messages_data.isnull().sum())\n",
    "print(tariffs_data.isnull().sum())\n",
    "print(users_data.isnull().sum())"
   ]
  },
  {
   "cell_type": "markdown",
   "metadata": {},
   "source": [
    "# Шаг 2. Подготовка данных"
   ]
  },
  {
   "cell_type": "markdown",
   "metadata": {},
   "source": [
    "## Замена типа данных"
   ]
  },
  {
   "cell_type": "markdown",
   "metadata": {},
   "source": [
    "Проверим типы данных в каждой из 5ти таблиц."
   ]
  },
  {
   "cell_type": "markdown",
   "metadata": {},
   "source": [
    "### Таблица calls (информация о звонках)"
   ]
  },
  {
   "cell_type": "code",
   "execution_count": 13,
   "metadata": {
    "scrolled": true
   },
   "outputs": [
    {
     "data": {
      "text/plain": [
       "id            object\n",
       "call_date     object\n",
       "duration     float64\n",
       "user_id        int64\n",
       "dtype: object"
      ]
     },
     "execution_count": 13,
     "metadata": {},
     "output_type": "execute_result"
    }
   ],
   "source": [
    "calls_data.dtypes"
   ]
  },
  {
   "cell_type": "markdown",
   "metadata": {},
   "source": [
    "Сейчас значения в столбце call_date (дата звонка) — это строки (тип данных object). Методом to_datetime() заменим содержимое этого столбца в даты."
   ]
  },
  {
   "cell_type": "code",
   "execution_count": 14,
   "metadata": {},
   "outputs": [],
   "source": [
    "calls_data['call_date']= pd.to_datetime(calls_data['call_date'], format='%Y-%m-%d')"
   ]
  },
  {
   "cell_type": "code",
   "execution_count": 15,
   "metadata": {},
   "outputs": [
    {
     "data": {
      "text/plain": [
       "id                   object\n",
       "call_date    datetime64[ns]\n",
       "duration            float64\n",
       "user_id               int64\n",
       "dtype: object"
      ]
     },
     "execution_count": 15,
     "metadata": {},
     "output_type": "execute_result"
    }
   ],
   "source": [
    "# Проверка замены типа данных\n",
    "calls_data.dtypes"
   ]
  },
  {
   "cell_type": "markdown",
   "metadata": {},
   "source": [
    "### Таблица internet (информация об интернет-сессиях)"
   ]
  },
  {
   "cell_type": "code",
   "execution_count": 16,
   "metadata": {},
   "outputs": [
    {
     "data": {
      "text/plain": [
       "Unnamed: 0        int64\n",
       "id               object\n",
       "mb_used         float64\n",
       "session_date     object\n",
       "user_id           int64\n",
       "dtype: object"
      ]
     },
     "execution_count": 16,
     "metadata": {},
     "output_type": "execute_result"
    }
   ],
   "source": [
    "internet_data.dtypes"
   ]
  },
  {
   "cell_type": "markdown",
   "metadata": {},
   "source": [
    "Сейчас значения в столбце session_date (дата интернет-сессии) — это строки (тип данных object). Методом to_datetime() заменим содержимое этого столбца в даты."
   ]
  },
  {
   "cell_type": "code",
   "execution_count": 17,
   "metadata": {},
   "outputs": [],
   "source": [
    "internet_data['session_date']= pd.to_datetime(internet_data['session_date'], format='%Y-%m-%d')"
   ]
  },
  {
   "cell_type": "code",
   "execution_count": 18,
   "metadata": {},
   "outputs": [
    {
     "data": {
      "text/plain": [
       "Unnamed: 0               int64\n",
       "id                      object\n",
       "mb_used                float64\n",
       "session_date    datetime64[ns]\n",
       "user_id                  int64\n",
       "dtype: object"
      ]
     },
     "execution_count": 18,
     "metadata": {},
     "output_type": "execute_result"
    }
   ],
   "source": [
    "# Проверка замены типа данных\n",
    "internet_data.dtypes"
   ]
  },
  {
   "cell_type": "markdown",
   "metadata": {},
   "source": [
    "### Таблица messages (информация о сообщениях)"
   ]
  },
  {
   "cell_type": "code",
   "execution_count": 19,
   "metadata": {},
   "outputs": [
    {
     "data": {
      "text/plain": [
       "id              object\n",
       "message_date    object\n",
       "user_id          int64\n",
       "dtype: object"
      ]
     },
     "execution_count": 19,
     "metadata": {},
     "output_type": "execute_result"
    }
   ],
   "source": [
    "messages_data.dtypes"
   ]
  },
  {
   "cell_type": "markdown",
   "metadata": {},
   "source": [
    "Сейчас значения в столбце message_date (дата сообщения) — это строки (тип данных object). Методом to_datetime() заменим содержимое этого столбца в даты."
   ]
  },
  {
   "cell_type": "code",
   "execution_count": 20,
   "metadata": {},
   "outputs": [],
   "source": [
    "messages_data['message_date']= pd.to_datetime(messages_data['message_date'], format='%Y-%m-%d')"
   ]
  },
  {
   "cell_type": "code",
   "execution_count": 21,
   "metadata": {},
   "outputs": [
    {
     "data": {
      "text/plain": [
       "id                      object\n",
       "message_date    datetime64[ns]\n",
       "user_id                  int64\n",
       "dtype: object"
      ]
     },
     "execution_count": 21,
     "metadata": {},
     "output_type": "execute_result"
    }
   ],
   "source": [
    "# Проверка замены типа данных \n",
    "messages_data.dtypes"
   ]
  },
  {
   "cell_type": "markdown",
   "metadata": {},
   "source": [
    "### Таблица tariffs (информация о тарифах)"
   ]
  },
  {
   "cell_type": "code",
   "execution_count": 22,
   "metadata": {},
   "outputs": [
    {
     "data": {
      "text/plain": [
       "messages_included         int64\n",
       "mb_per_month_included     int64\n",
       "minutes_included          int64\n",
       "rub_monthly_fee           int64\n",
       "rub_per_gb                int64\n",
       "rub_per_message           int64\n",
       "rub_per_minute            int64\n",
       "tariff_name              object\n",
       "dtype: object"
      ]
     },
     "execution_count": 22,
     "metadata": {},
     "output_type": "execute_result"
    }
   ],
   "source": [
    "tariffs_data.dtypes"
   ]
  },
  {
   "cell_type": "markdown",
   "metadata": {},
   "source": [
    "В данной таблице типы данных оставим исходные, так как они корректны."
   ]
  },
  {
   "cell_type": "markdown",
   "metadata": {},
   "source": [
    "### Таблица users (информация о пользователях)"
   ]
  },
  {
   "cell_type": "code",
   "execution_count": 23,
   "metadata": {},
   "outputs": [
    {
     "data": {
      "text/plain": [
       "user_id        int64\n",
       "age            int64\n",
       "churn_date    object\n",
       "city          object\n",
       "first_name    object\n",
       "last_name     object\n",
       "reg_date      object\n",
       "tariff        object\n",
       "dtype: object"
      ]
     },
     "execution_count": 23,
     "metadata": {},
     "output_type": "execute_result"
    }
   ],
   "source": [
    "users_data.dtypes"
   ]
  },
  {
   "cell_type": "markdown",
   "metadata": {},
   "source": [
    "Сейчас значения в столбцах churn_date (lата прекращения пользования тарифом) и reg_date (дата подключения тарифа)— это строки. Методом to_datetime() заменим содержимое столбцов в даты."
   ]
  },
  {
   "cell_type": "code",
   "execution_count": 24,
   "metadata": {},
   "outputs": [],
   "source": [
    "users_data['churn_date']= pd.to_datetime(users_data['churn_date'], format='%Y-%m-%d')\n",
    "users_data['reg_date']= pd.to_datetime(users_data['reg_date'], format='%Y-%m-%d')"
   ]
  },
  {
   "cell_type": "code",
   "execution_count": 25,
   "metadata": {},
   "outputs": [
    {
     "data": {
      "text/plain": [
       "user_id                int64\n",
       "age                    int64\n",
       "churn_date    datetime64[ns]\n",
       "city                  object\n",
       "first_name            object\n",
       "last_name             object\n",
       "reg_date      datetime64[ns]\n",
       "tariff                object\n",
       "dtype: object"
      ]
     },
     "execution_count": 25,
     "metadata": {},
     "output_type": "execute_result"
    }
   ],
   "source": [
    "# Проверка замены типа данных \n",
    "users_data.dtypes"
   ]
  },
  {
   "cell_type": "markdown",
   "metadata": {},
   "source": [
    "## Поиск ошибок в данных."
   ]
  },
  {
   "cell_type": "markdown",
   "metadata": {},
   "source": [
    "### Таблица calls (информация о звонках)"
   ]
  },
  {
   "cell_type": "code",
   "execution_count": 26,
   "metadata": {},
   "outputs": [
    {
     "name": "stdout",
     "output_type": "stream",
     "text": [
      "count                  202607\n",
      "unique                    365\n",
      "top       2018-12-31 00:00:00\n",
      "freq                     1435\n",
      "first     2018-01-01 00:00:00\n",
      "last      2018-12-31 00:00:00\n",
      "Name: call_date, dtype: object\n",
      "count    202607.000000\n",
      "mean          6.755887\n",
      "std           5.843365\n",
      "min           0.000000\n",
      "25%           1.300000\n",
      "50%           6.000000\n",
      "75%          10.700000\n",
      "max          38.000000\n",
      "Name: duration, dtype: float64\n"
     ]
    }
   ],
   "source": [
    "print(calls_data.call_date.describe())\n",
    "print(calls_data.duration.describe())"
   ]
  },
  {
   "cell_type": "markdown",
   "metadata": {},
   "source": [
    "В таблице представлены звонки пользователей за весь 2018 год. Встречаются строки с нулевой длиной разговора."
   ]
  },
  {
   "cell_type": "code",
   "execution_count": 27,
   "metadata": {},
   "outputs": [
    {
     "name": "stdout",
     "output_type": "stream",
     "text": [
      "0.00     39613\n",
      "4.49       142\n",
      "5.50       142\n",
      "6.15       141\n",
      "6.38       141\n",
      "         ...  \n",
      "27.02        1\n",
      "26.19        1\n",
      "25.34        1\n",
      "27.13        1\n",
      "24.28        1\n",
      "Name: duration, Length: 2871, dtype: int64\n"
     ]
    }
   ],
   "source": [
    "print(calls_data.duration.value_counts())"
   ]
  },
  {
   "cell_type": "markdown",
   "metadata": {},
   "source": [
    "У большого количества звонков (39613) длительность — 0.00 минут. Это проблема в данных, нужна предобработка.\n",
    "Значения минут округляется вверх . Если пользователь проговорил всего 1 секунду, в тарифе засчитывается целая минута. Данные представлены без округления до минут, поэтому округлим все значения в большую сторону.\n",
    "Если в таблице присутствует уникальный номер звонка, то звонок был и минимальная продолжительность времени, которую засчитывает оператор, равна одной минуте, тогда заменим все нули в столбце duration на единицы. "
   ]
  },
  {
   "cell_type": "code",
   "execution_count": 28,
   "metadata": {},
   "outputs": [],
   "source": [
    "# Замена нулей на единицы\n",
    "calls_data['duration'] = calls_data['duration'].replace(0,1)"
   ]
  },
  {
   "cell_type": "code",
   "execution_count": 29,
   "metadata": {},
   "outputs": [],
   "source": [
    "# Округляем до целых в большую сторону\n",
    "calls_data['duration'] = np.ceil(calls_data['duration'])"
   ]
  },
  {
   "cell_type": "markdown",
   "metadata": {},
   "source": [
    "Так как данные округлены до целых чисел, то заменим вещественный тип данных на целочисленный "
   ]
  },
  {
   "cell_type": "code",
   "execution_count": 30,
   "metadata": {},
   "outputs": [],
   "source": [
    "calls_data['duration'] = calls_data['duration'].astype('int')"
   ]
  },
  {
   "cell_type": "code",
   "execution_count": 31,
   "metadata": {},
   "outputs": [
    {
     "name": "stdout",
     "output_type": "stream",
     "text": [
      "count    202607.000000\n",
      "mean          7.353714\n",
      "std           5.733230\n",
      "min           1.000000\n",
      "25%           2.000000\n",
      "50%           6.000000\n",
      "75%          11.000000\n",
      "max          38.000000\n",
      "Name: duration, dtype: float64\n",
      "0    1\n",
      "1    1\n",
      "2    3\n",
      "Name: duration, dtype: int32\n"
     ]
    }
   ],
   "source": [
    "# Проверка замены\n",
    "print(calls_data.duration.describe())\n",
    "print(calls_data['duration'].head(3))"
   ]
  },
  {
   "cell_type": "markdown",
   "metadata": {},
   "source": [
    "### Таблица internet (информация об интернет-сессиях)"
   ]
  },
  {
   "cell_type": "code",
   "execution_count": 32,
   "metadata": {},
   "outputs": [
    {
     "data": {
      "text/plain": [
       "count                  149396\n",
       "unique                    365\n",
       "top       2018-12-31 00:00:00\n",
       "freq                     1057\n",
       "first     2018-01-01 00:00:00\n",
       "last      2018-12-31 00:00:00\n",
       "Name: session_date, dtype: object"
      ]
     },
     "execution_count": 32,
     "metadata": {},
     "output_type": "execute_result"
    }
   ],
   "source": [
    "internet_data['session_date'].describe()"
   ]
  },
  {
   "cell_type": "code",
   "execution_count": 33,
   "metadata": {},
   "outputs": [
    {
     "data": {
      "text/plain": [
       "count    149396.000000\n",
       "mean        370.192426\n",
       "std         278.300951\n",
       "min           0.000000\n",
       "25%         138.187500\n",
       "50%         348.015000\n",
       "75%         559.552500\n",
       "max        1724.830000\n",
       "Name: mb_used, dtype: float64"
      ]
     },
     "execution_count": 33,
     "metadata": {},
     "output_type": "execute_result"
    }
   ],
   "source": [
    "internet_data['mb_used'].describe()"
   ]
  },
  {
   "cell_type": "markdown",
   "metadata": {},
   "source": [
    "В таблице представлены данные за весь 2018 год. Встречаются сессии с интернет-трафиком 0 мегабайт. Это проблема в данных, нужна предобработка.\n",
    "Значения мегабайтов округляется вверх. Данные представлены без округления до мегабайта, поэтому округлим все значения в большую сторону.\n",
    "Если в таблице присутствует уникальный номер сессии, то выход в мнтернет был и значит, можем заменить все нули в столбце mb_used на единицы. "
   ]
  },
  {
   "cell_type": "code",
   "execution_count": 34,
   "metadata": {},
   "outputs": [],
   "source": [
    "# Замена нулей на единицы\n",
    "internet_data['mb_used'] = internet_data['mb_used'].replace(0,1)"
   ]
  },
  {
   "cell_type": "code",
   "execution_count": 35,
   "metadata": {},
   "outputs": [],
   "source": [
    "# Округляем до целых в большую сторону\n",
    "internet_data['mb_used'] = np.ceil(internet_data['mb_used'])"
   ]
  },
  {
   "cell_type": "markdown",
   "metadata": {},
   "source": [
    "Так как данные округлены до целых чисел, то заменим вещественный тип данных на целочисленный "
   ]
  },
  {
   "cell_type": "code",
   "execution_count": 36,
   "metadata": {},
   "outputs": [],
   "source": [
    "internet_data['mb_used'] = internet_data['mb_used'].astype('int')"
   ]
  },
  {
   "cell_type": "code",
   "execution_count": 37,
   "metadata": {},
   "outputs": [
    {
     "name": "stdout",
     "output_type": "stream",
     "text": [
      "count    149396.000000\n",
      "mean        370.753280\n",
      "std         278.212524\n",
      "min           1.000000\n",
      "25%         139.000000\n",
      "50%         349.000000\n",
      "75%         560.000000\n",
      "max        1725.000000\n",
      "Name: mb_used, dtype: float64\n",
      "0     113\n",
      "1    1053\n",
      "2    1198\n",
      "Name: mb_used, dtype: int32\n"
     ]
    }
   ],
   "source": [
    "# Проверка замены\n",
    "print(internet_data['mb_used'].describe())\n",
    "print(internet_data['mb_used'].head(3))"
   ]
  },
  {
   "cell_type": "markdown",
   "metadata": {},
   "source": [
    "### Таблица tariffs (информация о тарифах)"
   ]
  },
  {
   "cell_type": "markdown",
   "metadata": {},
   "source": [
    "Таблица tariffs_data небольшая, поэтому оценить ее можно визуально. Все данные корректны."
   ]
  },
  {
   "cell_type": "code",
   "execution_count": 38,
   "metadata": {},
   "outputs": [
    {
     "data": {
      "text/html": [
       "<div>\n",
       "<style scoped>\n",
       "    .dataframe tbody tr th:only-of-type {\n",
       "        vertical-align: middle;\n",
       "    }\n",
       "\n",
       "    .dataframe tbody tr th {\n",
       "        vertical-align: top;\n",
       "    }\n",
       "\n",
       "    .dataframe thead th {\n",
       "        text-align: right;\n",
       "    }\n",
       "</style>\n",
       "<table border=\"1\" class=\"dataframe\">\n",
       "  <thead>\n",
       "    <tr style=\"text-align: right;\">\n",
       "      <th></th>\n",
       "      <th>messages_included</th>\n",
       "      <th>mb_per_month_included</th>\n",
       "      <th>minutes_included</th>\n",
       "      <th>rub_monthly_fee</th>\n",
       "      <th>rub_per_gb</th>\n",
       "      <th>rub_per_message</th>\n",
       "      <th>rub_per_minute</th>\n",
       "      <th>tariff_name</th>\n",
       "    </tr>\n",
       "  </thead>\n",
       "  <tbody>\n",
       "    <tr>\n",
       "      <th>0</th>\n",
       "      <td>50</td>\n",
       "      <td>15360</td>\n",
       "      <td>500</td>\n",
       "      <td>550</td>\n",
       "      <td>200</td>\n",
       "      <td>3</td>\n",
       "      <td>3</td>\n",
       "      <td>smart</td>\n",
       "    </tr>\n",
       "    <tr>\n",
       "      <th>1</th>\n",
       "      <td>1000</td>\n",
       "      <td>30720</td>\n",
       "      <td>3000</td>\n",
       "      <td>1950</td>\n",
       "      <td>150</td>\n",
       "      <td>1</td>\n",
       "      <td>1</td>\n",
       "      <td>ultra</td>\n",
       "    </tr>\n",
       "  </tbody>\n",
       "</table>\n",
       "</div>"
      ],
      "text/plain": [
       "   messages_included  mb_per_month_included  minutes_included  \\\n",
       "0                 50                  15360               500   \n",
       "1               1000                  30720              3000   \n",
       "\n",
       "   rub_monthly_fee  rub_per_gb  rub_per_message  rub_per_minute tariff_name  \n",
       "0              550         200                3               3       smart  \n",
       "1             1950         150                1               1       ultra  "
      ]
     },
     "execution_count": 38,
     "metadata": {},
     "output_type": "execute_result"
    }
   ],
   "source": [
    "tariffs_data"
   ]
  },
  {
   "cell_type": "markdown",
   "metadata": {},
   "source": [
    "### Таблица messages (информация о сообщениях)"
   ]
  },
  {
   "cell_type": "code",
   "execution_count": 39,
   "metadata": {},
   "outputs": [
    {
     "data": {
      "text/plain": [
       "count                  123036\n",
       "unique                    364\n",
       "top       2018-12-31 00:00:00\n",
       "freq                      859\n",
       "first     2018-01-02 00:00:00\n",
       "last      2018-12-31 00:00:00\n",
       "Name: message_date, dtype: object"
      ]
     },
     "execution_count": 39,
     "metadata": {},
     "output_type": "execute_result"
    }
   ],
   "source": [
    "messages_data['message_date'].describe()"
   ]
  },
  {
   "cell_type": "markdown",
   "metadata": {},
   "source": [
    "Заметим, что в данных нет одного дня за 2018 год - первого января (364 значений из 365)."
   ]
  },
  {
   "cell_type": "markdown",
   "metadata": {},
   "source": [
    "### Таблица users (информация о пользователях)"
   ]
  },
  {
   "cell_type": "code",
   "execution_count": 40,
   "metadata": {},
   "outputs": [
    {
     "data": {
      "text/plain": [
       "array(['Рафаил', 'Иван', 'Евгений', 'Белла', 'Татьяна', 'Афанасий',\n",
       "       'Леонид', 'Юна', 'Рустэм', 'Василиса', 'Эдуард', 'Веселина',\n",
       "       'Варлам', 'Борис', 'Яков', 'Рузана', 'Марица', 'Мария', 'Матвей',\n",
       "       'Игнатий', 'Тала', 'Святослав', 'Людмила', 'Иулиан', 'Владислав',\n",
       "       'Рустем', 'Алексей', 'Мариетта', 'Лаврентий', 'Инна', 'Лия',\n",
       "       'Розалия', 'Анжелика', 'Изольда', 'Агнесса', 'Юрий', 'Михаил',\n",
       "       'Константин', 'Марианна', 'Иннокентий', 'Джемма', 'Екатерина',\n",
       "       'Милица', 'Лола', 'Габриель', 'Кристина', 'Павел', 'Ренальд',\n",
       "       'Луиза', 'Радислав', 'Динара', 'Лукий', 'Глеб', 'Тамара',\n",
       "       'Александр', 'Таира', 'Роза', 'Исак', 'Юзефа', 'Ким', 'Гордей',\n",
       "       'Эльза', 'Гектор', 'Андрей', 'Рафаэль', 'Фёдор', 'Харитон',\n",
       "       'Еремей', 'Всеволод', 'Софья', 'Авксентий', 'Виолетта', 'Ириней',\n",
       "       'Гелена', 'Ксения', 'Вера', 'Вениамин', 'Вероника', 'Даниэла',\n",
       "       'Алла', 'Элеонора', 'Аюна', 'Руслан', 'Онисим', 'Марта', 'Эльвира',\n",
       "       'Габриэль', 'Исаак', 'Милана', 'Арнольд', 'Маргарита', 'Рашид',\n",
       "       'Альберта', 'Дана', 'Олег', 'Альбин', 'Сабина', 'Яна', 'Анвар',\n",
       "       'Инара', 'Нина', 'Надежда', 'Марьяна', 'Милена', 'Пётр', 'Леся',\n",
       "       'Светлана', 'Клариса', 'Симона', 'Арсен', 'Ефим', 'Юлий',\n",
       "       'Владимир', 'Евдокия', 'Алиса', 'Майя', 'Лариса', 'Марина',\n",
       "       'Валерий', 'Виктория', 'Игорь', 'Эльга', 'Лев', 'Геральд',\n",
       "       'Клавдия', 'Лилия', 'Георгина', 'Вадим', 'Каролина', 'Алан',\n",
       "       'Агафья', 'Лолита', 'Радим', 'Наталья', 'Рем', 'Снежана',\n",
       "       'Мануэла', 'Рэм', 'Виталий', 'Рауль', 'Степан', 'Егор', 'Демьян',\n",
       "       'Агата', 'Геннадий', 'Адам', 'Мирослава', 'Елена', 'Ева',\n",
       "       'Евфросинья', 'Арина', 'Гайдар', 'Артемий', 'Рустам', 'Ермолай',\n",
       "       'Кузьма', 'Рубен', 'Ахмет', 'Раиса', 'Денис', 'Нелли', 'Касьян',\n",
       "       'Сара', 'Роксана', 'Леон', 'Алина', 'Даниил', 'Зинаида', 'Артём',\n",
       "       'Анатолий', 'Лейла', 'Александра', 'Серафима', 'Алевтина',\n",
       "       'Эмилия', 'Мадина', 'Антонина', 'Саида', 'Трофим', 'Аким',\n",
       "       'Мальвина', 'Аурелия', 'Мстислав', 'Аксён', 'Семён', 'Валерия',\n",
       "       'Григорий', 'Таисия', 'Арсений', 'Эдита', 'Дебора', 'Олеся',\n",
       "       'Альфред', 'Тихон', 'Наида', 'Илья', 'Инесса', 'Юлия', 'Рудольф',\n",
       "       'Максим', 'Инга', 'Эсмеральда', 'Дайна', 'Джозефина', 'Тимофей',\n",
       "       'Виктор', 'Валентина', 'Анита', 'Илзе', 'Галина', 'Варвара',\n",
       "       'Анфиса', 'Доминика', 'Лаура', 'Рената', 'Оксана', 'Георгий',\n",
       "       'Лидия', 'Евгения', 'Фаддей', 'Герасим', 'Радомир', 'Ренат',\n",
       "       'Владислава', 'Роберт', 'Элина', 'Станислав', 'Элла', 'Гарри',\n",
       "       'Берта', 'Геодар', 'Эльмира', 'Клара', 'Камилла', 'Джулия',\n",
       "       'Карина', 'Нателла', 'Леонтий', 'Ростислав', 'Ангелина', 'Алёна',\n",
       "       'Ринат', 'Эллада', 'Николай', 'Руслана', 'Трифон'], dtype=object)"
      ]
     },
     "execution_count": 40,
     "metadata": {},
     "output_type": "execute_result"
    }
   ],
   "source": [
    "users_data['first_name'].unique()"
   ]
  },
  {
   "cell_type": "code",
   "execution_count": 41,
   "metadata": {},
   "outputs": [
    {
     "data": {
      "text/plain": [
       "array(['Верещагин', 'Ежов', 'Абрамович', 'Белякова', 'Авдеенко', 'Горлов',\n",
       "       'Ермолаев', 'Березина', 'Пономарёв', 'Блинова', 'Кононов',\n",
       "       'Алёшко', 'Соловьев', 'Андреенко', 'Акинфьев', 'Алюшина',\n",
       "       'Сазонова', 'Аленникова', 'Золотов', 'Круглов', 'Костина',\n",
       "       'Тихонов', 'Трофимова', 'Мельникова', 'Антипов', 'Акинин',\n",
       "       'Бородин', 'Авдеев', 'Евсеев', 'Селезнев', 'Русанова', 'Тимофеев',\n",
       "       'Игнатьева', 'Бабушкина', 'Бондарев', 'Аракина', 'Андропова',\n",
       "       'Архипова', 'Денисова', 'Одинцов', 'Кравцов', 'Добрынин',\n",
       "       'Родионова', 'Рябов', 'Карасева', 'Александрова', 'Меркулова',\n",
       "       'Мясникова', 'Ларин', 'Аничкина', 'Сомова', 'Панов', 'Фёдоров',\n",
       "       'Платонова', 'Артемьев', 'Дьячкова', 'Глушков', 'Свиридов',\n",
       "       'Рудаков', 'Ситникова', 'Коршунов', 'Климова', 'Алфеева',\n",
       "       'Игнатова', 'Малахов', 'Абашкина', 'Демьянов', 'Кочетов',\n",
       "       'Селиванова', 'Чумаков', 'Андрейкин', 'Павловский', 'Никулин',\n",
       "       'Шарапов', 'Кольцова', 'Литвинов', 'Авроров', 'Игнатьев',\n",
       "       'Терехова', 'Малышев', 'Галкин', 'Спиридонова', 'Дорофеева',\n",
       "       'Аксёнов', 'Абалакова', 'Нечаева', 'Астафьева', 'Суслова',\n",
       "       'Амельченко', 'Лапина', 'Пугачева', 'Кабанова', 'Кулешова',\n",
       "       'Озерова', 'Сергеева', 'Красильников', 'Колобов', 'Королькова',\n",
       "       'Лобанова', 'Поляков', 'Рыбакова', 'Костин', 'Воронин', 'Болдырев',\n",
       "       'Андрющенко', 'Александрович', 'Макарова', 'Казанцев', 'Булгаков',\n",
       "       'Колесова', 'Толкачев', 'Шевцова', 'Латышева', 'Сухарев',\n",
       "       'Абдулина', 'Афанасова', 'Устинов', 'Андрианов', 'Арсенкова',\n",
       "       'Ильина', 'Агаева', 'Морозов', 'Крюкова', 'Афонасьева', 'Алехина',\n",
       "       'Аникина', 'Авросимова', 'Воронина', 'Левин', 'Артёшин',\n",
       "       'Ерофеева', 'Корнеева', 'Ахматулин', 'Короткова', 'Алешкова',\n",
       "       'Покровский', 'Ефремов', 'Алешин', 'Никонов', 'Синицын', 'Киреева',\n",
       "       'Алексеенко', 'Муравьева', 'Молчанова', 'Щербакова', 'Одинцова',\n",
       "       'Тихомирова', 'Чернов', 'Белоусова', 'Андрейчук', 'Авдонюшкин',\n",
       "       'Голованова', 'Минаева', 'Вишневский', 'Лебедев', 'Медведев',\n",
       "       'Жданов', 'Ананьева', 'Карташова', 'Козлов', 'Иванова', 'Карасев',\n",
       "       'Григорьева', 'Розанова', 'Марков', 'Куприянов', 'Жарова',\n",
       "       'Астапенко', 'Мишин', 'Аврорин', 'Агаев', 'Тарасова', 'Родина',\n",
       "       'Абакумов', 'Овчинников', 'Соколов', 'Зубкова', 'Абоимов',\n",
       "       'Акиндинов', 'Мальцев', 'Безруков', 'Наумов', 'Петухова',\n",
       "       'Чернышев', 'Черняев', 'Швецов', 'Демьянова', 'Ларионова',\n",
       "       'Веселов', 'Адаменко', 'Григорьев', 'Лазарева', 'Семина',\n",
       "       'Шарапова', 'Зеленина', 'Сахарова', 'Сорокин', 'Серебрякова',\n",
       "       'Азимова', 'Пономарев', 'Муравьёв', 'Алиев', 'Малинин', 'Сазонов',\n",
       "       'Мамонтова', 'Некрасов', 'Астапов', 'Сафонова', 'Панфилов',\n",
       "       'Тарасов', 'Горбачева', 'Бобылёв', 'Калинина', 'Алфимов',\n",
       "       'Капустин', 'Авдюков', 'Ларина', 'Алфимова', 'Алексеева', 'Басова',\n",
       "       'Демидов', 'Кошелева', 'Ёрохов', 'Шарова', 'Федосеев', 'Леонтьев',\n",
       "       'Макеев', 'Коновалова', 'Минаев', 'Авдушева', 'Ракова', 'Тетерина',\n",
       "       'Масленникова', 'Сухарева', 'Пономарева', 'Панфилова', 'Беляев',\n",
       "       'Третьякова', 'Горбунов', 'Пантелеева', 'Зайцев', 'Жукова',\n",
       "       'Адамов', 'Антропова', 'Седова', 'Трошин', 'Ахмадулин',\n",
       "       'Вешнякова', 'Чижова', 'Корнилов', 'Еремин', 'Елизаров', 'Крюков',\n",
       "       'Троицкий', 'Худяков', 'Зимина', 'Аракчеев', 'Крючков', 'Давыдов',\n",
       "       'Богданова', 'Анищенко', 'Дубинина', 'Асафьева', 'Черный',\n",
       "       'Абрамцев', 'Чеснокова', 'Симонова', 'Азерников', 'Авраменко',\n",
       "       'Абаимов', 'Абакшина', 'Соловьёв', 'Лаптева', 'Попов', 'Авсейкина',\n",
       "       'Корнилова', 'Касьянова', 'Нестеров', 'Крылова', 'Поликарпова',\n",
       "       'Суслов', 'Амелишко', 'Агапеева', 'Алымова', 'Зыков', 'Парфенов',\n",
       "       'Киселёв', 'Софронов', 'Сальников', 'Носкова', 'Барсуков',\n",
       "       'Севастьянова', 'Аркадьев', 'Золотова', 'Малинина', 'Антонова',\n",
       "       'Алексеичев', 'Орлов', 'Алютин', 'Кузнецов', 'Казакова',\n",
       "       'Верещагина', 'Ёркина', 'Антропов', 'Фокина', 'Громова',\n",
       "       'Курочкин', 'Козырева', 'Румянцева', 'Кулагина', 'Абрикосова',\n",
       "       'Гончаров', 'Ермилов', 'Логинов', 'Абашкин', 'Болдырева',\n",
       "       'Вишняков', 'Фетисова', 'Антоненко', 'Гришина', 'Сысоев',\n",
       "       'Трофимов', 'Авраамова', 'Афанасенко', 'Акимычева', 'Акимов',\n",
       "       'Семин', 'Бычкова', 'Кочергина', 'Нестерова', 'Родионов', 'Зуев',\n",
       "       'Беляева', 'Беликова', 'Зубков', 'Кондратов', 'Савельева',\n",
       "       'Чистякова', 'Ахмедов', 'Абрашина', 'Артёмов', 'Васильева',\n",
       "       'Измайлова', 'Амелин', 'Уваров', 'Белова', 'Семёнов', 'Пирогова',\n",
       "       'Кукушкин', 'Ильин', 'Прокофьева', 'Афонин', 'Фролов', 'Лукин',\n",
       "       'Ёлчина', 'Макаров', 'Ахматов', 'Яшина', 'Корольков', 'Устинова',\n",
       "       'Силин', 'Ёрохова', 'Фомин', 'Азаров', 'Добрынина', 'Тимофеева',\n",
       "       'Кочетков', 'Алёшкова', 'Субботина', 'Ерофеев', 'Селезнева',\n",
       "       'Бородина', 'Афонина', 'Матвеев', 'Белозёров', 'Ковалева',\n",
       "       'Афинин', 'Иванов', 'Артемчук', 'Алешина', 'Дроздов', 'Новикова',\n",
       "       'Козлова', 'Завьялова', 'Абалдуева', 'Акуленко', 'Авринский',\n",
       "       'Авчинникова', 'Абрамычева', 'Авросинова', 'Ёркин', 'Шевцов',\n",
       "       'Александрюк', 'Авдышев', 'Абалкин', 'Лосева', 'Гаврилова',\n",
       "       'Боброва', 'Любимов', 'Фадеева', 'Семенова', 'Серов',\n",
       "       'Константинова', 'Богданов', 'Емельянова', 'Блохина', 'Борисова',\n",
       "       'Сухова', 'Моргунов', 'Кириллов', 'Филатов', 'Алесин', 'Артёменко',\n",
       "       'Ахматулина', 'Андропов', 'Фокин', 'Блохин', 'Агеева', 'Акимчин'],\n",
       "      dtype=object)"
      ]
     },
     "execution_count": 41,
     "metadata": {},
     "output_type": "execute_result"
    }
   ],
   "source": [
    "users_data['last_name'].unique()"
   ]
  },
  {
   "cell_type": "markdown",
   "metadata": {},
   "source": [
    "Данные о фамилиях и именах на первый взгляд корректны."
   ]
  },
  {
   "cell_type": "code",
   "execution_count": 42,
   "metadata": {},
   "outputs": [
    {
     "name": "stdout",
     "output_type": "stream",
     "text": [
      "count    500.00000\n",
      "mean      46.58800\n",
      "std       16.66763\n",
      "min       18.00000\n",
      "25%       32.00000\n",
      "50%       46.00000\n",
      "75%       62.00000\n",
      "max       75.00000\n",
      "Name: age, dtype: float64\n",
      "[52 41 59 23 68 67 21 65 63 24 26 44 38 36 64 58 73 71 61 72 42 56 32 62\n",
      " 20 51 28 66 31 37 47 40 69 48 33 39 43 46 45 55 53 34 49 25 18 70 50 19\n",
      " 54 60 29 27 74 22 30 75 57 35]\n"
     ]
    }
   ],
   "source": [
    "print(users_data['age'].describe())\n",
    "print(users_data['age'].unique())"
   ]
  },
  {
   "cell_type": "markdown",
   "metadata": {},
   "source": [
    "Данные о возрасте корректны: нет нелогичных значений."
   ]
  },
  {
   "cell_type": "code",
   "execution_count": 43,
   "metadata": {},
   "outputs": [
    {
     "data": {
      "text/plain": [
       "count                     500\n",
       "unique                    270\n",
       "top       2018-05-28 00:00:00\n",
       "freq                        8\n",
       "first     2018-01-01 00:00:00\n",
       "last      2018-12-31 00:00:00\n",
       "Name: reg_date, dtype: object"
      ]
     },
     "execution_count": 43,
     "metadata": {},
     "output_type": "execute_result"
    }
   ],
   "source": [
    "users_data['reg_date'].describe()"
   ]
  },
  {
   "cell_type": "markdown",
   "metadata": {},
   "source": [
    "К тарифным планам стали подключать с 1 января 2018 года."
   ]
  },
  {
   "cell_type": "code",
   "execution_count": 44,
   "metadata": {},
   "outputs": [
    {
     "data": {
      "text/plain": [
       "array(['Краснодар', 'Москва', 'Стерлитамак', 'Новокузнецк',\n",
       "       'Набережные Челны', 'Ульяновск', 'Челябинск', 'Пермь', 'Тюмень',\n",
       "       'Самара', 'Санкт-Петербург', 'Иваново', 'Чебоксары', 'Омск', 'Уфа',\n",
       "       'Томск', 'Чита', 'Мурманск', 'Петрозаводск', 'Тверь',\n",
       "       'Екатеринбург', 'Махачкала', 'Вологда', 'Череповец', 'Ярославль',\n",
       "       'Сочи', 'Хабаровск', 'Ставрополь', 'Рязань', 'Улан-Удэ', 'Тула',\n",
       "       'Саратов', 'Ростов-на-Дону', 'Казань', 'Иркутск', 'Курск',\n",
       "       'Калуга', 'Якутск', 'Астрахань', 'Химки', 'Владикавказ',\n",
       "       'Волгоград', 'Саранск', 'Ижевск', 'Новосибирск', 'Брянск',\n",
       "       'Тольятти', 'Нижний Тагил', 'Орёл', 'Белгород', 'Воронеж',\n",
       "       'Волжский', 'Курган', 'Барнаул', 'Красноярск', 'Архангельск',\n",
       "       'Липецк', 'Кемерово', 'Киров', 'Сургут', 'Пенза', 'Магнитогорск',\n",
       "       'Нижний Новгород', 'Кострома', 'Владивосток', 'Тамбов', 'Балашиха',\n",
       "       'Севастополь', 'Калининград', 'Оренбург', 'Смоленск',\n",
       "       'Нижневартовск', 'Владимир', 'Новороссийск', 'Грозный', 'Подольск'],\n",
       "      dtype=object)"
      ]
     },
     "execution_count": 44,
     "metadata": {},
     "output_type": "execute_result"
    }
   ],
   "source": [
    "users_data['city'].unique()"
   ]
  },
  {
   "cell_type": "markdown",
   "metadata": {},
   "source": [
    "Данные о городах записаны корректно, нет дубликатов по столбцу."
   ]
  },
  {
   "cell_type": "code",
   "execution_count": 45,
   "metadata": {},
   "outputs": [
    {
     "data": {
      "text/plain": [
       "array(['ultra', 'smart'], dtype=object)"
      ]
     },
     "execution_count": 45,
     "metadata": {},
     "output_type": "execute_result"
    }
   ],
   "source": [
    "users_data['tariff'].unique()"
   ]
  },
  {
   "cell_type": "markdown",
   "metadata": {},
   "source": [
    "Все данные в таблице представлены для двух тарифных планов, которые исследуем ('ultra' и 'smart')."
   ]
  },
  {
   "cell_type": "markdown",
   "metadata": {},
   "source": [
    "## Обработка дубликатов"
   ]
  },
  {
   "cell_type": "markdown",
   "metadata": {},
   "source": [
    "Необходимо установить наличие дубликатов. "
   ]
  },
  {
   "cell_type": "code",
   "execution_count": 46,
   "metadata": {},
   "outputs": [
    {
     "data": {
      "text/plain": [
       "0"
      ]
     },
     "execution_count": 46,
     "metadata": {},
     "output_type": "execute_result"
    }
   ],
   "source": [
    "calls_data.duplicated().sum()"
   ]
  },
  {
   "cell_type": "code",
   "execution_count": 47,
   "metadata": {},
   "outputs": [
    {
     "data": {
      "text/plain": [
       "0"
      ]
     },
     "execution_count": 47,
     "metadata": {},
     "output_type": "execute_result"
    }
   ],
   "source": [
    "internet_data.duplicated().sum()"
   ]
  },
  {
   "cell_type": "code",
   "execution_count": 48,
   "metadata": {},
   "outputs": [
    {
     "data": {
      "text/plain": [
       "0"
      ]
     },
     "execution_count": 48,
     "metadata": {},
     "output_type": "execute_result"
    }
   ],
   "source": [
    "messages_data.duplicated().sum()"
   ]
  },
  {
   "cell_type": "code",
   "execution_count": 49,
   "metadata": {},
   "outputs": [
    {
     "data": {
      "text/plain": [
       "0"
      ]
     },
     "execution_count": 49,
     "metadata": {},
     "output_type": "execute_result"
    }
   ],
   "source": [
    "tariffs_data.duplicated().sum()"
   ]
  },
  {
   "cell_type": "code",
   "execution_count": 50,
   "metadata": {},
   "outputs": [
    {
     "data": {
      "text/plain": [
       "0"
      ]
     },
     "execution_count": 50,
     "metadata": {},
     "output_type": "execute_result"
    }
   ],
   "source": [
    "users_data.duplicated().sum()"
   ]
  },
  {
   "cell_type": "markdown",
   "metadata": {},
   "source": [
    "Дубликатов в исследуемых таблицах нет."
   ]
  },
  {
   "cell_type": "markdown",
   "metadata": {},
   "source": [
    "## Посчитаем для каждого пользователя:"
   ]
  },
  {
   "cell_type": "markdown",
   "metadata": {},
   "source": [
    "### количество сделанных звонков и израсходованных минут разговора по месяцам"
   ]
  },
  {
   "cell_type": "markdown",
   "metadata": {},
   "source": [
    "Прежде чем сгруппировать данные по месяцам, добавим в таблицу calls_data колонку, возвращающую Месяц из столбца call_date (дата звонка)."
   ]
  },
  {
   "cell_type": "code",
   "execution_count": 51,
   "metadata": {},
   "outputs": [
    {
     "data": {
      "text/html": [
       "<div>\n",
       "<style scoped>\n",
       "    .dataframe tbody tr th:only-of-type {\n",
       "        vertical-align: middle;\n",
       "    }\n",
       "\n",
       "    .dataframe tbody tr th {\n",
       "        vertical-align: top;\n",
       "    }\n",
       "\n",
       "    .dataframe thead th {\n",
       "        text-align: right;\n",
       "    }\n",
       "</style>\n",
       "<table border=\"1\" class=\"dataframe\">\n",
       "  <thead>\n",
       "    <tr style=\"text-align: right;\">\n",
       "      <th></th>\n",
       "      <th>call_date</th>\n",
       "      <th>month</th>\n",
       "    </tr>\n",
       "  </thead>\n",
       "  <tbody>\n",
       "    <tr>\n",
       "      <th>0</th>\n",
       "      <td>2018-07-25</td>\n",
       "      <td>7</td>\n",
       "    </tr>\n",
       "    <tr>\n",
       "      <th>1</th>\n",
       "      <td>2018-08-17</td>\n",
       "      <td>8</td>\n",
       "    </tr>\n",
       "    <tr>\n",
       "      <th>2</th>\n",
       "      <td>2018-06-11</td>\n",
       "      <td>6</td>\n",
       "    </tr>\n",
       "    <tr>\n",
       "      <th>3</th>\n",
       "      <td>2018-09-21</td>\n",
       "      <td>9</td>\n",
       "    </tr>\n",
       "    <tr>\n",
       "      <th>4</th>\n",
       "      <td>2018-12-15</td>\n",
       "      <td>12</td>\n",
       "    </tr>\n",
       "  </tbody>\n",
       "</table>\n",
       "</div>"
      ],
      "text/plain": [
       "   call_date  month\n",
       "0 2018-07-25      7\n",
       "1 2018-08-17      8\n",
       "2 2018-06-11      6\n",
       "3 2018-09-21      9\n",
       "4 2018-12-15     12"
      ]
     },
     "execution_count": 51,
     "metadata": {},
     "output_type": "execute_result"
    }
   ],
   "source": [
    "calls_data['month'] = calls_data['call_date'].dt.month\n",
    "calls_data[['call_date','month']].head()"
   ]
  },
  {
   "cell_type": "markdown",
   "metadata": {},
   "source": [
    "Подсчитаем для каждого пользователя количество сделанных звонков и израсходованных минут разговора по месяцам в отдельной таблице calls_data_month."
   ]
  },
  {
   "cell_type": "code",
   "execution_count": 52,
   "metadata": {},
   "outputs": [
    {
     "data": {
      "text/html": [
       "<div>\n",
       "<style scoped>\n",
       "    .dataframe tbody tr th:only-of-type {\n",
       "        vertical-align: middle;\n",
       "    }\n",
       "\n",
       "    .dataframe tbody tr th {\n",
       "        vertical-align: top;\n",
       "    }\n",
       "\n",
       "    .dataframe thead th {\n",
       "        text-align: right;\n",
       "    }\n",
       "</style>\n",
       "<table border=\"1\" class=\"dataframe\">\n",
       "  <thead>\n",
       "    <tr style=\"text-align: right;\">\n",
       "      <th></th>\n",
       "      <th></th>\n",
       "      <th>sum_minute</th>\n",
       "      <th>count_calls</th>\n",
       "    </tr>\n",
       "    <tr>\n",
       "      <th>user_id</th>\n",
       "      <th>month</th>\n",
       "      <th></th>\n",
       "      <th></th>\n",
       "    </tr>\n",
       "  </thead>\n",
       "  <tbody>\n",
       "    <tr>\n",
       "      <th rowspan=\"5\" valign=\"top\">1000</th>\n",
       "      <th>5</th>\n",
       "      <td>164</td>\n",
       "      <td>22</td>\n",
       "    </tr>\n",
       "    <tr>\n",
       "      <th>6</th>\n",
       "      <td>187</td>\n",
       "      <td>43</td>\n",
       "    </tr>\n",
       "    <tr>\n",
       "      <th>7</th>\n",
       "      <td>346</td>\n",
       "      <td>47</td>\n",
       "    </tr>\n",
       "    <tr>\n",
       "      <th>8</th>\n",
       "      <td>418</td>\n",
       "      <td>52</td>\n",
       "    </tr>\n",
       "    <tr>\n",
       "      <th>9</th>\n",
       "      <td>478</td>\n",
       "      <td>58</td>\n",
       "    </tr>\n",
       "  </tbody>\n",
       "</table>\n",
       "</div>"
      ],
      "text/plain": [
       "               sum_minute  count_calls\n",
       "user_id month                         \n",
       "1000    5             164           22\n",
       "        6             187           43\n",
       "        7             346           47\n",
       "        8             418           52\n",
       "        9             478           58"
      ]
     },
     "execution_count": 52,
     "metadata": {},
     "output_type": "execute_result"
    }
   ],
   "source": [
    "calls_data_month = (calls_data\n",
    "                    .pivot_table(index=['user_id','month'], values=['id','duration'],aggfunc={'id':'count','duration':'sum'})\n",
    "                    .rename(columns={'id':'count_calls','duration':'sum_minute'})\n",
    "                   )\n",
    "# группируем данные по каждому клиенту и по месяцам\n",
    "# подсчитываем кол-во звонков методом count() и количество минут разговора методом sum()\n",
    "#переименовываем столбцы\n",
    "calls_data_month.head(5)"
   ]
  },
  {
   "cell_type": "markdown",
   "metadata": {},
   "source": [
    "### количество отправленных сообщений по месяцам"
   ]
  },
  {
   "cell_type": "markdown",
   "metadata": {},
   "source": [
    "Прежде чем сгруппировать данные по месяцам, добавим в таблицу messages_data колонку, возвращающую Месяц из столбца messages_date (дата сообщения)."
   ]
  },
  {
   "cell_type": "code",
   "execution_count": 53,
   "metadata": {},
   "outputs": [
    {
     "data": {
      "text/html": [
       "<div>\n",
       "<style scoped>\n",
       "    .dataframe tbody tr th:only-of-type {\n",
       "        vertical-align: middle;\n",
       "    }\n",
       "\n",
       "    .dataframe tbody tr th {\n",
       "        vertical-align: top;\n",
       "    }\n",
       "\n",
       "    .dataframe thead th {\n",
       "        text-align: right;\n",
       "    }\n",
       "</style>\n",
       "<table border=\"1\" class=\"dataframe\">\n",
       "  <thead>\n",
       "    <tr style=\"text-align: right;\">\n",
       "      <th></th>\n",
       "      <th>message_date</th>\n",
       "      <th>month</th>\n",
       "    </tr>\n",
       "  </thead>\n",
       "  <tbody>\n",
       "    <tr>\n",
       "      <th>115900</th>\n",
       "      <td>2018-03-27</td>\n",
       "      <td>3</td>\n",
       "    </tr>\n",
       "    <tr>\n",
       "      <th>26359</th>\n",
       "      <td>2018-10-27</td>\n",
       "      <td>10</td>\n",
       "    </tr>\n",
       "    <tr>\n",
       "      <th>23299</th>\n",
       "      <td>2018-07-05</td>\n",
       "      <td>7</td>\n",
       "    </tr>\n",
       "    <tr>\n",
       "      <th>42667</th>\n",
       "      <td>2018-09-22</td>\n",
       "      <td>9</td>\n",
       "    </tr>\n",
       "    <tr>\n",
       "      <th>48306</th>\n",
       "      <td>2018-09-24</td>\n",
       "      <td>9</td>\n",
       "    </tr>\n",
       "  </tbody>\n",
       "</table>\n",
       "</div>"
      ],
      "text/plain": [
       "       message_date  month\n",
       "115900   2018-03-27      3\n",
       "26359    2018-10-27     10\n",
       "23299    2018-07-05      7\n",
       "42667    2018-09-22      9\n",
       "48306    2018-09-24      9"
      ]
     },
     "execution_count": 53,
     "metadata": {},
     "output_type": "execute_result"
    }
   ],
   "source": [
    "messages_data['month'] = messages_data['message_date'].dt.month\n",
    "messages_data[['message_date','month']].sample(5)"
   ]
  },
  {
   "cell_type": "markdown",
   "metadata": {},
   "source": [
    "Подсчитаем для каждого пользователя количество отправленных сообщений по месяцам."
   ]
  },
  {
   "cell_type": "code",
   "execution_count": 54,
   "metadata": {},
   "outputs": [
    {
     "data": {
      "text/html": [
       "<div>\n",
       "<style scoped>\n",
       "    .dataframe tbody tr th:only-of-type {\n",
       "        vertical-align: middle;\n",
       "    }\n",
       "\n",
       "    .dataframe tbody tr th {\n",
       "        vertical-align: top;\n",
       "    }\n",
       "\n",
       "    .dataframe thead th {\n",
       "        text-align: right;\n",
       "    }\n",
       "</style>\n",
       "<table border=\"1\" class=\"dataframe\">\n",
       "  <thead>\n",
       "    <tr style=\"text-align: right;\">\n",
       "      <th></th>\n",
       "      <th></th>\n",
       "      <th>count_message</th>\n",
       "    </tr>\n",
       "    <tr>\n",
       "      <th>user_id</th>\n",
       "      <th>month</th>\n",
       "      <th></th>\n",
       "    </tr>\n",
       "  </thead>\n",
       "  <tbody>\n",
       "    <tr>\n",
       "      <th rowspan=\"5\" valign=\"top\">1000</th>\n",
       "      <th>5</th>\n",
       "      <td>22</td>\n",
       "    </tr>\n",
       "    <tr>\n",
       "      <th>6</th>\n",
       "      <td>60</td>\n",
       "    </tr>\n",
       "    <tr>\n",
       "      <th>7</th>\n",
       "      <td>75</td>\n",
       "    </tr>\n",
       "    <tr>\n",
       "      <th>8</th>\n",
       "      <td>81</td>\n",
       "    </tr>\n",
       "    <tr>\n",
       "      <th>9</th>\n",
       "      <td>57</td>\n",
       "    </tr>\n",
       "  </tbody>\n",
       "</table>\n",
       "</div>"
      ],
      "text/plain": [
       "               count_message\n",
       "user_id month               \n",
       "1000    5                 22\n",
       "        6                 60\n",
       "        7                 75\n",
       "        8                 81\n",
       "        9                 57"
      ]
     },
     "execution_count": 54,
     "metadata": {},
     "output_type": "execute_result"
    }
   ],
   "source": [
    "messages_data_month = (messages_data\n",
    "                    .pivot_table(index=['user_id','month'], values='message_date',aggfunc='count')\n",
    "                    .rename(columns={'message_date':'count_message'})\n",
    "                   )\n",
    "# группируем данные по каждому клиенту и по месяцам\n",
    "# подсчитываем кол-во сообщений методом count()\n",
    "#переименовываем столбец\n",
    "messages_data_month.head(5)"
   ]
  },
  {
   "cell_type": "markdown",
   "metadata": {},
   "source": [
    "### объем израсходованного интернет-трафика по месяцам"
   ]
  },
  {
   "cell_type": "markdown",
   "metadata": {},
   "source": [
    "Прежде чем сгруппировать данные по месяцам, добавим в таблицу internet_data колонку, возвращающую Месяц из столбца session_date (дата интернет-сессии)."
   ]
  },
  {
   "cell_type": "code",
   "execution_count": 55,
   "metadata": {},
   "outputs": [
    {
     "data": {
      "text/html": [
       "<div>\n",
       "<style scoped>\n",
       "    .dataframe tbody tr th:only-of-type {\n",
       "        vertical-align: middle;\n",
       "    }\n",
       "\n",
       "    .dataframe tbody tr th {\n",
       "        vertical-align: top;\n",
       "    }\n",
       "\n",
       "    .dataframe thead th {\n",
       "        text-align: right;\n",
       "    }\n",
       "</style>\n",
       "<table border=\"1\" class=\"dataframe\">\n",
       "  <thead>\n",
       "    <tr style=\"text-align: right;\">\n",
       "      <th></th>\n",
       "      <th>session_date</th>\n",
       "      <th>month</th>\n",
       "    </tr>\n",
       "  </thead>\n",
       "  <tbody>\n",
       "    <tr>\n",
       "      <th>84332</th>\n",
       "      <td>2018-12-06</td>\n",
       "      <td>12</td>\n",
       "    </tr>\n",
       "    <tr>\n",
       "      <th>41311</th>\n",
       "      <td>2018-04-15</td>\n",
       "      <td>4</td>\n",
       "    </tr>\n",
       "    <tr>\n",
       "      <th>18886</th>\n",
       "      <td>2018-03-26</td>\n",
       "      <td>3</td>\n",
       "    </tr>\n",
       "    <tr>\n",
       "      <th>69916</th>\n",
       "      <td>2018-11-22</td>\n",
       "      <td>11</td>\n",
       "    </tr>\n",
       "    <tr>\n",
       "      <th>569</th>\n",
       "      <td>2018-11-10</td>\n",
       "      <td>11</td>\n",
       "    </tr>\n",
       "  </tbody>\n",
       "</table>\n",
       "</div>"
      ],
      "text/plain": [
       "      session_date  month\n",
       "84332   2018-12-06     12\n",
       "41311   2018-04-15      4\n",
       "18886   2018-03-26      3\n",
       "69916   2018-11-22     11\n",
       "569     2018-11-10     11"
      ]
     },
     "execution_count": 55,
     "metadata": {},
     "output_type": "execute_result"
    }
   ],
   "source": [
    "internet_data['month'] = internet_data['session_date'].dt.month\n",
    "internet_data[['session_date','month']].sample(5)"
   ]
  },
  {
   "cell_type": "markdown",
   "metadata": {},
   "source": [
    "Подсчитаем для каждого пользователя объем израсходованного интернет-трафика по месяцам."
   ]
  },
  {
   "cell_type": "code",
   "execution_count": 56,
   "metadata": {},
   "outputs": [
    {
     "data": {
      "text/html": [
       "<div>\n",
       "<style scoped>\n",
       "    .dataframe tbody tr th:only-of-type {\n",
       "        vertical-align: middle;\n",
       "    }\n",
       "\n",
       "    .dataframe tbody tr th {\n",
       "        vertical-align: top;\n",
       "    }\n",
       "\n",
       "    .dataframe thead th {\n",
       "        text-align: right;\n",
       "    }\n",
       "</style>\n",
       "<table border=\"1\" class=\"dataframe\">\n",
       "  <thead>\n",
       "    <tr style=\"text-align: right;\">\n",
       "      <th></th>\n",
       "      <th></th>\n",
       "      <th>sum_mb</th>\n",
       "    </tr>\n",
       "    <tr>\n",
       "      <th>user_id</th>\n",
       "      <th>month</th>\n",
       "      <th></th>\n",
       "    </tr>\n",
       "  </thead>\n",
       "  <tbody>\n",
       "    <tr>\n",
       "      <th rowspan=\"5\" valign=\"top\">1000</th>\n",
       "      <th>5</th>\n",
       "      <td>2257</td>\n",
       "    </tr>\n",
       "    <tr>\n",
       "      <th>6</th>\n",
       "      <td>23262</td>\n",
       "    </tr>\n",
       "    <tr>\n",
       "      <th>7</th>\n",
       "      <td>14017</td>\n",
       "    </tr>\n",
       "    <tr>\n",
       "      <th>8</th>\n",
       "      <td>14072</td>\n",
       "    </tr>\n",
       "    <tr>\n",
       "      <th>9</th>\n",
       "      <td>14583</td>\n",
       "    </tr>\n",
       "  </tbody>\n",
       "</table>\n",
       "</div>"
      ],
      "text/plain": [
       "               sum_mb\n",
       "user_id month        \n",
       "1000    5        2257\n",
       "        6       23262\n",
       "        7       14017\n",
       "        8       14072\n",
       "        9       14583"
      ]
     },
     "execution_count": 56,
     "metadata": {},
     "output_type": "execute_result"
    }
   ],
   "source": [
    "internet_data_month = (internet_data\n",
    "                    .pivot_table(index=['user_id','month'],values='mb_used',aggfunc='sum')\n",
    "                    .rename(columns={'mb_used':'sum_mb'})\n",
    "                   )\n",
    "# группируем данные по каждому клиенту и по месяцам\n",
    "# подсчитываем объем израсходованного интернет-трафика методом sum()\n",
    "#переименовываем столбец\n",
    "internet_data_month.head(5)"
   ]
  },
  {
   "cell_type": "markdown",
   "metadata": {},
   "source": [
    "### помесячную выручку с каждого пользователя"
   ]
  },
  {
   "cell_type": "markdown",
   "metadata": {},
   "source": [
    "Прежде чем подсчитать общую выручку необходимо свести данные в одну таблицу."
   ]
  },
  {
   "cell_type": "markdown",
   "metadata": {},
   "source": [
    "Для слияния таблиц users_data  и tariffs_data используем метод merge()."
   ]
  },
  {
   "cell_type": "code",
   "execution_count": 57,
   "metadata": {},
   "outputs": [
    {
     "data": {
      "text/html": [
       "<div>\n",
       "<style scoped>\n",
       "    .dataframe tbody tr th:only-of-type {\n",
       "        vertical-align: middle;\n",
       "    }\n",
       "\n",
       "    .dataframe tbody tr th {\n",
       "        vertical-align: top;\n",
       "    }\n",
       "\n",
       "    .dataframe thead th {\n",
       "        text-align: right;\n",
       "    }\n",
       "</style>\n",
       "<table border=\"1\" class=\"dataframe\">\n",
       "  <thead>\n",
       "    <tr style=\"text-align: right;\">\n",
       "      <th></th>\n",
       "      <th>user_id</th>\n",
       "      <th>age</th>\n",
       "      <th>churn_date</th>\n",
       "      <th>city</th>\n",
       "      <th>first_name</th>\n",
       "      <th>last_name</th>\n",
       "      <th>reg_date</th>\n",
       "      <th>tariff_name</th>\n",
       "    </tr>\n",
       "  </thead>\n",
       "  <tbody>\n",
       "    <tr>\n",
       "      <th>0</th>\n",
       "      <td>1000</td>\n",
       "      <td>52</td>\n",
       "      <td>NaT</td>\n",
       "      <td>Краснодар</td>\n",
       "      <td>Рафаил</td>\n",
       "      <td>Верещагин</td>\n",
       "      <td>2018-05-25</td>\n",
       "      <td>ultra</td>\n",
       "    </tr>\n",
       "    <tr>\n",
       "      <th>1</th>\n",
       "      <td>1001</td>\n",
       "      <td>41</td>\n",
       "      <td>NaT</td>\n",
       "      <td>Москва</td>\n",
       "      <td>Иван</td>\n",
       "      <td>Ежов</td>\n",
       "      <td>2018-11-01</td>\n",
       "      <td>smart</td>\n",
       "    </tr>\n",
       "    <tr>\n",
       "      <th>2</th>\n",
       "      <td>1002</td>\n",
       "      <td>59</td>\n",
       "      <td>NaT</td>\n",
       "      <td>Стерлитамак</td>\n",
       "      <td>Евгений</td>\n",
       "      <td>Абрамович</td>\n",
       "      <td>2018-06-17</td>\n",
       "      <td>smart</td>\n",
       "    </tr>\n",
       "    <tr>\n",
       "      <th>3</th>\n",
       "      <td>1003</td>\n",
       "      <td>23</td>\n",
       "      <td>NaT</td>\n",
       "      <td>Москва</td>\n",
       "      <td>Белла</td>\n",
       "      <td>Белякова</td>\n",
       "      <td>2018-08-17</td>\n",
       "      <td>ultra</td>\n",
       "    </tr>\n",
       "    <tr>\n",
       "      <th>4</th>\n",
       "      <td>1004</td>\n",
       "      <td>68</td>\n",
       "      <td>NaT</td>\n",
       "      <td>Новокузнецк</td>\n",
       "      <td>Татьяна</td>\n",
       "      <td>Авдеенко</td>\n",
       "      <td>2018-05-14</td>\n",
       "      <td>ultra</td>\n",
       "    </tr>\n",
       "  </tbody>\n",
       "</table>\n",
       "</div>"
      ],
      "text/plain": [
       "   user_id  age churn_date         city first_name  last_name   reg_date  \\\n",
       "0     1000   52        NaT    Краснодар     Рафаил  Верещагин 2018-05-25   \n",
       "1     1001   41        NaT       Москва       Иван       Ежов 2018-11-01   \n",
       "2     1002   59        NaT  Стерлитамак    Евгений  Абрамович 2018-06-17   \n",
       "3     1003   23        NaT       Москва      Белла   Белякова 2018-08-17   \n",
       "4     1004   68        NaT  Новокузнецк    Татьяна   Авдеенко 2018-05-14   \n",
       "\n",
       "  tariff_name  \n",
       "0       ultra  \n",
       "1       smart  \n",
       "2       smart  \n",
       "3       ultra  \n",
       "4       ultra  "
      ]
     },
     "execution_count": 57,
     "metadata": {},
     "output_type": "execute_result"
    }
   ],
   "source": [
    "# Переименуем столбец tariff в таблице users_data как в таблице tariffs_data (=tariff_name).\n",
    "users_data = users_data.rename(columns={'tariff':'tariff_name'})\n",
    "users_data.head()"
   ]
  },
  {
   "cell_type": "code",
   "execution_count": 58,
   "metadata": {},
   "outputs": [
    {
     "data": {
      "text/html": [
       "<div>\n",
       "<style scoped>\n",
       "    .dataframe tbody tr th:only-of-type {\n",
       "        vertical-align: middle;\n",
       "    }\n",
       "\n",
       "    .dataframe tbody tr th {\n",
       "        vertical-align: top;\n",
       "    }\n",
       "\n",
       "    .dataframe thead th {\n",
       "        text-align: right;\n",
       "    }\n",
       "</style>\n",
       "<table border=\"1\" class=\"dataframe\">\n",
       "  <thead>\n",
       "    <tr style=\"text-align: right;\">\n",
       "      <th></th>\n",
       "      <th>29</th>\n",
       "      <th>181</th>\n",
       "      <th>117</th>\n",
       "    </tr>\n",
       "  </thead>\n",
       "  <tbody>\n",
       "    <tr>\n",
       "      <th>user_id</th>\n",
       "      <td>1099</td>\n",
       "      <td>1043</td>\n",
       "      <td>1392</td>\n",
       "    </tr>\n",
       "    <tr>\n",
       "      <th>age</th>\n",
       "      <td>67</td>\n",
       "      <td>69</td>\n",
       "      <td>54</td>\n",
       "    </tr>\n",
       "    <tr>\n",
       "      <th>churn_date</th>\n",
       "      <td>NaT</td>\n",
       "      <td>NaT</td>\n",
       "      <td>2018-09-27 00:00:00</td>\n",
       "    </tr>\n",
       "    <tr>\n",
       "      <th>city</th>\n",
       "      <td>Тольятти</td>\n",
       "      <td>Ставрополь</td>\n",
       "      <td>Челябинск</td>\n",
       "    </tr>\n",
       "    <tr>\n",
       "      <th>first_name</th>\n",
       "      <td>Аюна</td>\n",
       "      <td>Марианна</td>\n",
       "      <td>Алла</td>\n",
       "    </tr>\n",
       "    <tr>\n",
       "      <th>last_name</th>\n",
       "      <td>Сергеева</td>\n",
       "      <td>Родионова</td>\n",
       "      <td>Беликова</td>\n",
       "    </tr>\n",
       "    <tr>\n",
       "      <th>reg_date</th>\n",
       "      <td>2018-03-16 00:00:00</td>\n",
       "      <td>2018-07-08 00:00:00</td>\n",
       "      <td>2018-02-27 00:00:00</td>\n",
       "    </tr>\n",
       "    <tr>\n",
       "      <th>tariff_name</th>\n",
       "      <td>ultra</td>\n",
       "      <td>smart</td>\n",
       "      <td>ultra</td>\n",
       "    </tr>\n",
       "    <tr>\n",
       "      <th>messages_included</th>\n",
       "      <td>1000</td>\n",
       "      <td>50</td>\n",
       "      <td>1000</td>\n",
       "    </tr>\n",
       "    <tr>\n",
       "      <th>mb_per_month_included</th>\n",
       "      <td>30720</td>\n",
       "      <td>15360</td>\n",
       "      <td>30720</td>\n",
       "    </tr>\n",
       "    <tr>\n",
       "      <th>minutes_included</th>\n",
       "      <td>3000</td>\n",
       "      <td>500</td>\n",
       "      <td>3000</td>\n",
       "    </tr>\n",
       "    <tr>\n",
       "      <th>rub_monthly_fee</th>\n",
       "      <td>1950</td>\n",
       "      <td>550</td>\n",
       "      <td>1950</td>\n",
       "    </tr>\n",
       "    <tr>\n",
       "      <th>rub_per_gb</th>\n",
       "      <td>150</td>\n",
       "      <td>200</td>\n",
       "      <td>150</td>\n",
       "    </tr>\n",
       "    <tr>\n",
       "      <th>rub_per_message</th>\n",
       "      <td>1</td>\n",
       "      <td>3</td>\n",
       "      <td>1</td>\n",
       "    </tr>\n",
       "    <tr>\n",
       "      <th>rub_per_minute</th>\n",
       "      <td>1</td>\n",
       "      <td>3</td>\n",
       "      <td>1</td>\n",
       "    </tr>\n",
       "  </tbody>\n",
       "</table>\n",
       "</div>"
      ],
      "text/plain": [
       "                                       29                   181  \\\n",
       "user_id                               1099                 1043   \n",
       "age                                     67                   69   \n",
       "churn_date                             NaT                  NaT   \n",
       "city                              Тольятти           Ставрополь   \n",
       "first_name                            Аюна             Марианна   \n",
       "last_name                         Сергеева            Родионова   \n",
       "reg_date               2018-03-16 00:00:00  2018-07-08 00:00:00   \n",
       "tariff_name                          ultra                smart   \n",
       "messages_included                     1000                   50   \n",
       "mb_per_month_included                30720                15360   \n",
       "minutes_included                      3000                  500   \n",
       "rub_monthly_fee                       1950                  550   \n",
       "rub_per_gb                             150                  200   \n",
       "rub_per_message                          1                    3   \n",
       "rub_per_minute                           1                    3   \n",
       "\n",
       "                                       117  \n",
       "user_id                               1392  \n",
       "age                                     54  \n",
       "churn_date             2018-09-27 00:00:00  \n",
       "city                             Челябинск  \n",
       "first_name                            Алла  \n",
       "last_name                         Беликова  \n",
       "reg_date               2018-02-27 00:00:00  \n",
       "tariff_name                          ultra  \n",
       "messages_included                     1000  \n",
       "mb_per_month_included                30720  \n",
       "minutes_included                      3000  \n",
       "rub_monthly_fee                       1950  \n",
       "rub_per_gb                             150  \n",
       "rub_per_message                          1  \n",
       "rub_per_minute                           1  "
      ]
     },
     "execution_count": 58,
     "metadata": {},
     "output_type": "execute_result"
    }
   ],
   "source": [
    "# Объединение двух таблиц по стобцу tariff_name\n",
    "user_tariff = users_data.merge(tariffs_data,on='tariff_name')\n",
    "user_tariff.sample(3).T"
   ]
  },
  {
   "cell_type": "code",
   "execution_count": 59,
   "metadata": {},
   "outputs": [
    {
     "name": "stdout",
     "output_type": "stream",
     "text": [
      "<class 'pandas.core.frame.DataFrame'>\n",
      "Int64Index: 500 entries, 0 to 499\n",
      "Data columns (total 15 columns):\n",
      " #   Column                 Non-Null Count  Dtype         \n",
      "---  ------                 --------------  -----         \n",
      " 0   user_id                500 non-null    int64         \n",
      " 1   age                    500 non-null    int64         \n",
      " 2   churn_date             38 non-null     datetime64[ns]\n",
      " 3   city                   500 non-null    object        \n",
      " 4   first_name             500 non-null    object        \n",
      " 5   last_name              500 non-null    object        \n",
      " 6   reg_date               500 non-null    datetime64[ns]\n",
      " 7   tariff_name            500 non-null    object        \n",
      " 8   messages_included      500 non-null    int64         \n",
      " 9   mb_per_month_included  500 non-null    int64         \n",
      " 10  minutes_included       500 non-null    int64         \n",
      " 11  rub_monthly_fee        500 non-null    int64         \n",
      " 12  rub_per_gb             500 non-null    int64         \n",
      " 13  rub_per_message        500 non-null    int64         \n",
      " 14  rub_per_minute         500 non-null    int64         \n",
      "dtypes: datetime64[ns](2), int64(9), object(4)\n",
      "memory usage: 62.5+ KB\n",
      "None\n"
     ]
    }
   ],
   "source": [
    "# Данные о таблице\n",
    "print(user_tariff.info())"
   ]
  },
  {
   "cell_type": "markdown",
   "metadata": {},
   "source": [
    "Данные объединились. Получилось 15 столбцов (8столбцов+7столбцов), 500 строк (общее количество пользователей). В одной таблице собрали данные о пользователе и подробное описание его тарифа."
   ]
  },
  {
   "cell_type": "markdown",
   "metadata": {},
   "source": [
    "Теперь объединим три сводные таблицы internet_data_month, calls_data_month, messages_data_month по двум столбцам index=['user_id','month']."
   ]
  },
  {
   "cell_type": "code",
   "execution_count": 60,
   "metadata": {},
   "outputs": [
    {
     "data": {
      "text/html": [
       "<div>\n",
       "<style scoped>\n",
       "    .dataframe tbody tr th:only-of-type {\n",
       "        vertical-align: middle;\n",
       "    }\n",
       "\n",
       "    .dataframe tbody tr th {\n",
       "        vertical-align: top;\n",
       "    }\n",
       "\n",
       "    .dataframe thead th {\n",
       "        text-align: right;\n",
       "    }\n",
       "</style>\n",
       "<table border=\"1\" class=\"dataframe\">\n",
       "  <thead>\n",
       "    <tr style=\"text-align: right;\">\n",
       "      <th></th>\n",
       "      <th></th>\n",
       "      <th>sum_minute</th>\n",
       "      <th>count_calls</th>\n",
       "      <th>count_message</th>\n",
       "      <th>sum_mb</th>\n",
       "    </tr>\n",
       "    <tr>\n",
       "      <th>user_id</th>\n",
       "      <th>month</th>\n",
       "      <th></th>\n",
       "      <th></th>\n",
       "      <th></th>\n",
       "      <th></th>\n",
       "    </tr>\n",
       "  </thead>\n",
       "  <tbody>\n",
       "    <tr>\n",
       "      <th rowspan=\"5\" valign=\"top\">1000</th>\n",
       "      <th>5</th>\n",
       "      <td>164.0</td>\n",
       "      <td>22.0</td>\n",
       "      <td>22.0</td>\n",
       "      <td>2257.0</td>\n",
       "    </tr>\n",
       "    <tr>\n",
       "      <th>6</th>\n",
       "      <td>187.0</td>\n",
       "      <td>43.0</td>\n",
       "      <td>60.0</td>\n",
       "      <td>23262.0</td>\n",
       "    </tr>\n",
       "    <tr>\n",
       "      <th>7</th>\n",
       "      <td>346.0</td>\n",
       "      <td>47.0</td>\n",
       "      <td>75.0</td>\n",
       "      <td>14017.0</td>\n",
       "    </tr>\n",
       "    <tr>\n",
       "      <th>8</th>\n",
       "      <td>418.0</td>\n",
       "      <td>52.0</td>\n",
       "      <td>81.0</td>\n",
       "      <td>14072.0</td>\n",
       "    </tr>\n",
       "    <tr>\n",
       "      <th>9</th>\n",
       "      <td>478.0</td>\n",
       "      <td>58.0</td>\n",
       "      <td>57.0</td>\n",
       "      <td>14583.0</td>\n",
       "    </tr>\n",
       "  </tbody>\n",
       "</table>\n",
       "</div>"
      ],
      "text/plain": [
       "               sum_minute  count_calls  count_message   sum_mb\n",
       "user_id month                                                 \n",
       "1000    5           164.0         22.0           22.0   2257.0\n",
       "        6           187.0         43.0           60.0  23262.0\n",
       "        7           346.0         47.0           75.0  14017.0\n",
       "        8           418.0         52.0           81.0  14072.0\n",
       "        9           478.0         58.0           57.0  14583.0"
      ]
     },
     "execution_count": 60,
     "metadata": {},
     "output_type": "execute_result"
    }
   ],
   "source": [
    "month_data = calls_data_month.merge(messages_data_month,on=['user_id','month'],how='outer')\n",
    "month_data = month_data.merge(internet_data_month, on=['user_id','month'],how='outer')\n",
    "month_data.head()"
   ]
  },
  {
   "cell_type": "code",
   "execution_count": 61,
   "metadata": {},
   "outputs": [
    {
     "name": "stdout",
     "output_type": "stream",
     "text": [
      "<class 'pandas.core.frame.DataFrame'>\n",
      "MultiIndex: 3214 entries, (1000, 5) to (1476, 4)\n",
      "Data columns (total 4 columns):\n",
      " #   Column         Non-Null Count  Dtype  \n",
      "---  ------         --------------  -----  \n",
      " 0   sum_minute     3174 non-null   float64\n",
      " 1   count_calls    3174 non-null   float64\n",
      " 2   count_message  2717 non-null   float64\n",
      " 3   sum_mb         3203 non-null   float64\n",
      "dtypes: float64(4)\n",
      "memory usage: 114.0 KB\n"
     ]
    }
   ],
   "source": [
    "month_data.info()"
   ]
  },
  {
   "cell_type": "markdown",
   "metadata": {},
   "source": [
    "Подготовим таблицу для дальнейшего объединения с таблицей user_tariff по индексу user_id, так чтобы появился столбец с наименованием месяца."
   ]
  },
  {
   "cell_type": "code",
   "execution_count": 62,
   "metadata": {},
   "outputs": [],
   "source": [
    "# замена пропусков нулями, чтобы помесячная выручка считалась корректно (без NaN)\n",
    "month_data = month_data.fillna(0)"
   ]
  },
  {
   "cell_type": "code",
   "execution_count": 63,
   "metadata": {},
   "outputs": [
    {
     "data": {
      "text/plain": [
       "sum_minute       0\n",
       "count_calls      0\n",
       "count_message    0\n",
       "sum_mb           0\n",
       "dtype: int64"
      ]
     },
     "execution_count": 63,
     "metadata": {},
     "output_type": "execute_result"
    }
   ],
   "source": [
    "# проверка отсутствия пропусков\n",
    "month_data.isnull().sum()"
   ]
  },
  {
   "cell_type": "code",
   "execution_count": 64,
   "metadata": {},
   "outputs": [
    {
     "name": "stdout",
     "output_type": "stream",
     "text": [
      "<class 'pandas.core.frame.DataFrame'>\n",
      "Int64Index: 3214 entries, 1000 to 1476\n",
      "Data columns (total 5 columns):\n",
      " #   Column         Non-Null Count  Dtype  \n",
      "---  ------         --------------  -----  \n",
      " 0   month          3214 non-null   int64  \n",
      " 1   sum_minute     3214 non-null   float64\n",
      " 2   count_calls    3214 non-null   float64\n",
      " 3   count_message  3214 non-null   float64\n",
      " 4   sum_mb         3214 non-null   float64\n",
      "dtypes: float64(4), int64(1)\n",
      "memory usage: 150.7 KB\n"
     ]
    }
   ],
   "source": [
    "# сбросим индекс в таблице с мультииндексом и установим индекс из одного столбца user_id: \n",
    "month_data_id = month_data.reset_index().set_index('user_id')\n",
    "month_data_id.info()"
   ]
  },
  {
   "cell_type": "code",
   "execution_count": 65,
   "metadata": {},
   "outputs": [
    {
     "data": {
      "text/html": [
       "<div>\n",
       "<style scoped>\n",
       "    .dataframe tbody tr th:only-of-type {\n",
       "        vertical-align: middle;\n",
       "    }\n",
       "\n",
       "    .dataframe tbody tr th {\n",
       "        vertical-align: top;\n",
       "    }\n",
       "\n",
       "    .dataframe thead th {\n",
       "        text-align: right;\n",
       "    }\n",
       "</style>\n",
       "<table border=\"1\" class=\"dataframe\">\n",
       "  <thead>\n",
       "    <tr style=\"text-align: right;\">\n",
       "      <th></th>\n",
       "      <th>user_id</th>\n",
       "    </tr>\n",
       "  </thead>\n",
       "  <tbody>\n",
       "    <tr>\n",
       "      <th>0</th>\n",
       "      <td>1000</td>\n",
       "    </tr>\n",
       "    <tr>\n",
       "      <th>1</th>\n",
       "      <td>1000</td>\n",
       "    </tr>\n",
       "    <tr>\n",
       "      <th>2</th>\n",
       "      <td>1000</td>\n",
       "    </tr>\n",
       "    <tr>\n",
       "      <th>3</th>\n",
       "      <td>1000</td>\n",
       "    </tr>\n",
       "    <tr>\n",
       "      <th>4</th>\n",
       "      <td>1000</td>\n",
       "    </tr>\n",
       "  </tbody>\n",
       "</table>\n",
       "</div>"
      ],
      "text/plain": [
       "   user_id\n",
       "0     1000\n",
       "1     1000\n",
       "2     1000\n",
       "3     1000\n",
       "4     1000"
      ]
     },
     "execution_count": 65,
     "metadata": {},
     "output_type": "execute_result"
    }
   ],
   "source": [
    "# смотрим новый индекс\n",
    "month_data_id.index.to_frame()[[]].reset_index().head()"
   ]
  },
  {
   "cell_type": "markdown",
   "metadata": {},
   "source": [
    "Объединение таблиц user_tariff (пользователи и их тарифы) и month_data по индексу 'user_id'. Параметру how передадим значение left, чтобы не появилось строк с пропусками в данных о использованных минутах разговора/сообщениях/интернет-трафике."
   ]
  },
  {
   "cell_type": "code",
   "execution_count": 66,
   "metadata": {},
   "outputs": [
    {
     "data": {
      "text/html": [
       "<div>\n",
       "<style scoped>\n",
       "    .dataframe tbody tr th:only-of-type {\n",
       "        vertical-align: middle;\n",
       "    }\n",
       "\n",
       "    .dataframe tbody tr th {\n",
       "        vertical-align: top;\n",
       "    }\n",
       "\n",
       "    .dataframe thead th {\n",
       "        text-align: right;\n",
       "    }\n",
       "</style>\n",
       "<table border=\"1\" class=\"dataframe\">\n",
       "  <thead>\n",
       "    <tr style=\"text-align: right;\">\n",
       "      <th></th>\n",
       "      <th>0</th>\n",
       "      <th>1</th>\n",
       "      <th>2</th>\n",
       "    </tr>\n",
       "  </thead>\n",
       "  <tbody>\n",
       "    <tr>\n",
       "      <th>user_id</th>\n",
       "      <td>1000</td>\n",
       "      <td>1000</td>\n",
       "      <td>1000</td>\n",
       "    </tr>\n",
       "    <tr>\n",
       "      <th>month</th>\n",
       "      <td>5</td>\n",
       "      <td>6</td>\n",
       "      <td>7</td>\n",
       "    </tr>\n",
       "    <tr>\n",
       "      <th>sum_minute</th>\n",
       "      <td>164</td>\n",
       "      <td>187</td>\n",
       "      <td>346</td>\n",
       "    </tr>\n",
       "    <tr>\n",
       "      <th>count_calls</th>\n",
       "      <td>22</td>\n",
       "      <td>43</td>\n",
       "      <td>47</td>\n",
       "    </tr>\n",
       "    <tr>\n",
       "      <th>count_message</th>\n",
       "      <td>22</td>\n",
       "      <td>60</td>\n",
       "      <td>75</td>\n",
       "    </tr>\n",
       "    <tr>\n",
       "      <th>sum_mb</th>\n",
       "      <td>2257</td>\n",
       "      <td>23262</td>\n",
       "      <td>14017</td>\n",
       "    </tr>\n",
       "    <tr>\n",
       "      <th>age</th>\n",
       "      <td>52</td>\n",
       "      <td>52</td>\n",
       "      <td>52</td>\n",
       "    </tr>\n",
       "    <tr>\n",
       "      <th>churn_date</th>\n",
       "      <td>NaT</td>\n",
       "      <td>NaT</td>\n",
       "      <td>NaT</td>\n",
       "    </tr>\n",
       "    <tr>\n",
       "      <th>city</th>\n",
       "      <td>Краснодар</td>\n",
       "      <td>Краснодар</td>\n",
       "      <td>Краснодар</td>\n",
       "    </tr>\n",
       "    <tr>\n",
       "      <th>first_name</th>\n",
       "      <td>Рафаил</td>\n",
       "      <td>Рафаил</td>\n",
       "      <td>Рафаил</td>\n",
       "    </tr>\n",
       "    <tr>\n",
       "      <th>last_name</th>\n",
       "      <td>Верещагин</td>\n",
       "      <td>Верещагин</td>\n",
       "      <td>Верещагин</td>\n",
       "    </tr>\n",
       "    <tr>\n",
       "      <th>reg_date</th>\n",
       "      <td>2018-05-25 00:00:00</td>\n",
       "      <td>2018-05-25 00:00:00</td>\n",
       "      <td>2018-05-25 00:00:00</td>\n",
       "    </tr>\n",
       "    <tr>\n",
       "      <th>tariff_name</th>\n",
       "      <td>ultra</td>\n",
       "      <td>ultra</td>\n",
       "      <td>ultra</td>\n",
       "    </tr>\n",
       "    <tr>\n",
       "      <th>messages_included</th>\n",
       "      <td>1000</td>\n",
       "      <td>1000</td>\n",
       "      <td>1000</td>\n",
       "    </tr>\n",
       "    <tr>\n",
       "      <th>mb_per_month_included</th>\n",
       "      <td>30720</td>\n",
       "      <td>30720</td>\n",
       "      <td>30720</td>\n",
       "    </tr>\n",
       "    <tr>\n",
       "      <th>minutes_included</th>\n",
       "      <td>3000</td>\n",
       "      <td>3000</td>\n",
       "      <td>3000</td>\n",
       "    </tr>\n",
       "    <tr>\n",
       "      <th>rub_monthly_fee</th>\n",
       "      <td>1950</td>\n",
       "      <td>1950</td>\n",
       "      <td>1950</td>\n",
       "    </tr>\n",
       "    <tr>\n",
       "      <th>rub_per_gb</th>\n",
       "      <td>150</td>\n",
       "      <td>150</td>\n",
       "      <td>150</td>\n",
       "    </tr>\n",
       "    <tr>\n",
       "      <th>rub_per_message</th>\n",
       "      <td>1</td>\n",
       "      <td>1</td>\n",
       "      <td>1</td>\n",
       "    </tr>\n",
       "    <tr>\n",
       "      <th>rub_per_minute</th>\n",
       "      <td>1</td>\n",
       "      <td>1</td>\n",
       "      <td>1</td>\n",
       "    </tr>\n",
       "  </tbody>\n",
       "</table>\n",
       "</div>"
      ],
      "text/plain": [
       "                                         0                    1  \\\n",
       "user_id                               1000                 1000   \n",
       "month                                    5                    6   \n",
       "sum_minute                             164                  187   \n",
       "count_calls                             22                   43   \n",
       "count_message                           22                   60   \n",
       "sum_mb                                2257                23262   \n",
       "age                                     52                   52   \n",
       "churn_date                             NaT                  NaT   \n",
       "city                             Краснодар            Краснодар   \n",
       "first_name                          Рафаил               Рафаил   \n",
       "last_name                        Верещагин            Верещагин   \n",
       "reg_date               2018-05-25 00:00:00  2018-05-25 00:00:00   \n",
       "tariff_name                          ultra                ultra   \n",
       "messages_included                     1000                 1000   \n",
       "mb_per_month_included                30720                30720   \n",
       "minutes_included                      3000                 3000   \n",
       "rub_monthly_fee                       1950                 1950   \n",
       "rub_per_gb                             150                  150   \n",
       "rub_per_message                          1                    1   \n",
       "rub_per_minute                           1                    1   \n",
       "\n",
       "                                         2  \n",
       "user_id                               1000  \n",
       "month                                    7  \n",
       "sum_minute                             346  \n",
       "count_calls                             47  \n",
       "count_message                           75  \n",
       "sum_mb                               14017  \n",
       "age                                     52  \n",
       "churn_date                             NaT  \n",
       "city                             Краснодар  \n",
       "first_name                          Рафаил  \n",
       "last_name                        Верещагин  \n",
       "reg_date               2018-05-25 00:00:00  \n",
       "tariff_name                          ultra  \n",
       "messages_included                     1000  \n",
       "mb_per_month_included                30720  \n",
       "minutes_included                      3000  \n",
       "rub_monthly_fee                       1950  \n",
       "rub_per_gb                             150  \n",
       "rub_per_message                          1  \n",
       "rub_per_minute                           1  "
      ]
     },
     "execution_count": 66,
     "metadata": {},
     "output_type": "execute_result"
    }
   ],
   "source": [
    "finall_data = month_data_id.merge(user_tariff,on='user_id',how='left')\n",
    "finall_data.head(3).T"
   ]
  },
  {
   "cell_type": "code",
   "execution_count": 67,
   "metadata": {},
   "outputs": [
    {
     "data": {
      "text/plain": [
       "user_id                     0\n",
       "month                       0\n",
       "sum_minute                  0\n",
       "count_calls                 0\n",
       "count_message               0\n",
       "sum_mb                      0\n",
       "age                         0\n",
       "churn_date               3027\n",
       "city                        0\n",
       "first_name                  0\n",
       "last_name                   0\n",
       "reg_date                    0\n",
       "tariff_name                 0\n",
       "messages_included           0\n",
       "mb_per_month_included       0\n",
       "minutes_included            0\n",
       "rub_monthly_fee             0\n",
       "rub_per_gb                  0\n",
       "rub_per_message             0\n",
       "rub_per_minute              0\n",
       "dtype: int64"
      ]
     },
     "execution_count": 67,
     "metadata": {},
     "output_type": "execute_result"
    }
   ],
   "source": [
    "# Проверка пропусков\n",
    "finall_data.isnull().sum()"
   ]
  },
  {
   "cell_type": "markdown",
   "metadata": {},
   "source": [
    "Подсчитаем помесячную выручку с каждого пользователя (вычтим бесплатный лимит из суммарного количества звонков, сообщений и интернет-трафика; остаток умножим на значение из тарифного плана; прибавим абонентскую плату, соответствующую тарифному плану). Для этого создадим новый столбец income с помесячной выручкой."
   ]
  },
  {
   "cell_type": "markdown",
   "metadata": {},
   "source": [
    "Если суммарное количество звонков/сообщений/интернет-трафика меньше чем бесплатный лимит, то разность не нужно умножать на значение из тарифного плана, значение разности нужно принять за 0."
   ]
  },
  {
   "cell_type": "code",
   "execution_count": 68,
   "metadata": {},
   "outputs": [
    {
     "data": {
      "text/html": [
       "<div>\n",
       "<style scoped>\n",
       "    .dataframe tbody tr th:only-of-type {\n",
       "        vertical-align: middle;\n",
       "    }\n",
       "\n",
       "    .dataframe tbody tr th {\n",
       "        vertical-align: top;\n",
       "    }\n",
       "\n",
       "    .dataframe thead th {\n",
       "        text-align: right;\n",
       "    }\n",
       "</style>\n",
       "<table border=\"1\" class=\"dataframe\">\n",
       "  <thead>\n",
       "    <tr style=\"text-align: right;\">\n",
       "      <th></th>\n",
       "      <th>0</th>\n",
       "      <th>1</th>\n",
       "      <th>2</th>\n",
       "    </tr>\n",
       "  </thead>\n",
       "  <tbody>\n",
       "    <tr>\n",
       "      <th>user_id</th>\n",
       "      <td>1000</td>\n",
       "      <td>1000</td>\n",
       "      <td>1000</td>\n",
       "    </tr>\n",
       "    <tr>\n",
       "      <th>month</th>\n",
       "      <td>5</td>\n",
       "      <td>6</td>\n",
       "      <td>7</td>\n",
       "    </tr>\n",
       "    <tr>\n",
       "      <th>sum_minute</th>\n",
       "      <td>164</td>\n",
       "      <td>187</td>\n",
       "      <td>346</td>\n",
       "    </tr>\n",
       "    <tr>\n",
       "      <th>count_calls</th>\n",
       "      <td>22</td>\n",
       "      <td>43</td>\n",
       "      <td>47</td>\n",
       "    </tr>\n",
       "    <tr>\n",
       "      <th>count_message</th>\n",
       "      <td>22</td>\n",
       "      <td>60</td>\n",
       "      <td>75</td>\n",
       "    </tr>\n",
       "    <tr>\n",
       "      <th>sum_mb</th>\n",
       "      <td>2257</td>\n",
       "      <td>23262</td>\n",
       "      <td>14017</td>\n",
       "    </tr>\n",
       "    <tr>\n",
       "      <th>age</th>\n",
       "      <td>52</td>\n",
       "      <td>52</td>\n",
       "      <td>52</td>\n",
       "    </tr>\n",
       "    <tr>\n",
       "      <th>churn_date</th>\n",
       "      <td>NaT</td>\n",
       "      <td>NaT</td>\n",
       "      <td>NaT</td>\n",
       "    </tr>\n",
       "    <tr>\n",
       "      <th>city</th>\n",
       "      <td>Краснодар</td>\n",
       "      <td>Краснодар</td>\n",
       "      <td>Краснодар</td>\n",
       "    </tr>\n",
       "    <tr>\n",
       "      <th>first_name</th>\n",
       "      <td>Рафаил</td>\n",
       "      <td>Рафаил</td>\n",
       "      <td>Рафаил</td>\n",
       "    </tr>\n",
       "    <tr>\n",
       "      <th>last_name</th>\n",
       "      <td>Верещагин</td>\n",
       "      <td>Верещагин</td>\n",
       "      <td>Верещагин</td>\n",
       "    </tr>\n",
       "    <tr>\n",
       "      <th>reg_date</th>\n",
       "      <td>2018-05-25 00:00:00</td>\n",
       "      <td>2018-05-25 00:00:00</td>\n",
       "      <td>2018-05-25 00:00:00</td>\n",
       "    </tr>\n",
       "    <tr>\n",
       "      <th>tariff_name</th>\n",
       "      <td>ultra</td>\n",
       "      <td>ultra</td>\n",
       "      <td>ultra</td>\n",
       "    </tr>\n",
       "    <tr>\n",
       "      <th>messages_included</th>\n",
       "      <td>1000</td>\n",
       "      <td>1000</td>\n",
       "      <td>1000</td>\n",
       "    </tr>\n",
       "    <tr>\n",
       "      <th>mb_per_month_included</th>\n",
       "      <td>30720</td>\n",
       "      <td>30720</td>\n",
       "      <td>30720</td>\n",
       "    </tr>\n",
       "    <tr>\n",
       "      <th>minutes_included</th>\n",
       "      <td>3000</td>\n",
       "      <td>3000</td>\n",
       "      <td>3000</td>\n",
       "    </tr>\n",
       "    <tr>\n",
       "      <th>rub_monthly_fee</th>\n",
       "      <td>1950</td>\n",
       "      <td>1950</td>\n",
       "      <td>1950</td>\n",
       "    </tr>\n",
       "    <tr>\n",
       "      <th>rub_per_gb</th>\n",
       "      <td>150</td>\n",
       "      <td>150</td>\n",
       "      <td>150</td>\n",
       "    </tr>\n",
       "    <tr>\n",
       "      <th>rub_per_message</th>\n",
       "      <td>1</td>\n",
       "      <td>1</td>\n",
       "      <td>1</td>\n",
       "    </tr>\n",
       "    <tr>\n",
       "      <th>rub_per_minute</th>\n",
       "      <td>1</td>\n",
       "      <td>1</td>\n",
       "      <td>1</td>\n",
       "    </tr>\n",
       "    <tr>\n",
       "      <th>over_minute</th>\n",
       "      <td>0</td>\n",
       "      <td>0</td>\n",
       "      <td>0</td>\n",
       "    </tr>\n",
       "    <tr>\n",
       "      <th>over_message</th>\n",
       "      <td>0</td>\n",
       "      <td>0</td>\n",
       "      <td>0</td>\n",
       "    </tr>\n",
       "    <tr>\n",
       "      <th>over_mb</th>\n",
       "      <td>0</td>\n",
       "      <td>0</td>\n",
       "      <td>0</td>\n",
       "    </tr>\n",
       "    <tr>\n",
       "      <th>income</th>\n",
       "      <td>1950</td>\n",
       "      <td>1950</td>\n",
       "      <td>1950</td>\n",
       "    </tr>\n",
       "  </tbody>\n",
       "</table>\n",
       "</div>"
      ],
      "text/plain": [
       "                                         0                    1  \\\n",
       "user_id                               1000                 1000   \n",
       "month                                    5                    6   \n",
       "sum_minute                             164                  187   \n",
       "count_calls                             22                   43   \n",
       "count_message                           22                   60   \n",
       "sum_mb                                2257                23262   \n",
       "age                                     52                   52   \n",
       "churn_date                             NaT                  NaT   \n",
       "city                             Краснодар            Краснодар   \n",
       "first_name                          Рафаил               Рафаил   \n",
       "last_name                        Верещагин            Верещагин   \n",
       "reg_date               2018-05-25 00:00:00  2018-05-25 00:00:00   \n",
       "tariff_name                          ultra                ultra   \n",
       "messages_included                     1000                 1000   \n",
       "mb_per_month_included                30720                30720   \n",
       "minutes_included                      3000                 3000   \n",
       "rub_monthly_fee                       1950                 1950   \n",
       "rub_per_gb                             150                  150   \n",
       "rub_per_message                          1                    1   \n",
       "rub_per_minute                           1                    1   \n",
       "over_minute                              0                    0   \n",
       "over_message                             0                    0   \n",
       "over_mb                                  0                    0   \n",
       "income                                1950                 1950   \n",
       "\n",
       "                                         2  \n",
       "user_id                               1000  \n",
       "month                                    7  \n",
       "sum_minute                             346  \n",
       "count_calls                             47  \n",
       "count_message                           75  \n",
       "sum_mb                               14017  \n",
       "age                                     52  \n",
       "churn_date                             NaT  \n",
       "city                             Краснодар  \n",
       "first_name                          Рафаил  \n",
       "last_name                        Верещагин  \n",
       "reg_date               2018-05-25 00:00:00  \n",
       "tariff_name                          ultra  \n",
       "messages_included                     1000  \n",
       "mb_per_month_included                30720  \n",
       "minutes_included                      3000  \n",
       "rub_monthly_fee                       1950  \n",
       "rub_per_gb                             150  \n",
       "rub_per_message                          1  \n",
       "rub_per_minute                           1  \n",
       "over_minute                              0  \n",
       "over_message                             0  \n",
       "over_mb                                  0  \n",
       "income                                1950  "
      ]
     },
     "execution_count": 68,
     "metadata": {},
     "output_type": "execute_result"
    }
   ],
   "source": [
    "# Создадим столбцы разностей\n",
    "finall_data['over_minute'] = finall_data['sum_minute'] - finall_data['minutes_included']\n",
    "finall_data['over_message'] = finall_data['count_message'] - finall_data['messages_included']\n",
    "finall_data['over_mb'] = finall_data['sum_mb'] - finall_data['mb_per_month_included']\n",
    "\n",
    "# Обнулим значения в строках, где количество звонков/сообщений/интернет-трафика меньше чем бесплатный лимит\n",
    "finall_data.loc[(finall_data['over_minute']<0),'over_minute'] = 0 \n",
    "finall_data.loc[(finall_data['over_message']<0),'over_message'] = 0\n",
    "finall_data.loc[(finall_data['over_mb']<0),'over_mb'] = 0\n",
    "\n",
    "# Подсчитаем помесячную выручку с каждого пользователя \n",
    "# Округляем минуты и мегабайты до целых в большую сторону\n",
    "\n",
    "finall_data['income'] = ( np.ceil(finall_data['over_minute'])*finall_data['rub_per_minute'] \n",
    "                         + finall_data['over_message']*finall_data['rub_per_message'] \n",
    "                         + np.ceil(finall_data['over_mb']/1024)*finall_data['rub_per_gb']\n",
    "                         + finall_data['rub_monthly_fee']\n",
    "                        )\n",
    "\n",
    "finall_data.head(3).T"
   ]
  },
  {
   "cell_type": "markdown",
   "metadata": {},
   "source": [
    "Финальная таблица данных finall_data готова. Помесячная выручка с каждого пользователя рассчитана в отдельном столбце income."
   ]
  },
  {
   "cell_type": "markdown",
   "metadata": {},
   "source": [
    "# Шаг 3. Анализ данных"
   ]
  },
  {
   "cell_type": "markdown",
   "metadata": {},
   "source": [
    "## Опишем поведение клиентов оператора"
   ]
  },
  {
   "cell_type": "markdown",
   "metadata": {},
   "source": [
    "Создадим отдельные таблицы по тарифам."
   ]
  },
  {
   "cell_type": "code",
   "execution_count": 69,
   "metadata": {},
   "outputs": [],
   "source": [
    "finall_data_ultra = finall_data.query('tariff_name==\"ultra\"')\n",
    "finall_data_smart = finall_data.query('tariff_name==\"smart\"')"
   ]
  },
  {
   "cell_type": "markdown",
   "metadata": {},
   "source": [
    "Исследуем параметры двух тарифов.\n",
    "\n",
    "Чтобы понять, в какую сторону скошен датасет рассмотрим характеристики положения: медиану и среднее.\n",
    "Помня о том, что медиана в отличие от среднего устойчива к выбросам: для скошенных вправо данных медиана будет меньше среднего, а для скошенных влево — больше.\n",
    "\n",
    "Определим границы, за которыми начинаются выбросы.\n",
    "\n",
    "Так как известно, что наши данные это не вся совокупность, а выборка из неё, вместо дисперсии считаем её оценку по имеющейся выборке. Для этого в методе var() указываем параметр ddof=1. \n"
   ]
  },
  {
   "cell_type": "code",
   "execution_count": 70,
   "metadata": {},
   "outputs": [
    {
     "name": "stdout",
     "output_type": "stream",
     "text": [
      "Среднее значение sum_mb = 16237.2\n",
      "Медиана sum_mb = 16540.0\n",
      "Данные скошены влево\n",
      "Выбросы лежат в границах ниже 1538.0 и выше 31202.0\n",
      "Стандартное отклонение sum_mb = 5879.8\n",
      "Стандартное отклонение для выборки sum_mb = 5878.5\n",
      "Дисперсия sum_mb = 34556481.0\n",
      "\n",
      "Среднее значение count_message = 33.4\n",
      "Медиана count_message = 28.0\n",
      "Данные скошены вправо\n",
      "Выбросы лежат в границах ниже -51.5 и выше 112.5\n",
      "Стандартное отклонение count_message = 28.2\n",
      "Стандартное отклонение для выборки count_message = 28.2\n",
      "Дисперсия count_message = 796.5\n",
      "\n",
      "Среднее значение sum_minute = 429.5\n",
      "Медиана sum_minute = 435.0\n",
      "Данные скошены влево\n",
      "Выбросы лежат в границах ниже -112.5 и выше 963.5\n",
      "Стандартное отклонение sum_minute = 194.9\n",
      "Стандартное отклонение для выборки sum_minute = 194.8\n",
      "Дисперсия sum_minute = 37957.7\n",
      "\n"
     ]
    }
   ],
   "source": [
    "# Создадим функцию для расчета числовых показателей вуыскшиу(), дисперсию и определяющую скошенность данных\n",
    "\n",
    "def describe_data(df,column):\n",
    "    iqr = df[column].describe().loc['75%'] - df[column].describe().loc['25%']\n",
    "    iqr_lower = df[column].describe().loc['25%'] - iqr*1.5\n",
    "    iqr_upper = df[column].describe().loc['75%'] + iqr*1.5\n",
    "   \n",
    "    #plt.ylim(0,iqr_upper*2)\n",
    "    #df[column].boxplot() # отображение ящика с усами\n",
    "    #plt.show()\n",
    "    \n",
    "    print('Среднее значение',column,'= {:.1f}'.format(df[column].describe().loc['mean']))\n",
    "    print('Медиана',column,'= {:.1f}'.format(df[column].describe().loc['50%']))\n",
    "    if df[column].describe().loc['mean'] > df[column].describe().loc['50%']:\n",
    "        print('Данные скошены вправо')\n",
    "    else:\n",
    "        print('Данные скошены влево')\n",
    "    print('Выбросы лежат в границах ниже {:.1f}'.format(iqr_lower),'и выше {:.1f}'.format(iqr_upper))\n",
    "    print('Стандартное отклонение',column,'= {:.1f}'.format(df[column].describe().loc['std']))\n",
    "    print('Стандартное отклонение для выборки',column,'= {:.1f}'.format(np.std(df[column])))\n",
    "    print('Дисперсия',column,'= {:.1f}'.format(np.var(df[column])))\n",
    "    print()\n",
    "\n",
    "    \n",
    "for column in ('sum_mb','count_message','sum_minute'):\n",
    "    describe_data(finall_data_smart,column)    "
   ]
  },
  {
   "cell_type": "markdown",
   "metadata": {},
   "source": [
    "**Вывод по тарифу Smart:**\n",
    "\n",
    "В среднем пользователи тарифа ежемесячно тратят 16237.2 мегабайт интернет-трафика, с разбросом данных 5878.5 мегабайт.Редкие и выбивающиеся значения находятся в границах ниже 1538 и выше 31202. Дисперсия равна 34556481.\n",
    "\n",
    "В среднем пользователи тарифа ежемесячно отправляют 33 сообщения, с разбросом данных в 28 сообщений.Редкие и выбивающиеся значения находятся в границах выше 112.5. Дисперсия равна 796.5.\n",
    "\n",
    "В среднем пользователи тарифа ежемесячно разговаривают по 430 минут, с разбросом данных 195 минут.Редкие и выбивающиеся значения находятся в границах выше 963.5. Дисперсия равна 37957.7.\n",
    "\n",
    "Т.к. использовынные минуты разговора, сообщения и объём интернет-трафика число неотрицательное, то рассматриваемые границы выбросов лежат выше нулевого значения."
   ]
  },
  {
   "cell_type": "code",
   "execution_count": 71,
   "metadata": {},
   "outputs": [
    {
     "name": "stdout",
     "output_type": "stream",
     "text": [
      "Среднее значение sum_mb = 19488.7\n",
      "Медиана sum_mb = 19324.0\n",
      "Данные скошены вправо\n",
      "Выбросы лежат в границах ниже -10831.5 и выше 49484.5\n",
      "Стандартное отклонение sum_mb = 10097.1\n",
      "Стандартное отклонение для выборки sum_mb = 10092.0\n",
      "Дисперсия sum_mb = 101848076.5\n",
      "\n",
      "Среднее значение count_message = 49.4\n",
      "Медиана count_message = 38.0\n",
      "Данные скошены вправо\n",
      "Выбросы лежат в границах ниже -103.5 и выше 188.5\n",
      "Стандартное отклонение count_message = 47.8\n",
      "Стандартное отклонение для выборки count_message = 47.8\n",
      "Дисперсия count_message = 2282.9\n",
      "\n",
      "Среднее значение sum_minute = 540.8\n",
      "Медиана sum_minute = 532.0\n",
      "Данные скошены вправо\n",
      "Выбросы лежат в границах ниже -429.5 и выше 1494.5\n",
      "Стандартное отклонение sum_minute = 325.7\n",
      "Стандартное отклонение для выборки sum_minute = 325.6\n",
      "Дисперсия sum_minute = 105998.0\n",
      "\n"
     ]
    }
   ],
   "source": [
    "for column in ('sum_mb','count_message','sum_minute'):\n",
    "    describe_data(finall_data_ultra,column)"
   ]
  },
  {
   "cell_type": "markdown",
   "metadata": {},
   "source": [
    "**Вывод по тарифу Ultra:**\n",
    "\n",
    "В среднем пользователи тарифа ежемесячно тратят 19489 мегабайт интернет-трафика, с разбросом данных 10092 мегабайт.Редкие и выбивающиеся значения находятся в границах выше 49484.5. Дисперсия равна 101848076.5.\n",
    "\n",
    "В среднем пользователи тарифа ежемесячно отправляют 49 сообщения, с разбросом данных в 48 сообщений.Редкие и выбивающиеся значения находятся в границах выше 188.5. Дисперсия равна 2282.9.\n",
    "\n",
    "В среднем пользователи тарифа ежемесячно разговаривают по 541 минут, с разбросом данных 326 минут.Редкие и выбивающиеся значения находятся в границах выше 1494.5. Дисперсия равна 105998.\n",
    "\n",
    "Т.к. использовынные минуты разговора, сообщения и объём интернет-трафика число неотрицательное, то рассматриваемые границы выбросов лежат выше нулевого значения."
   ]
  },
  {
   "cell_type": "markdown",
   "metadata": {},
   "source": [
    "**Построим графики (ящики с усами) по двум тарифам.**"
   ]
  },
  {
   "cell_type": "code",
   "execution_count": 72,
   "metadata": {},
   "outputs": [
    {
     "data": {
      "image/png": "[encoded data removed]",
      "text/plain": [
       "<Figure size 1080x360 with 3 Axes>"
      ]
     },
     "metadata": {
      "needs_background": "light"
     },
     "output_type": "display_data"
    }
   ],
   "source": [
    "plt.subplots(figsize=(15,5)) # создание таблицы для отрисовки графиков вместе\n",
    "finall_data.boxplot('sum_mb',by='tariff_name',ax=plt.subplot(1,3,1)) # 1-я ячейка\n",
    "finall_data.boxplot('sum_minute',by='tariff_name',ax=plt.subplot(1,3,2)) # 2-я ячейка\n",
    "finall_data.boxplot('count_message',by='tariff_name',ax=plt.subplot(1,3,3)) # 3-я ячейка\n",
    "plt.show()"
   ]
  },
  {
   "cell_type": "markdown",
   "metadata": {},
   "source": [
    "Вывод по минутам разговора: медианная продолжительность разговора у тарифа Ultra больше, причем и сам датасет скошен вправо. Т.е. пользователи данного тарифа разговаривают ощутимо больше медианного значения.\n",
    "\n",
    "Вывод по количеству сообщений: медианное количество сообщений у тарифа Ultra больше, причем и сам датасет скошен вправо. Т.е. пользователи данного тарифа пишут сообщений ощутимо больше медианного значения.\n",
    "\n",
    "Вывод по объёму интернет-трафика: медианный объем интернет-трафика у тарифа Ultra больше, причем и сам датасет скошен вправо. Т.е. пользователи данного тарифа подьзуются интернетом ощутимо больше медианного значения."
   ]
  },
  {
   "cell_type": "markdown",
   "metadata": {},
   "source": [
    "Сравним наглядно сколько минут разговора требуется пользователям каждого тарифа в месяц. Строим гистограммы."
   ]
  },
  {
   "cell_type": "code",
   "execution_count": 73,
   "metadata": {},
   "outputs": [
    {
     "data": {
      "image/png": "[encoded data removed]",
      "text/plain": [
       "<Figure size 432x288 with 1 Axes>"
      ]
     },
     "metadata": {
      "needs_background": "light"
     },
     "output_type": "display_data"
    }
   ],
   "source": [
    "finall_data_smart['sum_minute'].hist(bins=100,alpha=0.5, label='Smart') \n",
    "finall_data_ultra['sum_minute'].hist(bins=100,alpha=0.5, label='Ultra')\n",
    "plt.legend()  \n",
    "plt.xlabel('Длительность разговоров')\n",
    "plt.title('Распределение разговоров в тарифах')\n",
    "plt.show()"
   ]
  },
  {
   "cell_type": "markdown",
   "metadata": {},
   "source": [
    "Как видно из графика, пользователи тарифа Ultra разговаривают дольше, но само количество разговоров/звонков в тарифе Smart заметно больше."
   ]
  },
  {
   "cell_type": "markdown",
   "metadata": {},
   "source": [
    "Сравним наглядно сколько сколько сообщений требуется пользователям каждого тарифа в месяц. Строим гистограммы."
   ]
  },
  {
   "cell_type": "code",
   "execution_count": 74,
   "metadata": {},
   "outputs": [
    {
     "data": {
      "image/png": "[encoded data removed]",
      "text/plain": [
       "<Figure size 432x288 with 1 Axes>"
      ]
     },
     "metadata": {
      "needs_background": "light"
     },
     "output_type": "display_data"
    }
   ],
   "source": [
    "finall_data_smart['count_message'].hist(bins=100,alpha=0.5, label='Smart')\n",
    "finall_data_ultra['count_message'].hist(bins=100,alpha=0.5, label='Ultra')\n",
    "plt.legend()  \n",
    "plt.xlabel('Количество сообщений')\n",
    "plt.title('Распределение сообщений в тарифах')\n",
    "plt.show()"
   ]
  },
  {
   "cell_type": "markdown",
   "metadata": {},
   "source": [
    "Как видно из графика, пользователи тарифа Ultra отправляют больше сообщений, хотя разница незначительна."
   ]
  },
  {
   "cell_type": "markdown",
   "metadata": {},
   "source": [
    "Сравним какой объём интернет-трафика требуется пользователям каждого тарифа в месяц. Посторим гистограммы."
   ]
  },
  {
   "cell_type": "code",
   "execution_count": 75,
   "metadata": {},
   "outputs": [
    {
     "data": {
      "image/png": "[encoded data removed]",
      "text/plain": [
       "<Figure size 432x288 with 1 Axes>"
      ]
     },
     "metadata": {
      "needs_background": "light"
     },
     "output_type": "display_data"
    }
   ],
   "source": [
    "finall_data_smart['sum_minute'].hist(bins=100,alpha=0.5, label='Smart')\n",
    "finall_data_ultra['sum_minute'].hist(bins=100,alpha=0.5, label='Ultra')\n",
    "plt.legend()  \n",
    "plt.xlabel('Объём интернет-трафика')\n",
    "plt.title('Распределение интернет-трафика в тарифах')\n",
    "plt.show()"
   ]
  },
  {
   "cell_type": "markdown",
   "metadata": {},
   "source": [
    "Как видно из графика, пользователи тарифа Ultra тратят больше мегабайтов интернет-трафика за месяц, хотя количество абонентов тарифа Smart, использующих интернет, тоже достаточно велико."
   ]
  },
  {
   "cell_type": "markdown",
   "metadata": {},
   "source": [
    "Итак,проделан предварительный анализ тарифов Ultra и Smart на небольшой выборке за 2018 год клиентов 500 пользователей. Рассмотрели Сколько минут разговора, сколько сообщений и какой объём интернет-трафика требуется пользователям каждого тарифа в месяц. Анализ показал, что пользователи тарифа Ultra разговаривают дольше, чаще отправляют сообщения и чаще пользуются интернетом. Однако пока не ясно, какой тариф приносит больше денег компании.\n"
   ]
  },
  {
   "cell_type": "markdown",
   "metadata": {},
   "source": [
    "# Шаг 4. Проверка гипотез"
   ]
  },
  {
   "cell_type": "markdown",
   "metadata": {},
   "source": [
    "## Гипотеза: средняя выручка пользователей тарифов «Ультра» и «Смарт» различается;"
   ]
  },
  {
   "cell_type": "markdown",
   "metadata": {},
   "source": [
    "Рассмотрим общие данные о средней выручки пользователей по тарифам. "
   ]
  },
  {
   "cell_type": "code",
   "execution_count": 76,
   "metadata": {},
   "outputs": [
    {
     "name": "stdout",
     "output_type": "stream",
     "text": [
      "count    2229.000000\n",
      "mean     1312.512337\n",
      "std       830.938122\n",
      "min       550.000000\n",
      "25%       553.000000\n",
      "50%      1075.000000\n",
      "75%      1757.000000\n",
      "max      6824.000000\n",
      "Name: income, dtype: float64\n"
     ]
    }
   ],
   "source": [
    "#Числовое описание данных для столбца income тарифа smart\n",
    "print(finall_data_smart['income'].describe())"
   ]
  },
  {
   "cell_type": "code",
   "execution_count": 77,
   "metadata": {},
   "outputs": [
    {
     "name": "stdout",
     "output_type": "stream",
     "text": [
      "count     985.000000\n",
      "mean     2071.065990\n",
      "std       378.802377\n",
      "min      1950.000000\n",
      "25%      1950.000000\n",
      "50%      1950.000000\n",
      "75%      1950.000000\n",
      "max      4800.000000\n",
      "Name: income, dtype: float64\n"
     ]
    }
   ],
   "source": [
    "#Числовое описание данных для столбца income тарифа ultra\n",
    "print(finall_data_ultra['income'].describe())"
   ]
  },
  {
   "cell_type": "markdown",
   "metadata": {},
   "source": [
    "Заметим, что средние (1312.5 и 2071) и медианы (1075 и 1950) тарифов отличаются. Чтобы понять, различаются ли средние значения выручки пользователей разных тарифов, недостаточно просто сравнить числа за определённый период времени. Без проведения корректного теста нельзя считать отличия случайными или разницу достаточной, чтобы полагать суммы разными.\n",
    "Вместо расчёта и сравнения самих средних, используются сами датасеты для проведения статистического теста."
   ]
  },
  {
   "cell_type": "markdown",
   "metadata": {},
   "source": [
    "Нулевая гипотеза H₀ всегда формулируется так, чтобы использовать знак равенства. Если выясняем, есть ли разница между совокупностями, то нулевая гипотеза будет такая: «нет, разницы нет, то есть исследуемые параметры равны».\n",
    "Cформулируем нулевую гипотезу H₀: средние выручки пользователей тарифов «Ультра» и «Смарт» равны.\n",
    "Исходя из H₀ формулируется альтернативная гипотеза H₁: средние выручки пользователей тарифов «Ультра» и «Смарт» отличаются."
   ]
  },
  {
   "cell_type": "markdown",
   "metadata": {},
   "source": [
    "Чтобы проверить гипотезу о равенстве среднего двух генеральных совокупностей по взятым из них выборкам, применяется метод scipy.stats.ttest_ind (array1, array2, equal_var) .\n",
    "Методу передают параметры:\n",
    "•\tarray1, array2 — массивы, содержащие выборки;\n",
    "•\tequal_var («равная дисперсия») — необязательный параметр, задающий считать ли равными дисперсии выборок. Передаётся как \"equal_var = True\" или \"equal_var = False\" (True — считать, False — не считать)."
   ]
  },
  {
   "cell_type": "markdown",
   "metadata": {},
   "source": [
    "Прежде чем порверить гипотезу H₀, найдем дисперсию выручки в каждом тарифе."
   ]
  },
  {
   "cell_type": "code",
   "execution_count": 78,
   "metadata": {},
   "outputs": [
    {
     "name": "stdout",
     "output_type": "stream",
     "text": [
      "Дисперсия тарифа Smart = 690458.1619886486\n",
      "Дисперсия тарифа Ultra = 143491.2405596106\n"
     ]
    }
   ],
   "source": [
    "print('Дисперсия тарифа Smart =',np.var(finall_data_smart['income'], ddof=1))\n",
    "print('Дисперсия тарифа Ultra =',np.var(finall_data_ultra['income'], ddof=1))"
   ]
  },
  {
   "cell_type": "markdown",
   "metadata": {},
   "source": [
    "Дисперсия выручки тарифа Ultra = 143491, дисперсия выручки тарифа Smart = 690458, дисперсии сильно отличаются, следовательно параметр equal_var в статистическом методе scipy.stats.ttest_ind примем равным False."
   ]
  },
  {
   "cell_type": "code",
   "execution_count": 79,
   "metadata": {},
   "outputs": [
    {
     "name": "stdout",
     "output_type": "stream",
     "text": [
      "p-значение: 1.2496710269965528e-233\n",
      "Отвергаем нулевую гипотезу\n"
     ]
    }
   ],
   "source": [
    "alpha = 0.05 # критический уровень статистической значимости. Если p-value окажется меньше него - отвергнем гипотезу\n",
    "results = st.ttest_ind(finall_data_ultra['income'], finall_data_smart['income'],equal_var=False)\n",
    "print('p-значение:', results.pvalue)\n",
    "if (results.pvalue < alpha):\n",
    "    print(\"Отвергаем нулевую гипотезу\")\n",
    "else:\n",
    "    print(\"Не получилось отвергнуть нулевую гипотезу\")"
   ]
  },
  {
   "cell_type": "code",
   "execution_count": 80,
   "metadata": {},
   "outputs": [
    {
     "data": {
      "image/png": "[encoded data removed]",
      "text/plain": [
       "<Figure size 432x288 with 1 Axes>"
      ]
     },
     "metadata": {
      "needs_background": "light"
     },
     "output_type": "display_data"
    }
   ],
   "source": [
    "finall_data_smart['income'].hist(alpha=0.5, label='Smart')\n",
    "finall_data_ultra['income'].hist(alpha=0.5, label='Ultra')\n",
    "plt.legend()  \n",
    "plt.show()"
   ]
  },
  {
   "cell_type": "markdown",
   "metadata": {},
   "source": [
    "Отвергаем нулевую гипотезу, что средние выручки пользователей тарифов «Ультра» и «Смарт» равны. Значит, средняя выручка пользователя зависит от тарифа. "
   ]
  },
  {
   "cell_type": "markdown",
   "metadata": {},
   "source": [
    "## Гипотеза: средняя выручка пользователей из Москвы отличается от выручки пользователей из других регионов;"
   ]
  },
  {
   "cell_type": "markdown",
   "metadata": {},
   "source": [
    "Создадим тадве таблицы: пользователи из Москвы Moscow_data и пользователи из других регионов other_data."
   ]
  },
  {
   "cell_type": "code",
   "execution_count": 81,
   "metadata": {},
   "outputs": [
    {
     "name": "stdout",
     "output_type": "stream",
     "text": [
      "count     611.000000\n",
      "mean     1561.220949\n",
      "std       753.214496\n",
      "min       550.000000\n",
      "25%       831.500000\n",
      "50%      1776.000000\n",
      "75%      1950.000000\n",
      "max      5357.000000\n",
      "Name: income, dtype: float64\n"
     ]
    }
   ],
   "source": [
    "Moscow_data = finall_data.query('city==\"Москва\"')\n",
    "print(Moscow_data['income'].describe())\n",
    "#Moscow_data"
   ]
  },
  {
   "cell_type": "code",
   "execution_count": 82,
   "metadata": {},
   "outputs": [
    {
     "name": "stdout",
     "output_type": "stream",
     "text": [
      "count    2603.000000\n",
      "mean     1541.177103\n",
      "std       814.534010\n",
      "min       550.000000\n",
      "25%       750.000000\n",
      "50%      1632.000000\n",
      "75%      1950.000000\n",
      "max      6824.000000\n",
      "Name: income, dtype: float64\n"
     ]
    }
   ],
   "source": [
    "other_data = finall_data.query('city != \"Москва\"')\n",
    "print(other_data['income'].describe())\n",
    "#other_data"
   ]
  },
  {
   "cell_type": "markdown",
   "metadata": {},
   "source": [
    "Средние значения и медианы по тарифам близки, но это малоинформативно. Будем использовать сами датасеты для проведения статистического теста."
   ]
  },
  {
   "cell_type": "markdown",
   "metadata": {},
   "source": [
    "Нулевая гипотеза H₀ всегда формулируется так, чтобы использовать знак равенства.\n",
    "Cформулируем нулевую гипотезу H₀: средние выручки пользователей из Москвы и пользователей из других регионов равны.\n",
    "Исходя из H₀ формулируется альтернативная гипотеза H₁: средние выручки пользователей из Москвы и пользователей из других регионов отличаются."
   ]
  },
  {
   "cell_type": "code",
   "execution_count": 83,
   "metadata": {},
   "outputs": [
    {
     "name": "stdout",
     "output_type": "stream",
     "text": [
      "Дисперсия по Москве = 567332.0773308999\n",
      "Дисперсия по другим городам = 663465.6530958369\n"
     ]
    }
   ],
   "source": [
    "print('Дисперсия по Москве =',np.var(Moscow_data['income'], ddof=1))\n",
    "print('Дисперсия по другим городам =',np.var(other_data['income'], ddof=1))"
   ]
  },
  {
   "cell_type": "markdown",
   "metadata": {},
   "source": [
    "Дисперсия выручки пользователей по Москве = 567332, дисперсия выручки пользователей по другим городам = 663466, дисперсии не сильно отличаются, следовательно параметр equal_var в методе scipy.stats.ttest_ind можно принять равным True."
   ]
  },
  {
   "cell_type": "code",
   "execution_count": 84,
   "metadata": {},
   "outputs": [
    {
     "name": "stdout",
     "output_type": "stream",
     "text": [
      "p-значение: 0.578869733775166\n",
      "Не получилось отвергнуть нулевую гипотезу\n"
     ]
    }
   ],
   "source": [
    "alpha = 0.05 # критический уровень статистической значимости. Если p-value окажется меньше него - отвергнем гипотезу\n",
    "results = st.ttest_ind(Moscow_data['income'], other_data['income'])\n",
    "print('p-значение:', results.pvalue)\n",
    "if (results.pvalue < alpha):\n",
    "    print(\"Отвергаем нулевую гипотезу\")\n",
    "else:\n",
    "    print(\"Не получилось отвергнуть нулевую гипотезу\")"
   ]
  },
  {
   "cell_type": "code",
   "execution_count": 85,
   "metadata": {},
   "outputs": [
    {
     "data": {
      "image/png": "[encoded data removed]",
      "text/plain": [
       "<Figure size 432x288 with 1 Axes>"
      ]
     },
     "metadata": {
      "needs_background": "light"
     },
     "output_type": "display_data"
    }
   ],
   "source": [
    "other_data['income'].hist(alpha=0.5, label='Other')\n",
    "Moscow_data['income'].hist(alpha=0.5,label='Moscow')\n",
    "plt.legend()\n",
    "plt.show()"
   ]
  },
  {
   "cell_type": "markdown",
   "metadata": {},
   "source": [
    "Не получилось отвергнуть нулевую гипотезу, что средние выручки пользователей из Москвы и пользователей из других регионов равны. Полученное значение p-value равно 58%. Это явно слишком большая вероятность, чтобы делать вывод о значимом различии между средними выручками."
   ]
  },
  {
   "cell_type": "markdown",
   "metadata": {},
   "source": [
    "# Шаг 5. Общий вывод"
   ]
  },
  {
   "cell_type": "markdown",
   "metadata": {},
   "source": [
    "Проведена прдобработка данных по двум тарифным планам: «Смарт» и «Ультра». У большого количества звонков длительность — 0.00 минут, также встречаются сессии с интернет-трафиком 0 мегабайт. Это проблема в данных. Заменили все нули в данных о минутах на единицы, так как если в таблице присутствует уникальный номер звонка, то звонок был и минимальная продолжительность времени, которую засчитывает оператор, равна одной минуте.Заменили все нули в данных о количестве мегабайтов на единицы, так как если в таблице присутствует уникальный номер сессии, то выход в интернет был.  \n",
    "Значения минут и мегабайтов всегда округляется вверх. Данные были представлены без округления до минут и мегабайтов, поэтому округлили все значения в большую сторону.\n",
    "\n",
    "Анализ двух тарифов показал, что пользователи тарифа «Смарт» разговаривают дольше, чаще отправляют сообщения и чаще пользуются интернетом. Была подсчитана помесячная выручка с каждого пользователя.\n",
    "\n",
    "После проведения статистических методов, приходим к выводам:\n",
    "- средняя выручка пользователя зависит от тарифа;\n",
    "- значимого различии между средними выручками пользователей из Москвы и пользователей из других регионов нет."
   ]
  },
  {
   "cell_type": "markdown",
   "metadata": {},
   "source": [
    "Чтобы понять, какой тариф приносит больше денег, взглянем еще раз на даннные о средней выручки по тарифам."
   ]
  },
  {
   "cell_type": "code",
   "execution_count": 86,
   "metadata": {},
   "outputs": [
    {
     "data": {
      "image/png": "[encoded data removed]",
      "text/plain": [
       "<Figure size 432x288 with 1 Axes>"
      ]
     },
     "metadata": {
      "needs_background": "light"
     },
     "output_type": "display_data"
    }
   ],
   "source": [
    "finall_data.boxplot('income',by='tariff_name') \n",
    "plt.show()"
   ]
  },
  {
   "cell_type": "markdown",
   "metadata": {},
   "source": [
    "Средняя выручка по тарифу «Ультра» больше, чем по тарифу «Смарт». Хотя датасет выручки тарифа «Смарт» скошен вправо, все же он полностью лежит ниже датасета тарифа «Ультра», т.е. пользователи тарифа  «Смарт» в среднем платят меньше минимальной суммы тарифа «Ультра». Следовательно, коммерческому департаменту стоит увеличить рекламный бюджет тарифа «Ультра», так как он приносит компании больше выручки. "
   ]
  }
 ],
 "metadata": {
  "kernelspec": {
   "display_name": "Python 3",
   "language": "python",
   "name": "python3"
  },
  "language_info": {
   "codemirror_mode": {
    "name": "ipython",
    "version": 3
   },
   "file_extension": ".py",
   "mimetype": "text/x-python",
   "name": "python",
   "nbconvert_exporter": "python",
   "pygments_lexer": "ipython3",
   "version": "3.7.6"
  }
 },
 "nbformat": 4,
 "nbformat_minor": 2
}
