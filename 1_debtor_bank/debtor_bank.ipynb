{
 "cells": [
  {
   "cell_type": "markdown",
   "metadata": {},
   "source": [
    "## Исследование надёжности заёмщиков\n",
    "\n",
    "На основе статистики о платёжеспособности клиентов необходимо выяснить влияет ли семейное положение и количество детей клиента на факт погашения кредита в срок."
   ]
  },
  {
   "cell_type": "markdown",
   "metadata": {},
   "source": [
    "### Шаг 1. Загрузка данных "
   ]
  },
  {
   "cell_type": "code",
   "execution_count": 1,
   "metadata": {},
   "outputs": [],
   "source": [
    "# Импорт библиотек\n",
    "import pandas as pd\n",
    "from IPython.display import display\n",
    "import warnings\n",
    "warnings.simplefilter(\"ignore\")"
   ]
  },
  {
   "cell_type": "markdown",
   "metadata": {},
   "source": [
    "Прочитаем файл datasets/data.csv и сохраним его в переменной data."
   ]
  },
  {
   "cell_type": "code",
   "execution_count": 2,
   "metadata": {},
   "outputs": [],
   "source": [
    "data = pd.read_csv('/datasets/data.csv')"
   ]
  },
  {
   "cell_type": "markdown",
   "metadata": {},
   "source": [
    "Получение первых строк таблицы."
   ]
  },
  {
   "cell_type": "code",
   "execution_count": 3,
   "metadata": {},
   "outputs": [
    {
     "data": {
      "text/html": [
       "<div>\n",
       "<style scoped>\n",
       "    .dataframe tbody tr th:only-of-type {\n",
       "        vertical-align: middle;\n",
       "    }\n",
       "\n",
       "    .dataframe tbody tr th {\n",
       "        vertical-align: top;\n",
       "    }\n",
       "\n",
       "    .dataframe thead th {\n",
       "        text-align: right;\n",
       "    }\n",
       "</style>\n",
       "<table border=\"1\" class=\"dataframe\">\n",
       "  <thead>\n",
       "    <tr style=\"text-align: right;\">\n",
       "      <th></th>\n",
       "      <th>children</th>\n",
       "      <th>days_employed</th>\n",
       "      <th>dob_years</th>\n",
       "      <th>education</th>\n",
       "      <th>education_id</th>\n",
       "      <th>family_status</th>\n",
       "      <th>family_status_id</th>\n",
       "      <th>gender</th>\n",
       "      <th>income_type</th>\n",
       "      <th>debt</th>\n",
       "      <th>total_income</th>\n",
       "      <th>purpose</th>\n",
       "    </tr>\n",
       "  </thead>\n",
       "  <tbody>\n",
       "    <tr>\n",
       "      <td>0</td>\n",
       "      <td>1</td>\n",
       "      <td>-8437.673028</td>\n",
       "      <td>42</td>\n",
       "      <td>высшее</td>\n",
       "      <td>0</td>\n",
       "      <td>женат / замужем</td>\n",
       "      <td>0</td>\n",
       "      <td>F</td>\n",
       "      <td>сотрудник</td>\n",
       "      <td>0</td>\n",
       "      <td>253875.639453</td>\n",
       "      <td>покупка жилья</td>\n",
       "    </tr>\n",
       "    <tr>\n",
       "      <td>1</td>\n",
       "      <td>1</td>\n",
       "      <td>-4024.803754</td>\n",
       "      <td>36</td>\n",
       "      <td>среднее</td>\n",
       "      <td>1</td>\n",
       "      <td>женат / замужем</td>\n",
       "      <td>0</td>\n",
       "      <td>F</td>\n",
       "      <td>сотрудник</td>\n",
       "      <td>0</td>\n",
       "      <td>112080.014102</td>\n",
       "      <td>приобретение автомобиля</td>\n",
       "    </tr>\n",
       "    <tr>\n",
       "      <td>2</td>\n",
       "      <td>0</td>\n",
       "      <td>-5623.422610</td>\n",
       "      <td>33</td>\n",
       "      <td>Среднее</td>\n",
       "      <td>1</td>\n",
       "      <td>женат / замужем</td>\n",
       "      <td>0</td>\n",
       "      <td>M</td>\n",
       "      <td>сотрудник</td>\n",
       "      <td>0</td>\n",
       "      <td>145885.952297</td>\n",
       "      <td>покупка жилья</td>\n",
       "    </tr>\n",
       "    <tr>\n",
       "      <td>3</td>\n",
       "      <td>3</td>\n",
       "      <td>-4124.747207</td>\n",
       "      <td>32</td>\n",
       "      <td>среднее</td>\n",
       "      <td>1</td>\n",
       "      <td>женат / замужем</td>\n",
       "      <td>0</td>\n",
       "      <td>M</td>\n",
       "      <td>сотрудник</td>\n",
       "      <td>0</td>\n",
       "      <td>267628.550329</td>\n",
       "      <td>дополнительное образование</td>\n",
       "    </tr>\n",
       "    <tr>\n",
       "      <td>4</td>\n",
       "      <td>0</td>\n",
       "      <td>340266.072047</td>\n",
       "      <td>53</td>\n",
       "      <td>среднее</td>\n",
       "      <td>1</td>\n",
       "      <td>гражданский брак</td>\n",
       "      <td>1</td>\n",
       "      <td>F</td>\n",
       "      <td>пенсионер</td>\n",
       "      <td>0</td>\n",
       "      <td>158616.077870</td>\n",
       "      <td>сыграть свадьбу</td>\n",
       "    </tr>\n",
       "  </tbody>\n",
       "</table>\n",
       "</div>"
      ],
      "text/plain": [
       "   children  days_employed  dob_years education  education_id  \\\n",
       "0         1   -8437.673028         42    высшее             0   \n",
       "1         1   -4024.803754         36   среднее             1   \n",
       "2         0   -5623.422610         33   Среднее             1   \n",
       "3         3   -4124.747207         32   среднее             1   \n",
       "4         0  340266.072047         53   среднее             1   \n",
       "\n",
       "      family_status  family_status_id gender income_type  debt   total_income  \\\n",
       "0   женат / замужем                 0      F   сотрудник     0  253875.639453   \n",
       "1   женат / замужем                 0      F   сотрудник     0  112080.014102   \n",
       "2   женат / замужем                 0      M   сотрудник     0  145885.952297   \n",
       "3   женат / замужем                 0      M   сотрудник     0  267628.550329   \n",
       "4  гражданский брак                 1      F   пенсионер     0  158616.077870   \n",
       "\n",
       "                      purpose  \n",
       "0               покупка жилья  \n",
       "1     приобретение автомобиля  \n",
       "2               покупка жилья  \n",
       "3  дополнительное образование  \n",
       "4             сыграть свадьбу  "
      ]
     },
     "execution_count": 3,
     "metadata": {},
     "output_type": "execute_result"
    }
   ],
   "source": [
    "data.head()"
   ]
  },
  {
   "cell_type": "markdown",
   "metadata": {},
   "source": [
    "Вывод общей информации о данных в таблице data."
   ]
  },
  {
   "cell_type": "code",
   "execution_count": 4,
   "metadata": {},
   "outputs": [
    {
     "name": "stdout",
     "output_type": "stream",
     "text": [
      "<class 'pandas.core.frame.DataFrame'>\n",
      "RangeIndex: 21525 entries, 0 to 21524\n",
      "Data columns (total 12 columns):\n",
      "children            21525 non-null int64\n",
      "days_employed       19351 non-null float64\n",
      "dob_years           21525 non-null int64\n",
      "education           21525 non-null object\n",
      "education_id        21525 non-null int64\n",
      "family_status       21525 non-null object\n",
      "family_status_id    21525 non-null int64\n",
      "gender              21525 non-null object\n",
      "income_type         21525 non-null object\n",
      "debt                21525 non-null int64\n",
      "total_income        19351 non-null float64\n",
      "purpose             21525 non-null object\n",
      "dtypes: float64(2), int64(5), object(5)\n",
      "memory usage: 2.0+ MB\n"
     ]
    }
   ],
   "source": [
    "data.info()"
   ]
  },
  {
   "cell_type": "markdown",
   "metadata": {},
   "source": [
    "### Вывод \n",
    "Рассмотрим полученную информацию подробнее.\n",
    "\n",
    "Всегов таблице 21525 строк и 12 столбцов. Тип данных у двух столбцов - float, у пяти - int64, у пяти - object.\n",
    "\n",
    "Подробно разберём, какие в data столбцы и какую информацию они содержат:\n",
    "\n",
    "children — количество детей в семье;\n",
    "days_employed — общий трудовой стаж в днях;\n",
    "dob_years — возраст клиента в годах;\n",
    "education — уровень образования клиента;\n",
    "education_id — идентификатор уровня образования;\n",
    "family_status — семейное положение;\n",
    "family_status_id — идентификатор семейного положения;\n",
    "gender — пол клиента;\n",
    "income_type — тип занятости;\n",
    "debt — имел ли задолженность по возврату кредитов;\n",
    "total_income — ежемесячный доход;\n",
    "purpose — цель получения кредита.\n",
    "\n",
    "Количество значений в столбцах различается. Это говорит о том, что в данных days_employed (общий трудовой стаж в днях) и total_income (ежемесячный доход) есть пропущенные значения.\n",
    "\n",
    "Каждая строка таблицы содержит информацию о клиенте банка и его платежеспособности. Две проблемы, которые нужно решать: пропуски и некачественные значения в столбцах. Для проверки рабочих гипотез особенно ценны столбцы children, family_status. Данные из столбца debt позволят узнать был ли погашен кредит в срок."
   ]
  },
  {
   "cell_type": "markdown",
   "metadata": {},
   "source": [
    "### Шаг 2. Предобработка данных"
   ]
  },
  {
   "cell_type": "markdown",
   "metadata": {},
   "source": [
    "Исключим пропуски, а также проверим данные на наличие дубликатов."
   ]
  },
  {
   "cell_type": "markdown",
   "metadata": {},
   "source": [
    "### Обработка пропусков"
   ]
  },
  {
   "cell_type": "markdown",
   "metadata": {},
   "source": [
    "Проверим данные на наличие пропусков вызовом набора методов для суммирования пропущенных значений."
   ]
  },
  {
   "cell_type": "code",
   "execution_count": 5,
   "metadata": {},
   "outputs": [
    {
     "name": "stdout",
     "output_type": "stream",
     "text": [
      "children               0\n",
      "days_employed       2174\n",
      "dob_years              0\n",
      "education              0\n",
      "education_id           0\n",
      "family_status          0\n",
      "family_status_id       0\n",
      "gender                 0\n",
      "income_type            0\n",
      "debt                   0\n",
      "total_income        2174\n",
      "purpose                0\n",
      "dtype: int64\n"
     ]
    }
   ],
   "source": [
    "print(data.isnull().sum())"
   ]
  },
  {
   "cell_type": "markdown",
   "metadata": {},
   "source": [
    "Пустые значения свидетельствуют, что для некоторых клиентов доступна не вся информация. В исходных данных отсутствуют 2174 записи о трудовом стаже и 2174 записи о ежемесячном доходе. Причины могут быть разные, необходимо разобраться и выявить причину:сознательные это пропуски или это проблемы с записью данных. Так как разброс в данных может быть очень большой, то чтобы сопоставить их заменим пропуски не просто медианными значениями, а медианными значениями по группам (по категориям). Пропуски в days_employed заполним медианой по группировке по типу занятости и возрастной категории. Пустые значения о ежемесячном доходе заполняим медианными значениями по каждому типу занятости."
   ]
  },
  {
   "cell_type": "markdown",
   "metadata": {},
   "source": [
    "Заполнение пропущенных значений ежемесячного дохода медианными значениями по каждому типу занятости. "
   ]
  },
  {
   "cell_type": "code",
   "execution_count": 6,
   "metadata": {},
   "outputs": [
    {
     "name": "stdout",
     "output_type": "stream",
     "text": [
      "income_type\n",
      "безработный        131339.751676\n",
      "в декрете           53829.130729\n",
      "госслужащий        150447.935283\n",
      "компаньон          172357.950966\n",
      "пенсионер          118514.486412\n",
      "предприниматель    499163.144947\n",
      "сотрудник          142594.396847\n",
      "студент             98201.625314\n",
      "Name: total_income, dtype: float64\n"
     ]
    }
   ],
   "source": [
    "#Типы занятости многократно повторяются в данных. Создадим словарь типов занятости.\n",
    "#Подсчитаем медианное значение для каждого типа занятости и сохраним в переменную data_total_income_median\n",
    "\n",
    "data_total_income_median = data[['income_type','total_income']].groupby('income_type')['total_income'].median()\n",
    "print(data_total_income_median)\n"
   ]
  },
  {
   "cell_type": "code",
   "execution_count": 7,
   "metadata": {},
   "outputs": [
    {
     "data": {
      "text/plain": [
       "Series([], Name: total_income, dtype: float64)"
      ]
     },
     "execution_count": 7,
     "metadata": {},
     "output_type": "execute_result"
    }
   ],
   "source": [
    "#Создаем цикл по уникальным значениям типа занятости и заменяем пропуски медианными значениями\n",
    "for income_type in data['income_type'].unique():\n",
    "    income_type_mediana = data[data['income_type'] == income_type]['total_income'].median()\n",
    "    data.loc[(data['total_income'].isna()) & (data['income_type'] == income_type),'total_income'] = income_type_mediana\n",
    "\n",
    "data[data['days_employed']==0]['total_income'] #-проверка, что пропуски заполнились медианой"
   ]
  },
  {
   "cell_type": "markdown",
   "metadata": {},
   "source": [
    "Чтобы провести анализ по возрастным группам, необходимо предварительно объединенить данных в категории. \n",
    "Распределим клиентов так: \n",
    "-клиенты младше 30 лет попадают в категорию 'молодежь';\n",
    "-клиенты от 30 до 64 лет — категория 'взрослые';\n",
    "-клиенты старше 65 лет принадлежат к категории 'пенсионеры'.\n",
    "Создадим функцию для такой категоризации. "
   ]
  },
  {
   "cell_type": "code",
   "execution_count": 8,
   "metadata": {},
   "outputs": [
    {
     "name": "stdout",
     "output_type": "stream",
     "text": [
      "    dob_years   age_group\n",
      "0          42    взрослые\n",
      "1          36    взрослые\n",
      "2          33    взрослые\n",
      "3          32    взрослые\n",
      "4          53    взрослые\n",
      "5          27    молодежь\n",
      "6          43    взрослые\n",
      "7          50    взрослые\n",
      "8          35    взрослые\n",
      "9          41    взрослые\n",
      "10         36    взрослые\n",
      "11         40    взрослые\n",
      "12         65  пенсионеры\n",
      "13         54    взрослые\n",
      "14         56    взрослые\n"
     ]
    }
   ],
   "source": [
    "def age_groups(age):\n",
    "    if age <= 30:\n",
    "        return 'молодежь'\n",
    "    if age <= 64:\n",
    "        return 'взрослые'\n",
    "    return 'пенсионеры'\n",
    "\n",
    "#На вход функции попадает возраст, а возвращает она категорию клиента.\n",
    "#Возвращает возврастную группу по значению возраста age, используя правила: \n",
    "#- 'молодежь' при значении age <= 30 лет\n",
    "#- 'взрослые' при значениии age более 30 и менее 64, включая 64\n",
    "#- 'пенсионеры' во всех остальных случаях\n",
    "\n",
    "data['age_group'] = data['dob_years'].apply(age_groups)\n",
    "#Создадим отдельный столбец с возрастными категориями 'age_group', и в его ячейках запишем значения, возвращаемые функцией.\n",
    "#Для этого вызовем метод apply() для столбца 'dob_years', так как в нём содержатся данные, которые функция примет на вход. \n",
    "#Аргументом метода станет сама функция age_groups.\n",
    "\n",
    "print(data[['dob_years','age_group']].head(15))\n",
    "   "
   ]
  },
  {
   "cell_type": "markdown",
   "metadata": {},
   "source": [
    "Заметим, что в исходных данных в столбце days_employed встречаются отрицательные значения, но этого не может быть, так как стаж - величина неотрицательная. Необходимо сообщить об этом заказчику и выяснить причину данной неточности. Возможно, это ошибка в выгрузке, поэтому заменим отрицательные значения на положительные."
   ]
  },
  {
   "cell_type": "code",
   "execution_count": 9,
   "metadata": {},
   "outputs": [],
   "source": [
    "# Создадим функцию, которая отрицательные значения умножает на (-1), чтобы преобразовать число в положительное.\n",
    "def poloz(value):\n",
    "    if value<0: return value*(-1)\n",
    "    else: return value\n",
    "    \n",
    "# Применим функцию poloz к столбцу days_employed\n",
    "data['days_employed'] = data['days_employed'].apply(poloz)"
   ]
  },
  {
   "cell_type": "markdown",
   "metadata": {},
   "source": [
    "Пропуски в days_employed заполним медианой по группировке по типу занятости и возрастной категории."
   ]
  },
  {
   "cell_type": "code",
   "execution_count": 10,
   "metadata": {},
   "outputs": [],
   "source": [
    "#Создаем цикл по по возрастным категориям внутри цикла по уникальным значениям типа занятости\n",
    "#и заменяем пропуски медианными значениями\n",
    "for income_type in data['income_type'].unique():\n",
    "    for age in data['age_group'].unique():\n",
    "        days_employed_mediana = data[(data['income_type'] == income_type)&(data['age_group'] == age)]['days_employed'].median()\n",
    "        data.loc[(data['days_employed'].isna()) & (data['income_type'] == income_type)&(data['age_group'] == age),'days_employed'] = days_employed_mediana\n"
   ]
  },
  {
   "cell_type": "markdown",
   "metadata": {},
   "source": [
    "Найдем строки, в которых остались пустые значения."
   ]
  },
  {
   "cell_type": "code",
   "execution_count": 11,
   "metadata": {},
   "outputs": [
    {
     "data": {
      "text/html": [
       "<div>\n",
       "<style scoped>\n",
       "    .dataframe tbody tr th:only-of-type {\n",
       "        vertical-align: middle;\n",
       "    }\n",
       "\n",
       "    .dataframe tbody tr th {\n",
       "        vertical-align: top;\n",
       "    }\n",
       "\n",
       "    .dataframe thead th {\n",
       "        text-align: right;\n",
       "    }\n",
       "</style>\n",
       "<table border=\"1\" class=\"dataframe\">\n",
       "  <thead>\n",
       "    <tr style=\"text-align: right;\">\n",
       "      <th></th>\n",
       "      <th>children</th>\n",
       "      <th>days_employed</th>\n",
       "      <th>dob_years</th>\n",
       "      <th>education</th>\n",
       "      <th>education_id</th>\n",
       "      <th>family_status</th>\n",
       "      <th>family_status_id</th>\n",
       "      <th>gender</th>\n",
       "      <th>income_type</th>\n",
       "      <th>debt</th>\n",
       "      <th>total_income</th>\n",
       "      <th>purpose</th>\n",
       "      <th>age_group</th>\n",
       "    </tr>\n",
       "  </thead>\n",
       "  <tbody>\n",
       "    <tr>\n",
       "      <td>5936</td>\n",
       "      <td>0</td>\n",
       "      <td>NaN</td>\n",
       "      <td>58</td>\n",
       "      <td>высшее</td>\n",
       "      <td>0</td>\n",
       "      <td>женат / замужем</td>\n",
       "      <td>0</td>\n",
       "      <td>M</td>\n",
       "      <td>предприниматель</td>\n",
       "      <td>0</td>\n",
       "      <td>499163.144947</td>\n",
       "      <td>покупка жилой недвижимости</td>\n",
       "      <td>взрослые</td>\n",
       "    </tr>\n",
       "  </tbody>\n",
       "</table>\n",
       "</div>"
      ],
      "text/plain": [
       "      children  days_employed  dob_years education  education_id  \\\n",
       "5936         0            NaN         58    высшее             0   \n",
       "\n",
       "        family_status  family_status_id gender      income_type  debt  \\\n",
       "5936  женат / замужем                 0      M  предприниматель     0   \n",
       "\n",
       "       total_income                     purpose age_group  \n",
       "5936  499163.144947  покупка жилой недвижимости  взрослые  "
      ]
     },
     "execution_count": 11,
     "metadata": {},
     "output_type": "execute_result"
    }
   ],
   "source": [
    "data[data['days_employed'].isnull()]"
   ]
  },
  {
   "cell_type": "code",
   "execution_count": 12,
   "metadata": {},
   "outputs": [
    {
     "data": {
      "text/html": [
       "<div>\n",
       "<style scoped>\n",
       "    .dataframe tbody tr th:only-of-type {\n",
       "        vertical-align: middle;\n",
       "    }\n",
       "\n",
       "    .dataframe tbody tr th {\n",
       "        vertical-align: top;\n",
       "    }\n",
       "\n",
       "    .dataframe thead th {\n",
       "        text-align: right;\n",
       "    }\n",
       "</style>\n",
       "<table border=\"1\" class=\"dataframe\">\n",
       "  <thead>\n",
       "    <tr style=\"text-align: right;\">\n",
       "      <th></th>\n",
       "      <th>children</th>\n",
       "      <th>days_employed</th>\n",
       "      <th>dob_years</th>\n",
       "      <th>education</th>\n",
       "      <th>education_id</th>\n",
       "      <th>family_status</th>\n",
       "      <th>family_status_id</th>\n",
       "      <th>gender</th>\n",
       "      <th>income_type</th>\n",
       "      <th>debt</th>\n",
       "      <th>total_income</th>\n",
       "      <th>purpose</th>\n",
       "      <th>age_group</th>\n",
       "    </tr>\n",
       "  </thead>\n",
       "  <tbody>\n",
       "    <tr>\n",
       "      <td>5936</td>\n",
       "      <td>0</td>\n",
       "      <td>NaN</td>\n",
       "      <td>58</td>\n",
       "      <td>высшее</td>\n",
       "      <td>0</td>\n",
       "      <td>женат / замужем</td>\n",
       "      <td>0</td>\n",
       "      <td>M</td>\n",
       "      <td>предприниматель</td>\n",
       "      <td>0</td>\n",
       "      <td>499163.144947</td>\n",
       "      <td>покупка жилой недвижимости</td>\n",
       "      <td>взрослые</td>\n",
       "    </tr>\n",
       "    <tr>\n",
       "      <td>18697</td>\n",
       "      <td>0</td>\n",
       "      <td>520.848083</td>\n",
       "      <td>27</td>\n",
       "      <td>высшее</td>\n",
       "      <td>0</td>\n",
       "      <td>гражданский брак</td>\n",
       "      <td>1</td>\n",
       "      <td>F</td>\n",
       "      <td>предприниматель</td>\n",
       "      <td>0</td>\n",
       "      <td>499163.144947</td>\n",
       "      <td>на проведение свадьбы</td>\n",
       "      <td>молодежь</td>\n",
       "    </tr>\n",
       "  </tbody>\n",
       "</table>\n",
       "</div>"
      ],
      "text/plain": [
       "       children  days_employed  dob_years education  education_id  \\\n",
       "5936          0            NaN         58    высшее             0   \n",
       "18697         0     520.848083         27    высшее             0   \n",
       "\n",
       "          family_status  family_status_id gender      income_type  debt  \\\n",
       "5936    женат / замужем                 0      M  предприниматель     0   \n",
       "18697  гражданский брак                 1      F  предприниматель     0   \n",
       "\n",
       "        total_income                     purpose age_group  \n",
       "5936   499163.144947  покупка жилой недвижимости  взрослые  \n",
       "18697  499163.144947       на проведение свадьбы  молодежь  "
      ]
     },
     "execution_count": 12,
     "metadata": {},
     "output_type": "execute_result"
    }
   ],
   "source": [
    "data[data['income_type']=='предприниматель']"
   ]
  },
  {
   "cell_type": "markdown",
   "metadata": {},
   "source": [
    "Заменим пропуск в полученной строке на 0, так как для нее нельзя определить медианное значение. В данных всего одна строка с пропущенным общим трудовым стажем в днях у взрослого предпринимателя."
   ]
  },
  {
   "cell_type": "code",
   "execution_count": 13,
   "metadata": {},
   "outputs": [],
   "source": [
    "data['days_employed'] = data['days_employed'].fillna(0)"
   ]
  },
  {
   "cell_type": "markdown",
   "metadata": {},
   "source": [
    "Проверка, что таблица больше не содержит пропусков "
   ]
  },
  {
   "cell_type": "code",
   "execution_count": 14,
   "metadata": {},
   "outputs": [
    {
     "name": "stdout",
     "output_type": "stream",
     "text": [
      "children            0\n",
      "days_employed       0\n",
      "dob_years           0\n",
      "education           0\n",
      "education_id        0\n",
      "family_status       0\n",
      "family_status_id    0\n",
      "gender              0\n",
      "income_type         0\n",
      "debt                0\n",
      "total_income        0\n",
      "purpose             0\n",
      "age_group           0\n",
      "dtype: int64\n"
     ]
    }
   ],
   "source": [
    "print(data.isnull().sum())\n"
   ]
  },
  {
   "cell_type": "markdown",
   "metadata": {},
   "source": [
    "### Вывод\n",
    "В исходных данных отсутствуют 2174 записи о трудовом стаже и 2174 записи о ежемесячном доходе. Это количественные переменные. Пропуски в таких переменных заполняют характерными значениями. Заменили пропуски в данных о стаже (days_employed) на медианные значения по группировке по типу занятости и возрастной категории. Заметим, что в данных были отрицательные значения стажа, их заменили на соответствующие положительные значения. Пропуски о ежемесячном доходе заполнили медианными значениями, взятыми по каждому типу занятости."
   ]
  },
  {
   "cell_type": "markdown",
   "metadata": {},
   "source": [
    "### Замена типа данных"
   ]
  },
  {
   "cell_type": "markdown",
   "metadata": {},
   "source": [
    "Заменим вещественный тип данных на целочисленный"
   ]
  },
  {
   "cell_type": "code",
   "execution_count": 15,
   "metadata": {},
   "outputs": [],
   "source": [
    "data['days_employed'] = data['days_employed'].astype('int')\n",
    "data['total_income'] = data['total_income'].astype('int')"
   ]
  },
  {
   "cell_type": "markdown",
   "metadata": {},
   "source": [
    "Проверим результат выводом информации об исходной таблице."
   ]
  },
  {
   "cell_type": "code",
   "execution_count": 16,
   "metadata": {},
   "outputs": [
    {
     "name": "stdout",
     "output_type": "stream",
     "text": [
      "<class 'pandas.core.frame.DataFrame'>\n",
      "RangeIndex: 21525 entries, 0 to 21524\n",
      "Data columns (total 13 columns):\n",
      "children            21525 non-null int64\n",
      "days_employed       21525 non-null int64\n",
      "dob_years           21525 non-null int64\n",
      "education           21525 non-null object\n",
      "education_id        21525 non-null int64\n",
      "family_status       21525 non-null object\n",
      "family_status_id    21525 non-null int64\n",
      "gender              21525 non-null object\n",
      "income_type         21525 non-null object\n",
      "debt                21525 non-null int64\n",
      "total_income        21525 non-null int64\n",
      "purpose             21525 non-null object\n",
      "age_group           21525 non-null object\n",
      "dtypes: int64(7), object(6)\n",
      "memory usage: 2.1+ MB\n",
      "None\n"
     ]
    }
   ],
   "source": [
    "print(data.info())"
   ]
  },
  {
   "cell_type": "markdown",
   "metadata": {},
   "source": [
    "### Вывод\n",
    "У столбцов days_employed и total_income тип данных float64, это количественные переменные. Количество дней трудового стажа - это целочисленный показатель, поэтому можем заменить тип данных на int64. Средний ежемесячный доход также может быть округлен до целочисленного значения, поэтому преобразовали и его.\n",
    "\n",
    "\n"
   ]
  },
  {
   "cell_type": "markdown",
   "metadata": {},
   "source": [
    "### Обработка дубликатов"
   ]
  },
  {
   "cell_type": "markdown",
   "metadata": {},
   "source": [
    "Необходимо установить наличие дубликатов. Если найдутся, удаляем, и проверяем, все ли удалились."
   ]
  },
  {
   "cell_type": "code",
   "execution_count": 17,
   "metadata": {},
   "outputs": [
    {
     "data": {
      "text/plain": [
       "54"
      ]
     },
     "execution_count": 17,
     "metadata": {},
     "output_type": "execute_result"
    }
   ],
   "source": [
    "data.duplicated().sum()\n",
    "#получение суммарного количества дубликатов в таблице data"
   ]
  },
  {
   "cell_type": "code",
   "execution_count": 18,
   "metadata": {},
   "outputs": [],
   "source": [
    "data = data.drop_duplicates().reset_index(drop=True)\n",
    "# удаление всех дубликатов из таблицы data специальным методом"
   ]
  },
  {
   "cell_type": "code",
   "execution_count": 19,
   "metadata": {
    "scrolled": true
   },
   "outputs": [
    {
     "data": {
      "text/plain": [
       "0"
      ]
     },
     "execution_count": 19,
     "metadata": {},
     "output_type": "execute_result"
    }
   ],
   "source": [
    "data.duplicated().sum()\n",
    "# проверка на отсутствие"
   ]
  },
  {
   "cell_type": "markdown",
   "metadata": {},
   "source": [
    "Дубликаты могли появиться вследствие сбоя в записи данных. Стоит обратить внимание и разобраться с причинами появления такого «информационного мусора»."
   ]
  },
  {
   "cell_type": "code",
   "execution_count": 20,
   "metadata": {},
   "outputs": [
    {
     "name": "stdout",
     "output_type": "stream",
     "text": [
      " 0     14107\n",
      " 1      4809\n",
      " 2      2052\n",
      " 3       330\n",
      " 20       76\n",
      "-1        47\n",
      " 4        41\n",
      " 5         9\n",
      "Name: children, dtype: int64\n"
     ]
    }
   ],
   "source": [
    "#Выведем статистику по количеству детей 'children' методом value_counts().\n",
    "print(data['children'].value_counts()) "
   ]
  },
  {
   "cell_type": "markdown",
   "metadata": {},
   "source": [
    "Количество детей не может быть отрицательным, поэтому удалим строки со значением '-1'.\n",
    "Строки с количеством детей 20 оставим, так как факт наличия детей необходим нам для анализа."
   ]
  },
  {
   "cell_type": "code",
   "execution_count": 21,
   "metadata": {},
   "outputs": [
    {
     "name": "stdout",
     "output_type": "stream",
     "text": [
      "0     14107\n",
      "1      4809\n",
      "2      2052\n",
      "3       330\n",
      "20       76\n",
      "4        41\n",
      "5         9\n",
      "Name: children, dtype: int64\n"
     ]
    }
   ],
   "source": [
    "data = data[data['children'] >= 0] #отбираем ненулевые значения количества детей\n",
    "print(data['children'].value_counts()) # проверка"
   ]
  },
  {
   "cell_type": "code",
   "execution_count": 22,
   "metadata": {},
   "outputs": [
    {
     "name": "stdout",
     "output_type": "stream",
     "text": [
      "1820      830\n",
      "1782      407\n",
      "364944    321\n",
      "1049      248\n",
      "3110      121\n",
      "         ... \n",
      "353413      1\n",
      "378001      1\n",
      "349331      1\n",
      "332955      1\n",
      "0           1\n",
      "Name: days_employed, Length: 9081, dtype: int64\n"
     ]
    }
   ],
   "source": [
    "#Проверка встречающихся значений в столбце 'days_employed'\n",
    "print(data['days_employed'].value_counts()) "
   ]
  },
  {
   "cell_type": "markdown",
   "metadata": {},
   "source": [
    "Общий трудовой стаж в днях - неотрицательное значение. В исходных данных встречаются отрицательные значения, что неестественно. Необходимо уточнить входные данные у заказчика."
   ]
  },
  {
   "cell_type": "code",
   "execution_count": 23,
   "metadata": {},
   "outputs": [
    {
     "name": "stdout",
     "output_type": "stream",
     "text": [
      "35    615\n",
      "40    605\n",
      "41    604\n",
      "34    598\n",
      "38    595\n",
      "42    594\n",
      "33    579\n",
      "39    572\n",
      "31    557\n",
      "36    554\n",
      "29    544\n",
      "44    543\n",
      "30    537\n",
      "48    536\n",
      "37    534\n",
      "43    511\n",
      "50    511\n",
      "49    508\n",
      "32    507\n",
      "28    501\n",
      "45    497\n",
      "27    492\n",
      "56    484\n",
      "52    484\n",
      "47    477\n",
      "54    474\n",
      "46    470\n",
      "53    458\n",
      "58    456\n",
      "57    454\n",
      "51    447\n",
      "55    442\n",
      "59    442\n",
      "26    407\n",
      "60    374\n",
      "25    357\n",
      "61    353\n",
      "62    349\n",
      "63    268\n",
      "24    264\n",
      "64    261\n",
      "23    252\n",
      "65    194\n",
      "22    183\n",
      "66    182\n",
      "67    167\n",
      "21    111\n",
      "0     101\n",
      "68     99\n",
      "69     84\n",
      "70     65\n",
      "71     58\n",
      "20     51\n",
      "72     33\n",
      "19     14\n",
      "73      8\n",
      "74      6\n",
      "75      1\n",
      "Name: dob_years, dtype: int64\n"
     ]
    }
   ],
   "source": [
    "# Выведем статистику по возрастам 'dob_years' методом value_counts().\n",
    "print(data['dob_years'].value_counts())"
   ]
  },
  {
   "cell_type": "markdown",
   "metadata": {},
   "source": [
    "Есть 101 нулевое значение, этого не может быть, так как кредиты выдаются только совершеннолетним. Удалять эти строки не будем, так как эти данные не учитываются в нашем дальнейшем анализе."
   ]
  },
  {
   "cell_type": "code",
   "execution_count": 24,
   "metadata": {},
   "outputs": [
    {
     "name": "stdout",
     "output_type": "stream",
     "text": [
      "среднее                13674\n",
      "высшее                  4702\n",
      "СРЕДНЕЕ                  768\n",
      "Среднее                  709\n",
      "неоконченное высшее      667\n",
      "ВЫСШЕЕ                   272\n",
      "Высшее                   268\n",
      "начальное                250\n",
      "Неоконченное высшее       47\n",
      "НЕОКОНЧЕННОЕ ВЫСШЕЕ       29\n",
      "НАЧАЛЬНОЕ                 17\n",
      "Начальное                 15\n",
      "ученая степень             4\n",
      "УЧЕНАЯ СТЕПЕНЬ             1\n",
      "Ученая степень             1\n",
      "Name: education, dtype: int64\n"
     ]
    }
   ],
   "source": [
    "# Проверяем значения в столбце 'education'.\n",
    "print(data['education'].value_counts())"
   ]
  },
  {
   "cell_type": "markdown",
   "metadata": {},
   "source": [
    "Приведем данные к нижнему регистру, так как есть строки, отличающиеся регистром нескольких букв, для исключения неправильного название образования."
   ]
  },
  {
   "cell_type": "code",
   "execution_count": 25,
   "metadata": {},
   "outputs": [],
   "source": [
    "#Приведем значения в столбце 'education' к нижнему регистру\n",
    "data['education'] = data['education'].str.lower()"
   ]
  },
  {
   "cell_type": "code",
   "execution_count": 26,
   "metadata": {},
   "outputs": [
    {
     "name": "stdout",
     "output_type": "stream",
     "text": [
      "17\n"
     ]
    }
   ],
   "source": [
    "#Проверяем наличие дубликатов после приведения к нижнему регистру\n",
    "print(data.duplicated().sum())"
   ]
  },
  {
   "cell_type": "code",
   "execution_count": 27,
   "metadata": {},
   "outputs": [],
   "source": [
    "data = data.drop_duplicates().reset_index(drop=True)\n",
    "# удаление всех дубликатов из таблицы "
   ]
  },
  {
   "cell_type": "code",
   "execution_count": 28,
   "metadata": {},
   "outputs": [
    {
     "name": "stdout",
     "output_type": "stream",
     "text": [
      "0\n"
     ]
    }
   ],
   "source": [
    "print(data.duplicated().sum())\n",
    "#проверка"
   ]
  },
  {
   "cell_type": "code",
   "execution_count": 29,
   "metadata": {},
   "outputs": [
    {
     "name": "stdout",
     "output_type": "stream",
     "text": [
      "среднее                15135\n",
      "высшее                  5241\n",
      "неоконченное высшее      743\n",
      "начальное                282\n",
      "ученая степень             6\n",
      "Name: education, dtype: int64\n"
     ]
    }
   ],
   "source": [
    "# Проверим результат\n",
    "print(data['education'].value_counts())"
   ]
  },
  {
   "cell_type": "markdown",
   "metadata": {},
   "source": [
    "Теперь данные об образование едины и не содержат неявных дубликатов"
   ]
  },
  {
   "cell_type": "code",
   "execution_count": 30,
   "metadata": {},
   "outputs": [
    {
     "name": "stdout",
     "output_type": "stream",
     "text": [
      "1    15135\n",
      "0     5241\n",
      "2      743\n",
      "3      282\n",
      "4        6\n",
      "Name: education_id, dtype: int64\n"
     ]
    }
   ],
   "source": [
    "# Проверяем значения в столбце 'education_id'.\n",
    "print(data['education_id'].value_counts())\n",
    "#Данные корректны"
   ]
  },
  {
   "cell_type": "code",
   "execution_count": 31,
   "metadata": {},
   "outputs": [
    {
     "name": "stdout",
     "output_type": "stream",
     "text": [
      "женат / замужем          12310\n",
      "гражданский брак          4146\n",
      "Не женат / не замужем     2805\n",
      "в разводе                 1191\n",
      "вдовец / вдова             955\n",
      "Name: family_status, dtype: int64\n"
     ]
    }
   ],
   "source": [
    "# Проверяем значения в столбце 'family_status'.\n",
    "print(data['family_status'].value_counts())\n",
    "#Данные корректны"
   ]
  },
  {
   "cell_type": "code",
   "execution_count": 32,
   "metadata": {},
   "outputs": [
    {
     "name": "stdout",
     "output_type": "stream",
     "text": [
      "0    12310\n",
      "1     4146\n",
      "4     2805\n",
      "3     1191\n",
      "2      955\n",
      "Name: family_status_id, dtype: int64\n"
     ]
    }
   ],
   "source": [
    "# Проверяем значения в столбце 'family_status_id'.\n",
    "print(data['family_status_id'].value_counts())\n",
    "#Данные корректны"
   ]
  },
  {
   "cell_type": "code",
   "execution_count": 33,
   "metadata": {},
   "outputs": [
    {
     "name": "stdout",
     "output_type": "stream",
     "text": [
      "F      14139\n",
      "M       7267\n",
      "XNA        1\n",
      "Name: gender, dtype: int64\n"
     ]
    }
   ],
   "source": [
    "# Проверяем значения в столбце 'gender'.\n",
    "print(data['gender'].value_counts())"
   ]
  },
  {
   "cell_type": "markdown",
   "metadata": {},
   "source": [
    "Присутствует одно значение XNA, неотносящееся к полу человека. Удалим строку со значением XNA"
   ]
  },
  {
   "cell_type": "code",
   "execution_count": 34,
   "metadata": {},
   "outputs": [
    {
     "name": "stdout",
     "output_type": "stream",
     "text": [
      "F    14139\n",
      "M     7267\n",
      "Name: gender, dtype: int64\n"
     ]
    }
   ],
   "source": [
    "# Удалим строку со значением XNA\n",
    "data = data[data['gender'] != 'XNA']\n",
    "print(data['gender'].value_counts()) # проверка"
   ]
  },
  {
   "cell_type": "code",
   "execution_count": 35,
   "metadata": {},
   "outputs": [
    {
     "name": "stdout",
     "output_type": "stream",
     "text": [
      "сотрудник          11058\n",
      "компаньон           5068\n",
      "пенсионер           3821\n",
      "госслужащий         1453\n",
      "предприниматель        2\n",
      "безработный            2\n",
      "студент                1\n",
      "в декрете              1\n",
      "Name: income_type, dtype: int64\n"
     ]
    }
   ],
   "source": [
    "# Проверяем значения в столбце 'income_type'.\n",
    "print(data['income_type'].value_counts())\n",
    "#Данные корректны,дубликатов нет"
   ]
  },
  {
   "cell_type": "code",
   "execution_count": 36,
   "metadata": {},
   "outputs": [
    {
     "name": "stdout",
     "output_type": "stream",
     "text": [
      "0    19666\n",
      "1     1740\n",
      "Name: debt, dtype: int64\n"
     ]
    }
   ],
   "source": [
    "# Проверяем значения в столбце 'debt'.\n",
    "print(data['debt'].value_counts())\n",
    "#Данные корректны"
   ]
  },
  {
   "cell_type": "code",
   "execution_count": 37,
   "metadata": {},
   "outputs": [
    {
     "name": "stdout",
     "output_type": "stream",
     "text": [
      "142594    1069\n",
      "172357     501\n",
      "118514     386\n",
      "150447     145\n",
      "162962       3\n",
      "          ... \n",
      "390148       1\n",
      "113661       1\n",
      "111612       1\n",
      "199675       1\n",
      "264193       1\n",
      "Name: total_income, Length: 18566, dtype: int64\n"
     ]
    }
   ],
   "source": [
    "# Проверяем значения в столбце 'total_income'.\n",
    "print(data['total_income'].value_counts())"
   ]
  },
  {
   "cell_type": "code",
   "execution_count": 38,
   "metadata": {},
   "outputs": [
    {
     "name": "stdout",
     "output_type": "stream",
     "text": [
      "Empty DataFrame\n",
      "Columns: [children, days_employed, dob_years, education, education_id, family_status, family_status_id, gender, income_type, debt, total_income, purpose, age_group]\n",
      "Index: []\n"
     ]
    }
   ],
   "source": [
    "# проверяем, что нет отрицательных значений в столбце 'total_income'.\n",
    "print(data[data['total_income'] <= 0]) \n",
    "#Данные корректны"
   ]
  },
  {
   "cell_type": "code",
   "execution_count": 39,
   "metadata": {},
   "outputs": [
    {
     "name": "stdout",
     "output_type": "stream",
     "text": [
      "свадьба                                   791\n",
      "на проведение свадьбы                     767\n",
      "сыграть свадьбу                           764\n",
      "операции с недвижимостью                  673\n",
      "покупка коммерческой недвижимости         661\n",
      "операции с жильем                         651\n",
      "покупка жилья для сдачи                   650\n",
      "операции с коммерческой недвижимостью     649\n",
      "жилье                                     645\n",
      "покупка жилья                             643\n",
      "покупка жилья для семьи                   638\n",
      "строительство собственной недвижимости    634\n",
      "недвижимость                              632\n",
      "операции со своей недвижимостью           624\n",
      "строительство жилой недвижимости          621\n",
      "покупка своего жилья                      619\n",
      "строительство недвижимости                619\n",
      "покупка недвижимости                      617\n",
      "ремонт жилью                              606\n",
      "покупка жилой недвижимости                604\n",
      "на покупку своего автомобиля              504\n",
      "заняться высшим образованием              496\n",
      "автомобиль                                492\n",
      "сделка с подержанным автомобилем          485\n",
      "автомобили                                477\n",
      "на покупку подержанного автомобиля        477\n",
      "свой автомобиль                           476\n",
      "на покупку автомобиля                     470\n",
      "приобретение автомобиля                   459\n",
      "дополнительное образование                458\n",
      "сделка с автомобилем                      455\n",
      "высшее образование                        451\n",
      "получение дополнительного образования     445\n",
      "образование                               444\n",
      "получение образования                     441\n",
      "профильное образование                    434\n",
      "получение высшего образования             426\n",
      "заняться образованием                     408\n",
      "Name: purpose, dtype: int64\n"
     ]
    }
   ],
   "source": [
    "# Проверим значения в столбце 'purpose'\n",
    "print(data['purpose'].value_counts())"
   ]
  },
  {
   "cell_type": "markdown",
   "metadata": {},
   "source": [
    "Во многих строках сама цель кредита одна, но записана по разному. Необходимо сгруппировать данные столбца 'purpose' по  целям кредита."
   ]
  },
  {
   "cell_type": "markdown",
   "metadata": {},
   "source": [
    "### Вывод\n",
    "На этапе предобработки в данных обнаружились не только пропуски, но и всяческие виды дубликатов. Их удаление позволит провести анализ точнее. Проcмотрели уникальные значения в каждом столбце. Для удаления неявных дубликатов из столбца 'education', сначала привели строки значений к нижнему регистру. Чтобы избавиться от неявных дубликатов в столбце 'purpose' приведение к нижнему регистру недостаточно, так как цель кредита клиент может написать по своему усмотрению. Но среди разнообразия целей выдачи кредита, можно выделить и основные направления. Создадим категории для целей кредита. Для этого сначала сделаем лемматизацию столбца 'purpose'.\n"
   ]
  },
  {
   "cell_type": "markdown",
   "metadata": {},
   "source": [
    "### Лемматизация"
   ]
  },
  {
   "cell_type": "markdown",
   "metadata": {},
   "source": [
    "Для поиска целей кредита, записанных в разных формах, создадим новый столбец 'purpose_lem',содержащий в себе отлемматизированный столбец 'purpose'."
   ]
  },
  {
   "cell_type": "code",
   "execution_count": 40,
   "metadata": {},
   "outputs": [
    {
     "data": {
      "text/html": [
       "<div>\n",
       "<style scoped>\n",
       "    .dataframe tbody tr th:only-of-type {\n",
       "        vertical-align: middle;\n",
       "    }\n",
       "\n",
       "    .dataframe tbody tr th {\n",
       "        vertical-align: top;\n",
       "    }\n",
       "\n",
       "    .dataframe thead th {\n",
       "        text-align: right;\n",
       "    }\n",
       "</style>\n",
       "<table border=\"1\" class=\"dataframe\">\n",
       "  <thead>\n",
       "    <tr style=\"text-align: right;\">\n",
       "      <th></th>\n",
       "      <th>purpose</th>\n",
       "      <th>purpose_lem</th>\n",
       "    </tr>\n",
       "  </thead>\n",
       "  <tbody>\n",
       "    <tr>\n",
       "      <td>0</td>\n",
       "      <td>покупка жилья</td>\n",
       "      <td>[покупка,  , жилье, \\n]</td>\n",
       "    </tr>\n",
       "    <tr>\n",
       "      <td>1</td>\n",
       "      <td>приобретение автомобиля</td>\n",
       "      <td>[приобретение,  , автомобиль, \\n]</td>\n",
       "    </tr>\n",
       "    <tr>\n",
       "      <td>2</td>\n",
       "      <td>покупка жилья</td>\n",
       "      <td>[покупка,  , жилье, \\n]</td>\n",
       "    </tr>\n",
       "    <tr>\n",
       "      <td>3</td>\n",
       "      <td>дополнительное образование</td>\n",
       "      <td>[дополнительный,  , образование, \\n]</td>\n",
       "    </tr>\n",
       "    <tr>\n",
       "      <td>4</td>\n",
       "      <td>сыграть свадьбу</td>\n",
       "      <td>[сыграть,  , свадьба, \\n]</td>\n",
       "    </tr>\n",
       "    <tr>\n",
       "      <td>5</td>\n",
       "      <td>покупка жилья</td>\n",
       "      <td>[покупка,  , жилье, \\n]</td>\n",
       "    </tr>\n",
       "    <tr>\n",
       "      <td>6</td>\n",
       "      <td>операции с жильем</td>\n",
       "      <td>[операция,  , с,  , жилье, \\n]</td>\n",
       "    </tr>\n",
       "    <tr>\n",
       "      <td>7</td>\n",
       "      <td>образование</td>\n",
       "      <td>[образование, \\n]</td>\n",
       "    </tr>\n",
       "    <tr>\n",
       "      <td>8</td>\n",
       "      <td>на проведение свадьбы</td>\n",
       "      <td>[на,  , проведение,  , свадьба, \\n]</td>\n",
       "    </tr>\n",
       "    <tr>\n",
       "      <td>9</td>\n",
       "      <td>покупка жилья для семьи</td>\n",
       "      <td>[покупка,  , жилье,  , для,  , семья, \\n]</td>\n",
       "    </tr>\n",
       "  </tbody>\n",
       "</table>\n",
       "</div>"
      ],
      "text/plain": [
       "                      purpose                                purpose_lem\n",
       "0               покупка жилья                    [покупка,  , жилье, \\n]\n",
       "1     приобретение автомобиля          [приобретение,  , автомобиль, \\n]\n",
       "2               покупка жилья                    [покупка,  , жилье, \\n]\n",
       "3  дополнительное образование       [дополнительный,  , образование, \\n]\n",
       "4             сыграть свадьбу                  [сыграть,  , свадьба, \\n]\n",
       "5               покупка жилья                    [покупка,  , жилье, \\n]\n",
       "6           операции с жильем             [операция,  , с,  , жилье, \\n]\n",
       "7                 образование                          [образование, \\n]\n",
       "8       на проведение свадьбы        [на,  , проведение,  , свадьба, \\n]\n",
       "9     покупка жилья для семьи  [покупка,  , жилье,  , для,  , семья, \\n]"
      ]
     },
     "execution_count": 40,
     "metadata": {},
     "output_type": "execute_result"
    }
   ],
   "source": [
    "# импортируем pymystem3:\n",
    "from pymystem3 import Mystem\n",
    "m = Mystem()\n",
    "#создадим новый столбец purpose_lem, в котором лемматизированы все слова в столбце purpose\n",
    "data['purpose_lem'] =data['purpose'].apply(m.lemmatize)\n",
    "data[['purpose','purpose_lem']].head(10) #вывод первоначальной и отлеммитизироанной цели кредита"
   ]
  },
  {
   "cell_type": "markdown",
   "metadata": {},
   "source": [
    "Подсчитаем количество уникальных лемматизированных слов. "
   ]
  },
  {
   "cell_type": "code",
   "execution_count": 41,
   "metadata": {},
   "outputs": [
    {
     "data": {
      "text/plain": [
       "Counter({'покупка': 5883,\n",
       "         ' ': 54906,\n",
       "         'жилье': 4452,\n",
       "         'приобретение': 459,\n",
       "         'автомобиль': 4295,\n",
       "         'дополнительный': 903,\n",
       "         'образование': 4003,\n",
       "         'сыграть': 764,\n",
       "         'свадьба': 2322,\n",
       "         'операция': 2597,\n",
       "         'с': 2913,\n",
       "         'на': 2218,\n",
       "         'проведение': 767,\n",
       "         'для': 1288,\n",
       "         'семья': 638,\n",
       "         'недвижимость': 6334,\n",
       "         'коммерческий': 1310,\n",
       "         'жилой': 1225,\n",
       "         'строительство': 1874,\n",
       "         'собственный': 634,\n",
       "         'подержать': 851,\n",
       "         'свой': 2223,\n",
       "         'со': 624,\n",
       "         'заниматься': 904,\n",
       "         'сделка': 940,\n",
       "         'получение': 1312,\n",
       "         'высокий': 1373,\n",
       "         'подержанный': 111,\n",
       "         'профильный': 434,\n",
       "         'сдача': 650,\n",
       "         'ремонт': 606,\n",
       "         '\\n': 1})"
      ]
     },
     "execution_count": 41,
     "metadata": {},
     "output_type": "execute_result"
    }
   ],
   "source": [
    "#Подсчитаем количество уникальных лемматизированных слов. \n",
    "# Вызовем специальный контейнер Counter из модуля collections.\n",
    "\n",
    "from collections import Counter\n",
    "\n",
    "text = ' '.join(data['purpose'])\n",
    "lemmas = m.lemmatize(text)\n",
    "dict_text = Counter(lemmas)\n",
    "dict_text"
   ]
  },
  {
   "cell_type": "markdown",
   "metadata": {},
   "source": [
    "### Вывод\n",
    "Cоздадли новый столбец 'purpose_lem',содержащий в себе отлемматизированный столбец 'purpose' и нашли уникальные значения. Теперь эти данные необходимо систематизировать."
   ]
  },
  {
   "cell_type": "markdown",
   "metadata": {},
   "source": [
    "### Категоризация данных"
   ]
  },
  {
   "cell_type": "markdown",
   "metadata": {},
   "source": [
    "Вручную создадим словарь самых распространенных целей кредита. Создадим функцию, которая определяет цель кредита и выводит значение из созданного словаря, если значения в словаре нет, то выводит значение \"иное\".Создадим новый столбец с целями кредита по категориям 'purpose_new'."
   ]
  },
  {
   "cell_type": "markdown",
   "metadata": {},
   "source": [
    "Создадим словарь самых распространенных целей кредита."
   ]
  },
  {
   "cell_type": "code",
   "execution_count": 42,
   "metadata": {},
   "outputs": [],
   "source": [
    "# Создание словаря-синонимов\n",
    "\n",
    "dict_purpose = {'недвижимость':['недвижимость','жилье','квартира'],\n",
    "                 'автомобиль':['автомобиль','машина'],\n",
    "                 'образование':['образование','учеба'],\n",
    "                 'свадьба':['свадьба']}"
   ]
  },
  {
   "cell_type": "markdown",
   "metadata": {},
   "source": [
    "Для внесения изменений в названия целей кредита воспользуемся соданным словарем названий: ключ словаря - окончательное название, значение - различные виды записи названий целей."
   ]
  },
  {
   "cell_type": "code",
   "execution_count": 43,
   "metadata": {},
   "outputs": [
    {
     "data": {
      "text/html": [
       "<div>\n",
       "<style scoped>\n",
       "    .dataframe tbody tr th:only-of-type {\n",
       "        vertical-align: middle;\n",
       "    }\n",
       "\n",
       "    .dataframe tbody tr th {\n",
       "        vertical-align: top;\n",
       "    }\n",
       "\n",
       "    .dataframe thead th {\n",
       "        text-align: right;\n",
       "    }\n",
       "</style>\n",
       "<table border=\"1\" class=\"dataframe\">\n",
       "  <thead>\n",
       "    <tr style=\"text-align: right;\">\n",
       "      <th></th>\n",
       "      <th>purpose</th>\n",
       "      <th>purpose_lem</th>\n",
       "      <th>purpose_new</th>\n",
       "    </tr>\n",
       "  </thead>\n",
       "  <tbody>\n",
       "    <tr>\n",
       "      <td>0</td>\n",
       "      <td>покупка жилья</td>\n",
       "      <td>[покупка,  , жилье, \\n]</td>\n",
       "      <td>недвижимость</td>\n",
       "    </tr>\n",
       "    <tr>\n",
       "      <td>1</td>\n",
       "      <td>приобретение автомобиля</td>\n",
       "      <td>[приобретение,  , автомобиль, \\n]</td>\n",
       "      <td>автомобиль</td>\n",
       "    </tr>\n",
       "    <tr>\n",
       "      <td>2</td>\n",
       "      <td>покупка жилья</td>\n",
       "      <td>[покупка,  , жилье, \\n]</td>\n",
       "      <td>недвижимость</td>\n",
       "    </tr>\n",
       "    <tr>\n",
       "      <td>3</td>\n",
       "      <td>дополнительное образование</td>\n",
       "      <td>[дополнительный,  , образование, \\n]</td>\n",
       "      <td>образование</td>\n",
       "    </tr>\n",
       "    <tr>\n",
       "      <td>4</td>\n",
       "      <td>сыграть свадьбу</td>\n",
       "      <td>[сыграть,  , свадьба, \\n]</td>\n",
       "      <td>свадьба</td>\n",
       "    </tr>\n",
       "    <tr>\n",
       "      <td>5</td>\n",
       "      <td>покупка жилья</td>\n",
       "      <td>[покупка,  , жилье, \\n]</td>\n",
       "      <td>недвижимость</td>\n",
       "    </tr>\n",
       "    <tr>\n",
       "      <td>6</td>\n",
       "      <td>операции с жильем</td>\n",
       "      <td>[операция,  , с,  , жилье, \\n]</td>\n",
       "      <td>недвижимость</td>\n",
       "    </tr>\n",
       "    <tr>\n",
       "      <td>7</td>\n",
       "      <td>образование</td>\n",
       "      <td>[образование, \\n]</td>\n",
       "      <td>образование</td>\n",
       "    </tr>\n",
       "    <tr>\n",
       "      <td>8</td>\n",
       "      <td>на проведение свадьбы</td>\n",
       "      <td>[на,  , проведение,  , свадьба, \\n]</td>\n",
       "      <td>свадьба</td>\n",
       "    </tr>\n",
       "    <tr>\n",
       "      <td>9</td>\n",
       "      <td>покупка жилья для семьи</td>\n",
       "      <td>[покупка,  , жилье,  , для,  , семья, \\n]</td>\n",
       "      <td>недвижимость</td>\n",
       "    </tr>\n",
       "  </tbody>\n",
       "</table>\n",
       "</div>"
      ],
      "text/plain": [
       "                      purpose                                purpose_lem  \\\n",
       "0               покупка жилья                    [покупка,  , жилье, \\n]   \n",
       "1     приобретение автомобиля          [приобретение,  , автомобиль, \\n]   \n",
       "2               покупка жилья                    [покупка,  , жилье, \\n]   \n",
       "3  дополнительное образование       [дополнительный,  , образование, \\n]   \n",
       "4             сыграть свадьбу                  [сыграть,  , свадьба, \\n]   \n",
       "5               покупка жилья                    [покупка,  , жилье, \\n]   \n",
       "6           операции с жильем             [операция,  , с,  , жилье, \\n]   \n",
       "7                 образование                          [образование, \\n]   \n",
       "8       на проведение свадьбы        [на,  , проведение,  , свадьба, \\n]   \n",
       "9     покупка жилья для семьи  [покупка,  , жилье,  , для,  , семья, \\n]   \n",
       "\n",
       "    purpose_new  \n",
       "0  недвижимость  \n",
       "1    автомобиль  \n",
       "2  недвижимость  \n",
       "3   образование  \n",
       "4       свадьба  \n",
       "5  недвижимость  \n",
       "6  недвижимость  \n",
       "7   образование  \n",
       "8       свадьба  \n",
       "9  недвижимость  "
      ]
     },
     "execution_count": 43,
     "metadata": {},
     "output_type": "execute_result"
    }
   ],
   "source": [
    "# Создание функции purpose_new\n",
    "\n",
    "def purpose_new(purpose_lem):\n",
    "    for key,value in dict_purpose.items():\n",
    "        for purpose in purpose_lem:\n",
    "            if purpose in value:\n",
    "                return key\n",
    "    else: return 'иное'\n",
    "    \n",
    "# Объявляется функция purpose_new с одним параметром: purpose_lem.\n",
    "# В циклах проверяем вхождение каждого слова из столбца purpose_lem в каждое значение из словаря dict_purpose. \n",
    "# Функция возвращает ключ словаря dict_purpose(если есть вхождение в словарь dict_purpose), \n",
    "# либо значение \"иное\" (если ни одного слова нет в словаре)\n",
    "\n",
    "data['purpose_new'] = data['purpose_lem'].apply(purpose_new)\n",
    "# Cоздадим отдельный столбец с целями кредита по категориям. В его ячейках запишем значения, возвращаемые функцией.\n",
    "# Для этого вызовем метод apply() он берёт значения столбца датафрейма и применяет к ним функцию из своего аргумента. \n",
    "# В нашем случае метод apply() следует вызвать для столбца 'purpose_lem', \n",
    "# так как в нём содержатся данные, которые функция примет на вход. Аргументом метода станет сама функция purpose_new.\n",
    "\n",
    "data[['purpose','purpose_lem','purpose_new']].head(10)"
   ]
  },
  {
   "cell_type": "markdown",
   "metadata": {},
   "source": [
    "Проверка, что во всех строках прописана новая цель кредита из словаря самых распространенных целей кредита. Применим метод value_counts() для подсчёта значений каждой категории."
   ]
  },
  {
   "cell_type": "code",
   "execution_count": 44,
   "metadata": {},
   "outputs": [
    {
     "name": "stdout",
     "output_type": "stream",
     "text": [
      "недвижимость    10786\n",
      "автомобиль       4295\n",
      "образование      4003\n",
      "свадьба          2322\n",
      "Name: purpose_new, dtype: int64\n",
      "0\n"
     ]
    }
   ],
   "source": [
    "print(data['purpose_new'].value_counts()) #вывод значений,встречающихся в  'purpose_new'\n",
    "print(data['purpose_new'].isnull().sum()) #проверка пропусков"
   ]
  },
  {
   "cell_type": "markdown",
   "metadata": {},
   "source": [
    "Чтобы разделить заемщиков на группы по доходам Разделим их на категории с низким уровнем дохода, средним и высоким. Описательная статистика (среднее, стандартное отклонение, количество наблюдений, минимальное, максимальное и квартили) числовых столбцов может быть рассчитана с использованием .describe()."
   ]
  },
  {
   "cell_type": "code",
   "execution_count": 45,
   "metadata": {},
   "outputs": [
    {
     "name": "stdout",
     "output_type": "stream",
     "text": [
      "count    2.140600e+04\n",
      "mean     1.653442e+05\n",
      "std      9.824556e+04\n",
      "min      2.066700e+04\n",
      "25%      1.075505e+05\n",
      "50%      1.425940e+05\n",
      "75%      1.958600e+05\n",
      "max      2.265604e+06\n",
      "Name: total_income, dtype: float64\n"
     ]
    }
   ],
   "source": [
    "# Чтобы найти граничные значения уровня дохода (25%,75%) воспользуемся методом describe()\n",
    "debt_total_income = data['total_income'].describe()\n",
    "print(debt_total_income) #вывод результата"
   ]
  },
  {
   "cell_type": "code",
   "execution_count": 46,
   "metadata": {},
   "outputs": [
    {
     "data": {
      "text/html": [
       "<div>\n",
       "<style scoped>\n",
       "    .dataframe tbody tr th:only-of-type {\n",
       "        vertical-align: middle;\n",
       "    }\n",
       "\n",
       "    .dataframe tbody tr th {\n",
       "        vertical-align: top;\n",
       "    }\n",
       "\n",
       "    .dataframe thead th {\n",
       "        text-align: right;\n",
       "    }\n",
       "</style>\n",
       "<table border=\"1\" class=\"dataframe\">\n",
       "  <thead>\n",
       "    <tr style=\"text-align: right;\">\n",
       "      <th></th>\n",
       "      <th>total_income</th>\n",
       "      <th>total_income_level</th>\n",
       "    </tr>\n",
       "  </thead>\n",
       "  <tbody>\n",
       "    <tr>\n",
       "      <td>0</td>\n",
       "      <td>253875</td>\n",
       "      <td>высокий доход</td>\n",
       "    </tr>\n",
       "    <tr>\n",
       "      <td>1</td>\n",
       "      <td>112080</td>\n",
       "      <td>средний доход</td>\n",
       "    </tr>\n",
       "    <tr>\n",
       "      <td>2</td>\n",
       "      <td>145885</td>\n",
       "      <td>средний доход</td>\n",
       "    </tr>\n",
       "    <tr>\n",
       "      <td>3</td>\n",
       "      <td>267628</td>\n",
       "      <td>высокий доход</td>\n",
       "    </tr>\n",
       "    <tr>\n",
       "      <td>4</td>\n",
       "      <td>158616</td>\n",
       "      <td>средний доход</td>\n",
       "    </tr>\n",
       "    <tr>\n",
       "      <td>5</td>\n",
       "      <td>255763</td>\n",
       "      <td>высокий доход</td>\n",
       "    </tr>\n",
       "    <tr>\n",
       "      <td>6</td>\n",
       "      <td>240525</td>\n",
       "      <td>высокий доход</td>\n",
       "    </tr>\n",
       "    <tr>\n",
       "      <td>7</td>\n",
       "      <td>135823</td>\n",
       "      <td>средний доход</td>\n",
       "    </tr>\n",
       "    <tr>\n",
       "      <td>8</td>\n",
       "      <td>95856</td>\n",
       "      <td>низкий доход</td>\n",
       "    </tr>\n",
       "    <tr>\n",
       "      <td>9</td>\n",
       "      <td>144425</td>\n",
       "      <td>средний доход</td>\n",
       "    </tr>\n",
       "  </tbody>\n",
       "</table>\n",
       "</div>"
      ],
      "text/plain": [
       "   total_income total_income_level\n",
       "0        253875      высокий доход\n",
       "1        112080      средний доход\n",
       "2        145885      средний доход\n",
       "3        267628      высокий доход\n",
       "4        158616      средний доход\n",
       "5        255763      высокий доход\n",
       "6        240525      высокий доход\n",
       "7        135823      средний доход\n",
       "8         95856       низкий доход\n",
       "9        144425      средний доход"
      ]
     },
     "execution_count": 46,
     "metadata": {},
     "output_type": "execute_result"
    }
   ],
   "source": [
    "# На основании полученных расчетов, получаем\n",
    "min_level = data['total_income'].describe().loc['25%']\n",
    "max_level = data['total_income'].describe().loc['75%']\n",
    "# создали переменные, в которых хранятся граничные значения суммы дохода по категориям\n",
    "\n",
    "# Создание функции level_total_income\n",
    "def level_total_income (total_income):\n",
    "    if total_income <= min_level:\n",
    "        return 'низкий доход'\n",
    "    elif total_income >= max_level:\n",
    "        return 'высокий доход'\n",
    "    else:\n",
    "        return 'средний доход'\n",
    "\n",
    "# Объявляется функция level_total_income с одним параметром: total_income.\n",
    "# Функция возвращает уровень дохода по значению суммы дохода 'total_income', используя правила\n",
    "# - 'низкий доход' при значении total_income <= min_level\n",
    "# - 'высокий доход' при значении total_income >= max_level\n",
    "# - 'средний доход' во всех остальных случаях.\n",
    "\n",
    "data['total_income_level'] = data['total_income'].apply(level_total_income)    \n",
    "# Создадим отдельный столбец 'total_income_level' с уровнем дохода по категориям.\n",
    "# В его ячейках запишем значения, возвращаемые функцией.\n",
    "# Вызовим метод apply() для столбца 'total_income', так как в нём содержатся данные, которые функция примет на вход. \n",
    "# Аргументом метода станет сама функция level_total_income.\n",
    "\n",
    "data[['total_income','total_income_level']].head(10)"
   ]
  },
  {
   "cell_type": "markdown",
   "metadata": {},
   "source": [
    "Получаем общую информацию о данных. Убеждаемся, все выполнено успешно."
   ]
  },
  {
   "cell_type": "code",
   "execution_count": 47,
   "metadata": {},
   "outputs": [
    {
     "name": "stdout",
     "output_type": "stream",
     "text": [
      "<class 'pandas.core.frame.DataFrame'>\n",
      "Int64Index: 21406 entries, 0 to 21406\n",
      "Data columns (total 16 columns):\n",
      "children              21406 non-null int64\n",
      "days_employed         21406 non-null int64\n",
      "dob_years             21406 non-null int64\n",
      "education             21406 non-null object\n",
      "education_id          21406 non-null int64\n",
      "family_status         21406 non-null object\n",
      "family_status_id      21406 non-null int64\n",
      "gender                21406 non-null object\n",
      "income_type           21406 non-null object\n",
      "debt                  21406 non-null int64\n",
      "total_income          21406 non-null int64\n",
      "purpose               21406 non-null object\n",
      "age_group             21406 non-null object\n",
      "purpose_lem           21406 non-null object\n",
      "purpose_new           21406 non-null object\n",
      "total_income_level    21406 non-null object\n",
      "dtypes: int64(7), object(9)\n",
      "memory usage: 2.8+ MB\n"
     ]
    }
   ],
   "source": [
    "# получение общей информации о данных таблицы data\n",
    "data.info()"
   ]
  },
  {
   "cell_type": "code",
   "execution_count": 48,
   "metadata": {},
   "outputs": [
    {
     "data": {
      "text/html": [
       "<div>\n",
       "<style scoped>\n",
       "    .dataframe tbody tr th:only-of-type {\n",
       "        vertical-align: middle;\n",
       "    }\n",
       "\n",
       "    .dataframe tbody tr th {\n",
       "        vertical-align: top;\n",
       "    }\n",
       "\n",
       "    .dataframe thead th {\n",
       "        text-align: right;\n",
       "    }\n",
       "</style>\n",
       "<table border=\"1\" class=\"dataframe\">\n",
       "  <thead>\n",
       "    <tr style=\"text-align: right;\">\n",
       "      <th></th>\n",
       "      <th>children</th>\n",
       "      <th>days_employed</th>\n",
       "      <th>dob_years</th>\n",
       "      <th>education</th>\n",
       "      <th>education_id</th>\n",
       "      <th>family_status</th>\n",
       "      <th>family_status_id</th>\n",
       "      <th>gender</th>\n",
       "      <th>income_type</th>\n",
       "      <th>debt</th>\n",
       "      <th>total_income</th>\n",
       "      <th>purpose</th>\n",
       "      <th>age_group</th>\n",
       "      <th>purpose_lem</th>\n",
       "      <th>purpose_new</th>\n",
       "      <th>total_income_level</th>\n",
       "    </tr>\n",
       "  </thead>\n",
       "  <tbody>\n",
       "    <tr>\n",
       "      <td>0</td>\n",
       "      <td>1</td>\n",
       "      <td>8437</td>\n",
       "      <td>42</td>\n",
       "      <td>высшее</td>\n",
       "      <td>0</td>\n",
       "      <td>женат / замужем</td>\n",
       "      <td>0</td>\n",
       "      <td>F</td>\n",
       "      <td>сотрудник</td>\n",
       "      <td>0</td>\n",
       "      <td>253875</td>\n",
       "      <td>покупка жилья</td>\n",
       "      <td>взрослые</td>\n",
       "      <td>[покупка,  , жилье, \\n]</td>\n",
       "      <td>недвижимость</td>\n",
       "      <td>высокий доход</td>\n",
       "    </tr>\n",
       "    <tr>\n",
       "      <td>1</td>\n",
       "      <td>1</td>\n",
       "      <td>4024</td>\n",
       "      <td>36</td>\n",
       "      <td>среднее</td>\n",
       "      <td>1</td>\n",
       "      <td>женат / замужем</td>\n",
       "      <td>0</td>\n",
       "      <td>F</td>\n",
       "      <td>сотрудник</td>\n",
       "      <td>0</td>\n",
       "      <td>112080</td>\n",
       "      <td>приобретение автомобиля</td>\n",
       "      <td>взрослые</td>\n",
       "      <td>[приобретение,  , автомобиль, \\n]</td>\n",
       "      <td>автомобиль</td>\n",
       "      <td>средний доход</td>\n",
       "    </tr>\n",
       "    <tr>\n",
       "      <td>2</td>\n",
       "      <td>0</td>\n",
       "      <td>5623</td>\n",
       "      <td>33</td>\n",
       "      <td>среднее</td>\n",
       "      <td>1</td>\n",
       "      <td>женат / замужем</td>\n",
       "      <td>0</td>\n",
       "      <td>M</td>\n",
       "      <td>сотрудник</td>\n",
       "      <td>0</td>\n",
       "      <td>145885</td>\n",
       "      <td>покупка жилья</td>\n",
       "      <td>взрослые</td>\n",
       "      <td>[покупка,  , жилье, \\n]</td>\n",
       "      <td>недвижимость</td>\n",
       "      <td>средний доход</td>\n",
       "    </tr>\n",
       "    <tr>\n",
       "      <td>3</td>\n",
       "      <td>3</td>\n",
       "      <td>4124</td>\n",
       "      <td>32</td>\n",
       "      <td>среднее</td>\n",
       "      <td>1</td>\n",
       "      <td>женат / замужем</td>\n",
       "      <td>0</td>\n",
       "      <td>M</td>\n",
       "      <td>сотрудник</td>\n",
       "      <td>0</td>\n",
       "      <td>267628</td>\n",
       "      <td>дополнительное образование</td>\n",
       "      <td>взрослые</td>\n",
       "      <td>[дополнительный,  , образование, \\n]</td>\n",
       "      <td>образование</td>\n",
       "      <td>высокий доход</td>\n",
       "    </tr>\n",
       "    <tr>\n",
       "      <td>4</td>\n",
       "      <td>0</td>\n",
       "      <td>340266</td>\n",
       "      <td>53</td>\n",
       "      <td>среднее</td>\n",
       "      <td>1</td>\n",
       "      <td>гражданский брак</td>\n",
       "      <td>1</td>\n",
       "      <td>F</td>\n",
       "      <td>пенсионер</td>\n",
       "      <td>0</td>\n",
       "      <td>158616</td>\n",
       "      <td>сыграть свадьбу</td>\n",
       "      <td>взрослые</td>\n",
       "      <td>[сыграть,  , свадьба, \\n]</td>\n",
       "      <td>свадьба</td>\n",
       "      <td>средний доход</td>\n",
       "    </tr>\n",
       "    <tr>\n",
       "      <td>5</td>\n",
       "      <td>0</td>\n",
       "      <td>926</td>\n",
       "      <td>27</td>\n",
       "      <td>высшее</td>\n",
       "      <td>0</td>\n",
       "      <td>гражданский брак</td>\n",
       "      <td>1</td>\n",
       "      <td>M</td>\n",
       "      <td>компаньон</td>\n",
       "      <td>0</td>\n",
       "      <td>255763</td>\n",
       "      <td>покупка жилья</td>\n",
       "      <td>молодежь</td>\n",
       "      <td>[покупка,  , жилье, \\n]</td>\n",
       "      <td>недвижимость</td>\n",
       "      <td>высокий доход</td>\n",
       "    </tr>\n",
       "    <tr>\n",
       "      <td>6</td>\n",
       "      <td>0</td>\n",
       "      <td>2879</td>\n",
       "      <td>43</td>\n",
       "      <td>высшее</td>\n",
       "      <td>0</td>\n",
       "      <td>женат / замужем</td>\n",
       "      <td>0</td>\n",
       "      <td>F</td>\n",
       "      <td>компаньон</td>\n",
       "      <td>0</td>\n",
       "      <td>240525</td>\n",
       "      <td>операции с жильем</td>\n",
       "      <td>взрослые</td>\n",
       "      <td>[операция,  , с,  , жилье, \\n]</td>\n",
       "      <td>недвижимость</td>\n",
       "      <td>высокий доход</td>\n",
       "    </tr>\n",
       "    <tr>\n",
       "      <td>7</td>\n",
       "      <td>0</td>\n",
       "      <td>152</td>\n",
       "      <td>50</td>\n",
       "      <td>среднее</td>\n",
       "      <td>1</td>\n",
       "      <td>женат / замужем</td>\n",
       "      <td>0</td>\n",
       "      <td>M</td>\n",
       "      <td>сотрудник</td>\n",
       "      <td>0</td>\n",
       "      <td>135823</td>\n",
       "      <td>образование</td>\n",
       "      <td>взрослые</td>\n",
       "      <td>[образование, \\n]</td>\n",
       "      <td>образование</td>\n",
       "      <td>средний доход</td>\n",
       "    </tr>\n",
       "    <tr>\n",
       "      <td>8</td>\n",
       "      <td>2</td>\n",
       "      <td>6929</td>\n",
       "      <td>35</td>\n",
       "      <td>высшее</td>\n",
       "      <td>0</td>\n",
       "      <td>гражданский брак</td>\n",
       "      <td>1</td>\n",
       "      <td>F</td>\n",
       "      <td>сотрудник</td>\n",
       "      <td>0</td>\n",
       "      <td>95856</td>\n",
       "      <td>на проведение свадьбы</td>\n",
       "      <td>взрослые</td>\n",
       "      <td>[на,  , проведение,  , свадьба, \\n]</td>\n",
       "      <td>свадьба</td>\n",
       "      <td>низкий доход</td>\n",
       "    </tr>\n",
       "    <tr>\n",
       "      <td>9</td>\n",
       "      <td>0</td>\n",
       "      <td>2188</td>\n",
       "      <td>41</td>\n",
       "      <td>среднее</td>\n",
       "      <td>1</td>\n",
       "      <td>женат / замужем</td>\n",
       "      <td>0</td>\n",
       "      <td>M</td>\n",
       "      <td>сотрудник</td>\n",
       "      <td>0</td>\n",
       "      <td>144425</td>\n",
       "      <td>покупка жилья для семьи</td>\n",
       "      <td>взрослые</td>\n",
       "      <td>[покупка,  , жилье,  , для,  , семья, \\n]</td>\n",
       "      <td>недвижимость</td>\n",
       "      <td>средний доход</td>\n",
       "    </tr>\n",
       "  </tbody>\n",
       "</table>\n",
       "</div>"
      ],
      "text/plain": [
       "   children  days_employed  dob_years education  education_id  \\\n",
       "0         1           8437         42    высшее             0   \n",
       "1         1           4024         36   среднее             1   \n",
       "2         0           5623         33   среднее             1   \n",
       "3         3           4124         32   среднее             1   \n",
       "4         0         340266         53   среднее             1   \n",
       "5         0            926         27    высшее             0   \n",
       "6         0           2879         43    высшее             0   \n",
       "7         0            152         50   среднее             1   \n",
       "8         2           6929         35    высшее             0   \n",
       "9         0           2188         41   среднее             1   \n",
       "\n",
       "      family_status  family_status_id gender income_type  debt  total_income  \\\n",
       "0   женат / замужем                 0      F   сотрудник     0        253875   \n",
       "1   женат / замужем                 0      F   сотрудник     0        112080   \n",
       "2   женат / замужем                 0      M   сотрудник     0        145885   \n",
       "3   женат / замужем                 0      M   сотрудник     0        267628   \n",
       "4  гражданский брак                 1      F   пенсионер     0        158616   \n",
       "5  гражданский брак                 1      M   компаньон     0        255763   \n",
       "6   женат / замужем                 0      F   компаньон     0        240525   \n",
       "7   женат / замужем                 0      M   сотрудник     0        135823   \n",
       "8  гражданский брак                 1      F   сотрудник     0         95856   \n",
       "9   женат / замужем                 0      M   сотрудник     0        144425   \n",
       "\n",
       "                      purpose age_group  \\\n",
       "0               покупка жилья  взрослые   \n",
       "1     приобретение автомобиля  взрослые   \n",
       "2               покупка жилья  взрослые   \n",
       "3  дополнительное образование  взрослые   \n",
       "4             сыграть свадьбу  взрослые   \n",
       "5               покупка жилья  молодежь   \n",
       "6           операции с жильем  взрослые   \n",
       "7                 образование  взрослые   \n",
       "8       на проведение свадьбы  взрослые   \n",
       "9     покупка жилья для семьи  взрослые   \n",
       "\n",
       "                                 purpose_lem   purpose_new total_income_level  \n",
       "0                    [покупка,  , жилье, \\n]  недвижимость      высокий доход  \n",
       "1          [приобретение,  , автомобиль, \\n]    автомобиль      средний доход  \n",
       "2                    [покупка,  , жилье, \\n]  недвижимость      средний доход  \n",
       "3       [дополнительный,  , образование, \\n]   образование      высокий доход  \n",
       "4                  [сыграть,  , свадьба, \\n]       свадьба      средний доход  \n",
       "5                    [покупка,  , жилье, \\n]  недвижимость      высокий доход  \n",
       "6             [операция,  , с,  , жилье, \\n]  недвижимость      высокий доход  \n",
       "7                          [образование, \\n]   образование      средний доход  \n",
       "8        [на,  , проведение,  , свадьба, \\n]       свадьба       низкий доход  \n",
       "9  [покупка,  , жилье,  , для,  , семья, \\n]  недвижимость      средний доход  "
      ]
     },
     "execution_count": 48,
     "metadata": {},
     "output_type": "execute_result"
    }
   ],
   "source": [
    "# вывод первых 10ти строк таблицы\n",
    "data.head(10)"
   ]
  },
  {
   "cell_type": "markdown",
   "metadata": {},
   "source": [
    "### Вывод\n",
    "Для категоризации целей кредита выбран следующий словарь ['недвижимость','автомобиль','образование','свадьба']. Это основные цели получения кредита (максимальное количество заемщиков). Для категоризации дохода создали словарь ['средний доход' 'низкий доход' 'высокий доход']. Все необходимые для анализа данные подготовлены.\n"
   ]
  },
  {
   "cell_type": "markdown",
   "metadata": {},
   "source": [
    "### Шаг 3. Исследование зависимостей"
   ]
  },
  {
   "cell_type": "markdown",
   "metadata": {},
   "source": [
    "- Есть ли зависимость между наличием детей и возвратом кредита в срок?"
   ]
  },
  {
   "cell_type": "markdown",
   "metadata": {},
   "source": [
    "Представим данные наглядно.\n",
    "Первый способ:"
   ]
  },
  {
   "cell_type": "code",
   "execution_count": 49,
   "metadata": {},
   "outputs": [
    {
     "data": {
      "text/html": [
       "<div>\n",
       "<style scoped>\n",
       "    .dataframe tbody tr th:only-of-type {\n",
       "        vertical-align: middle;\n",
       "    }\n",
       "\n",
       "    .dataframe tbody tr th {\n",
       "        vertical-align: top;\n",
       "    }\n",
       "\n",
       "    .dataframe thead th {\n",
       "        text-align: right;\n",
       "    }\n",
       "</style>\n",
       "<table border=\"1\" class=\"dataframe\">\n",
       "  <thead>\n",
       "    <tr style=\"text-align: right;\">\n",
       "      <th></th>\n",
       "      <th>Заемщики</th>\n",
       "      <th>% должников</th>\n",
       "    </tr>\n",
       "    <tr>\n",
       "      <th>children</th>\n",
       "      <th></th>\n",
       "      <th></th>\n",
       "    </tr>\n",
       "  </thead>\n",
       "  <tbody>\n",
       "    <tr>\n",
       "      <td>20</td>\n",
       "      <td>76</td>\n",
       "      <td>10.53</td>\n",
       "    </tr>\n",
       "    <tr>\n",
       "      <td>4</td>\n",
       "      <td>41</td>\n",
       "      <td>9.76</td>\n",
       "    </tr>\n",
       "    <tr>\n",
       "      <td>2</td>\n",
       "      <td>2052</td>\n",
       "      <td>9.45</td>\n",
       "    </tr>\n",
       "    <tr>\n",
       "      <td>1</td>\n",
       "      <td>4808</td>\n",
       "      <td>9.23</td>\n",
       "    </tr>\n",
       "    <tr>\n",
       "      <td>3</td>\n",
       "      <td>330</td>\n",
       "      <td>8.18</td>\n",
       "    </tr>\n",
       "    <tr>\n",
       "      <td>0</td>\n",
       "      <td>14090</td>\n",
       "      <td>7.54</td>\n",
       "    </tr>\n",
       "    <tr>\n",
       "      <td>5</td>\n",
       "      <td>9</td>\n",
       "      <td>0.00</td>\n",
       "    </tr>\n",
       "  </tbody>\n",
       "</table>\n",
       "</div>"
      ],
      "text/plain": [
       "          Заемщики  % должников\n",
       "children                       \n",
       "20              76        10.53\n",
       "4               41         9.76\n",
       "2             2052         9.45\n",
       "1             4808         9.23\n",
       "3              330         8.18\n",
       "0            14090         7.54\n",
       "5                9         0.00"
      ]
     },
     "execution_count": 49,
     "metadata": {},
     "output_type": "execute_result"
    }
   ],
   "source": [
    "debt_children = (data.groupby('children')\n",
    "                 .agg({'family_status':'count','debt':'mean'})\n",
    "                 .sort_values(by='debt',ascending=False)\n",
    "                 .rename(columns={'family_status':'Заемщики','debt':'% должников'})\n",
    "                )\n",
    "\n",
    "#одной строкой: \n",
    "#группировка данных по столбцу 'children'\n",
    "# в этой группировке методом 'mean' подсчёт среднего арифметического значений столбца 'debt'\n",
    "# сортировка в порядке убывания по столбцу 'debt'\n",
    "# переименование столбцов 'family_status' и 'debt'\n",
    "# сохранение в debt_children\n",
    "debt_children['% должников'] = debt_children['% должников'].round(4)*100 # переыодим в % и округляем\n",
    "debt_children"
   ]
  },
  {
   "cell_type": "markdown",
   "metadata": {},
   "source": [
    "### Вывод\n",
    "Клиенты, у которых в семье 5 дтей всегда погашают кредит в срок. Из оставшихся категорий у бездетных клиентов самый низкий процент непогашения кредита (7.54%), самый высокий процент непогашения (10,5%) у семей с 20ю детьми. Значит, факт наличия детей у клиента влияет на факт погашения кредита в срок."
   ]
  },
  {
   "cell_type": "markdown",
   "metadata": {},
   "source": [
    "- Есть ли зависимость между семейным положением и возвратом кредита в срок?"
   ]
  },
  {
   "cell_type": "code",
   "execution_count": 52,
   "metadata": {},
   "outputs": [
    {
     "data": {
      "text/html": [
       "<div>\n",
       "<style scoped>\n",
       "    .dataframe tbody tr th:only-of-type {\n",
       "        vertical-align: middle;\n",
       "    }\n",
       "\n",
       "    .dataframe tbody tr th {\n",
       "        vertical-align: top;\n",
       "    }\n",
       "\n",
       "    .dataframe thead th {\n",
       "        text-align: right;\n",
       "    }\n",
       "</style>\n",
       "<table border=\"1\" class=\"dataframe\">\n",
       "  <thead>\n",
       "    <tr style=\"text-align: right;\">\n",
       "      <th></th>\n",
       "      <th>% должников</th>\n",
       "    </tr>\n",
       "    <tr>\n",
       "      <th>family_status</th>\n",
       "      <th></th>\n",
       "    </tr>\n",
       "  </thead>\n",
       "  <tbody>\n",
       "    <tr>\n",
       "      <td>Не женат / не замужем</td>\n",
       "      <td>9.77</td>\n",
       "    </tr>\n",
       "    <tr>\n",
       "      <td>в разводе</td>\n",
       "      <td>7.14</td>\n",
       "    </tr>\n",
       "    <tr>\n",
       "      <td>вдовец / вдова</td>\n",
       "      <td>6.60</td>\n",
       "    </tr>\n",
       "    <tr>\n",
       "      <td>гражданский брак</td>\n",
       "      <td>9.36</td>\n",
       "    </tr>\n",
       "    <tr>\n",
       "      <td>женат / замужем</td>\n",
       "      <td>7.55</td>\n",
       "    </tr>\n",
       "  </tbody>\n",
       "</table>\n",
       "</div>"
      ],
      "text/plain": [
       "                       % должников\n",
       "family_status                     \n",
       "Не женат / не замужем         9.77\n",
       "в разводе                     7.14\n",
       "вдовец / вдова                6.60\n",
       "гражданский брак              9.36\n",
       "женат / замужем               7.55"
      ]
     },
     "execution_count": 52,
     "metadata": {},
     "output_type": "execute_result"
    }
   ],
   "source": [
    "data_pivot_family_status = data.pivot_table(index='family_status', aggfunc={'debt':'mean'}).rename(columns={'debt':'% должников'})\n",
    "data_pivot_family_status['% должников'] = data_pivot_family_status['% должников'].round(4)*100\n",
    "data_pivot_family_status"
   ]
  },
  {
   "cell_type": "markdown",
   "metadata": {},
   "source": [
    "### Вывод\n",
    "Результаты показывают, что процент непогашения кредита в срок больше у не женатых/не замужних и людей, состоящих в гражданском браке (9,77% и 9,36% соответственно). Вдовы/вдовцы самые ответственные клиенты, процент непогашения в срок 6,6%. Значит семейное положение клиента влияет на факт погашения кредита в срок. У клиентов в разводе или женатых/замужних процент примерно одинаков - 7,14% и 7,55% соответственно."
   ]
  },
  {
   "cell_type": "markdown",
   "metadata": {},
   "source": [
    "- Есть ли зависимость между уровнем дохода и возвратом кредита в срок?"
   ]
  },
  {
   "cell_type": "code",
   "execution_count": 53,
   "metadata": {},
   "outputs": [
    {
     "data": {
      "text/html": [
       "<div>\n",
       "<style scoped>\n",
       "    .dataframe tbody tr th:only-of-type {\n",
       "        vertical-align: middle;\n",
       "    }\n",
       "\n",
       "    .dataframe tbody tr th {\n",
       "        vertical-align: top;\n",
       "    }\n",
       "\n",
       "    .dataframe thead th {\n",
       "        text-align: right;\n",
       "    }\n",
       "</style>\n",
       "<table border=\"1\" class=\"dataframe\">\n",
       "  <thead>\n",
       "    <tr style=\"text-align: right;\">\n",
       "      <th></th>\n",
       "      <th>% должников</th>\n",
       "    </tr>\n",
       "    <tr>\n",
       "      <th>total_income_level</th>\n",
       "      <th></th>\n",
       "    </tr>\n",
       "  </thead>\n",
       "  <tbody>\n",
       "    <tr>\n",
       "      <td>высокий доход</td>\n",
       "      <td>7.16</td>\n",
       "    </tr>\n",
       "    <tr>\n",
       "      <td>низкий доход</td>\n",
       "      <td>7.98</td>\n",
       "    </tr>\n",
       "    <tr>\n",
       "      <td>средний доход</td>\n",
       "      <td>8.69</td>\n",
       "    </tr>\n",
       "  </tbody>\n",
       "</table>\n",
       "</div>"
      ],
      "text/plain": [
       "                    % должников\n",
       "total_income_level             \n",
       "высокий доход              7.16\n",
       "низкий доход               7.98\n",
       "средний доход              8.69"
      ]
     },
     "execution_count": 53,
     "metadata": {},
     "output_type": "execute_result"
    }
   ],
   "source": [
    "data_pivot_total_income_level = data.pivot_table(index='total_income_level', aggfunc={'debt':'mean'}).rename(columns={'debt':'% должников'})\n",
    "data_pivot_total_income_level['% должников'] = data_pivot_total_income_level['% должников'].round(4)*100\n",
    "data_pivot_total_income_level"
   ]
  },
  {
   "cell_type": "markdown",
   "metadata": {},
   "source": [
    "### Вывод\n",
    "Результаты показывают, что чаще непогашают кредит в срок клиенты со средним уровнем дохода (8,69%). Самыми добросовестными оказались клиенты с высоким уровнеи дохода (7,16%). У клиентов с низким уровнем дохода процент непогашения составил 7,98%. Значит, уровень дохода клиента влияет на факт погашения кредита в срок."
   ]
  },
  {
   "cell_type": "markdown",
   "metadata": {},
   "source": [
    "- Как разные цели кредита влияют на его возврат в срок?"
   ]
  },
  {
   "cell_type": "code",
   "execution_count": 54,
   "metadata": {},
   "outputs": [
    {
     "name": "stdout",
     "output_type": "stream",
     "text": [
      "              % должников\n",
      "purpose_new              \n",
      "автомобиль           9.36\n",
      "недвижимость         7.25\n",
      "образование          9.24\n",
      "свадьба              8.01\n"
     ]
    }
   ],
   "source": [
    "data_pivot_purpose_new = data.pivot_table(index='purpose_new', aggfunc={'debt':'mean'}).rename(columns={'debt':'% должников'})\n",
    "data_pivot_purpose_new['% должников'] = data_pivot_purpose_new['% должников'].round(4)*100\n",
    "print(data_pivot_purpose_new)"
   ]
  },
  {
   "cell_type": "markdown",
   "metadata": {},
   "source": [
    "### Вывод\n",
    "Результаты показывают, что процент непогашения кредита в срок равен примерно 7-9% по каждой категории. По кредитам на недвижимость самый маленький процент непогашения (7,25), видимо потому, что кредит на недвижимость берется более осознанно и на длительный срок. Самый большой процент непогашения кредитов у клиентов, берущих кредиты на автомобиль (9,36%) и образование (9,24%). Процент должников, берущих кредит на свадьбу, составляет 8,01%."
   ]
  },
  {
   "cell_type": "markdown",
   "metadata": {},
   "source": [
    "### Шаг 4. Общий вывод"
   ]
  },
  {
   "cell_type": "markdown",
   "metadata": {},
   "source": [
    "Исходный файл прочитан и превращен в структуру данных. Просмотрены данные о таблице. Проведена предподготовка данных:устранены пропуски и повторы. Данные были сгруппированы по целям кредита и уровню дохода клиентов. На основании проведенного анализа можно сделать вывод, что на факт погашения кредита в срок влияют: количество детей клиента, его семейное положение, уровень дохода, цель кредита. Дополнительно можно провести анализ платежеспособности клинта по его уровню образования, возрасту, полу, типу занятости."
   ]
  },
  {
   "cell_type": "code",
   "execution_count": 55,
   "metadata": {},
   "outputs": [
    {
     "data": {
      "text/html": [
       "<div>\n",
       "<style scoped>\n",
       "    .dataframe tbody tr th:only-of-type {\n",
       "        vertical-align: middle;\n",
       "    }\n",
       "\n",
       "    .dataframe tbody tr th {\n",
       "        vertical-align: top;\n",
       "    }\n",
       "\n",
       "    .dataframe thead th {\n",
       "        text-align: right;\n",
       "    }\n",
       "</style>\n",
       "<table border=\"1\" class=\"dataframe\">\n",
       "  <thead>\n",
       "    <tr style=\"text-align: right;\">\n",
       "      <th></th>\n",
       "      <th>% должников</th>\n",
       "    </tr>\n",
       "    <tr>\n",
       "      <th>education</th>\n",
       "      <th></th>\n",
       "    </tr>\n",
       "  </thead>\n",
       "  <tbody>\n",
       "    <tr>\n",
       "      <td>высшее</td>\n",
       "      <td>5.30</td>\n",
       "    </tr>\n",
       "    <tr>\n",
       "      <td>начальное</td>\n",
       "      <td>10.99</td>\n",
       "    </tr>\n",
       "    <tr>\n",
       "      <td>неоконченное высшее</td>\n",
       "      <td>9.16</td>\n",
       "    </tr>\n",
       "    <tr>\n",
       "      <td>среднее</td>\n",
       "      <td>9.01</td>\n",
       "    </tr>\n",
       "    <tr>\n",
       "      <td>ученая степень</td>\n",
       "      <td>0.00</td>\n",
       "    </tr>\n",
       "  </tbody>\n",
       "</table>\n",
       "</div>"
      ],
      "text/plain": [
       "                     % должников\n",
       "education                       \n",
       "высшее                      5.30\n",
       "начальное                  10.99\n",
       "неоконченное высшее         9.16\n",
       "среднее                     9.01\n",
       "ученая степень              0.00"
      ]
     },
     "execution_count": 55,
     "metadata": {},
     "output_type": "execute_result"
    }
   ],
   "source": [
    "# Например, анализ платежеспособности клинта по его уровню образования\n",
    "data_pivot_education = data.pivot_table(index='education', aggfunc={'debt':'mean'}).rename(columns={'debt':'% должников'})\n",
    "data_pivot_education['% должников'] = data_pivot_education['% должников'].round(4)*100\n",
    "data_pivot_education"
   ]
  },
  {
   "cell_type": "markdown",
   "metadata": {},
   "source": [
    "Результаты показывают, что процент непогашения кредита в срок больше у людей, не имеющих высшее образование. Самые плохие показатели у людей с начальным образованием. Клиенты с ученой степенью всегда погашают кредиты в срок. Значит, уровень образования влияет на факт погашения кредита в срок. Чем больше человек учиться, тем он более надежный клиент."
   ]
  }
 ],
 "metadata": {
  "kernelspec": {
   "display_name": "Python 3",
   "language": "python",
   "name": "python3"
  },
  "language_info": {
   "codemirror_mode": {
    "name": "ipython",
    "version": 3
   },
   "file_extension": ".py",
   "mimetype": "text/x-python",
   "name": "python",
   "nbconvert_exporter": "python",
   "pygments_lexer": "ipython3",
   "version": "3.7.6"
  }
 },
 "nbformat": 4,
 "nbformat_minor": 2
}
